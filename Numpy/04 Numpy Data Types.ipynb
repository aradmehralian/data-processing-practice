{
 "cells": [
  {
   "cell_type": "markdown",
   "id": "ffe1652c",
   "metadata": {},
   "source": [
    "# Coding Practice Session 4\n",
    "## NumPy Data Types"
   ]
  },
  {
   "cell_type": "code",
   "execution_count": 1,
   "id": "33d0c4d4",
   "metadata": {},
   "outputs": [],
   "source": [
    "import numpy as np"
   ]
  },
  {
   "cell_type": "code",
   "execution_count": 2,
   "id": "66d9cbaf",
   "metadata": {},
   "outputs": [],
   "source": [
    "arr = np.array([1, 2, 3, 4], dtype=\"i4\")"
   ]
  },
  {
   "cell_type": "code",
   "execution_count": 3,
   "id": "6ebfa684",
   "metadata": {},
   "outputs": [
    {
     "data": {
      "text/plain": [
       "array([1, 2, 3, 4], dtype=int32)"
      ]
     },
     "execution_count": 3,
     "metadata": {},
     "output_type": "execute_result"
    }
   ],
   "source": [
    "arr"
   ]
  },
  {
   "cell_type": "code",
   "execution_count": 4,
   "id": "37a8cceb",
   "metadata": {},
   "outputs": [
    {
     "data": {
      "text/plain": [
       "dtype('int32')"
      ]
     },
     "execution_count": 4,
     "metadata": {},
     "output_type": "execute_result"
    }
   ],
   "source": [
    "arr.dtype"
   ]
  },
  {
   "cell_type": "markdown",
   "id": "c251aba0",
   "metadata": {},
   "source": [
    "### Numeric Data Types"
   ]
  },
  {
   "cell_type": "code",
   "execution_count": 9,
   "id": "1968d53a",
   "metadata": {},
   "outputs": [
    {
     "data": {
      "text/plain": [
       "array([500, 350, 879], dtype=uint16)"
      ]
     },
     "execution_count": 9,
     "metadata": {},
     "output_type": "execute_result"
    }
   ],
   "source": [
    "np.array([500, 350, 879], dtype=np.uint16)"
   ]
  },
  {
   "cell_type": "code",
   "execution_count": 10,
   "id": "c8eaa9a4",
   "metadata": {},
   "outputs": [
    {
     "data": {
      "text/plain": [
       "array([-250,   85,  -45], dtype=int16)"
      ]
     },
     "execution_count": 10,
     "metadata": {},
     "output_type": "execute_result"
    }
   ],
   "source": [
    "np.array([-250, 85, -45], dtype=\"i2\")"
   ]
  },
  {
   "cell_type": "code",
   "execution_count": 12,
   "id": "f30bea8d",
   "metadata": {},
   "outputs": [
    {
     "data": {
      "text/plain": [
       "array([ -1.5 ,  10.88, 330.5 ], dtype=float16)"
      ]
     },
     "execution_count": 12,
     "metadata": {},
     "output_type": "execute_result"
    }
   ],
   "source": [
    "np.array([-1.5, 10.88, 330.56], dtype=np.float16)"
   ]
  },
  {
   "cell_type": "code",
   "execution_count": 13,
   "id": "aacdbe20",
   "metadata": {},
   "outputs": [
    {
     "data": {
      "text/plain": [
       "array([10.   , 10.65 , 11.3  , 11.945, 12.59 , 13.24 , 13.89 , 14.54 ],\n",
       "      dtype=float16)"
      ]
     },
     "execution_count": 13,
     "metadata": {},
     "output_type": "execute_result"
    }
   ],
   "source": [
    "np.arange(10, 15, 0.65, dtype=\"f2\")"
   ]
  },
  {
   "cell_type": "code",
   "execution_count": 14,
   "id": "164c0b98",
   "metadata": {},
   "outputs": [
    {
     "data": {
      "text/plain": [
       "array([ 0.5 +4.j, 32. -10.j], dtype=complex64)"
      ]
     },
     "execution_count": 14,
     "metadata": {},
     "output_type": "execute_result"
    }
   ],
   "source": [
    "np.array([0.5 + 4j, 32 - 10j], dtype=np.complex64)"
   ]
  },
  {
   "cell_type": "code",
   "execution_count": 16,
   "id": "de3b7542",
   "metadata": {},
   "outputs": [
    {
     "data": {
      "text/plain": [
       "array([11. +2.j, 15.-12.j], dtype=complex64)"
      ]
     },
     "execution_count": 16,
     "metadata": {},
     "output_type": "execute_result"
    }
   ],
   "source": [
    "np.array([11 + 2j, 15 - 12j], dtype=\"c8\")"
   ]
  },
  {
   "cell_type": "markdown",
   "id": "70f92e2e",
   "metadata": {},
   "source": [
    "### Boolean Data Types"
   ]
  },
  {
   "cell_type": "code",
   "execution_count": 17,
   "id": "dab800b6",
   "metadata": {},
   "outputs": [
    {
     "data": {
      "text/plain": [
       "array([ True, False,  True,  True, False])"
      ]
     },
     "execution_count": 17,
     "metadata": {},
     "output_type": "execute_result"
    }
   ],
   "source": [
    "arr = np.array([True, False, True, True, False])\n",
    "arr"
   ]
  },
  {
   "cell_type": "code",
   "execution_count": 18,
   "id": "42e6abdb",
   "metadata": {},
   "outputs": [
    {
     "data": {
      "text/plain": [
       "dtype('bool')"
      ]
     },
     "execution_count": 18,
     "metadata": {},
     "output_type": "execute_result"
    }
   ],
   "source": [
    "arr.dtype"
   ]
  },
  {
   "cell_type": "code",
   "execution_count": 21,
   "id": "f9521db3",
   "metadata": {},
   "outputs": [
    {
     "data": {
      "text/plain": [
       "array([ True,  True,  True, False,  True])"
      ]
     },
     "execution_count": 21,
     "metadata": {},
     "output_type": "execute_result"
    }
   ],
   "source": [
    "np.array([-22, 3, 4, 0, 8], dtype=np.bool)"
   ]
  },
  {
   "cell_type": "code",
   "execution_count": 22,
   "id": "8d9af382",
   "metadata": {},
   "outputs": [],
   "source": [
    "arr = np.array([1, 2, 3, 4, 5])"
   ]
  },
  {
   "cell_type": "code",
   "execution_count": 23,
   "id": "84f8d798",
   "metadata": {},
   "outputs": [
    {
     "data": {
      "text/plain": [
       "array([False, False, False,  True,  True])"
      ]
     },
     "execution_count": 23,
     "metadata": {},
     "output_type": "execute_result"
    }
   ],
   "source": [
    "mask = arr > 3\n",
    "mask"
   ]
  },
  {
   "cell_type": "code",
   "execution_count": 24,
   "id": "870f7115",
   "metadata": {},
   "outputs": [
    {
     "data": {
      "text/plain": [
       "dtype('bool')"
      ]
     },
     "execution_count": 24,
     "metadata": {},
     "output_type": "execute_result"
    }
   ],
   "source": [
    "mask.dtype"
   ]
  },
  {
   "cell_type": "code",
   "execution_count": 25,
   "id": "d227bced",
   "metadata": {},
   "outputs": [
    {
     "data": {
      "text/plain": [
       "array([False,  True, False, False, False])"
      ]
     },
     "execution_count": 25,
     "metadata": {},
     "output_type": "execute_result"
    }
   ],
   "source": [
    "arr == 2"
   ]
  },
  {
   "cell_type": "code",
   "execution_count": 26,
   "id": "77b25433",
   "metadata": {},
   "outputs": [
    {
     "data": {
      "text/plain": [
       "array([False, False,  True,  True, False])"
      ]
     },
     "execution_count": 26,
     "metadata": {},
     "output_type": "execute_result"
    }
   ],
   "source": [
    "(arr > 2) & (arr <= 4)"
   ]
  },
  {
   "cell_type": "code",
   "execution_count": 28,
   "id": "b949628a",
   "metadata": {},
   "outputs": [
    {
     "data": {
      "text/plain": [
       "array([3, 4, 5])"
      ]
     },
     "execution_count": 28,
     "metadata": {},
     "output_type": "execute_result"
    }
   ],
   "source": [
    "arr[arr >= 2.5]"
   ]
  },
  {
   "cell_type": "code",
   "execution_count": 29,
   "id": "12fa541f",
   "metadata": {},
   "outputs": [
    {
     "data": {
      "text/plain": [
       "array([4, 5])"
      ]
     },
     "execution_count": 29,
     "metadata": {},
     "output_type": "execute_result"
    }
   ],
   "source": [
    "arr[mask]"
   ]
  },
  {
   "cell_type": "code",
   "execution_count": 30,
   "id": "868b76ca",
   "metadata": {},
   "outputs": [
    {
     "data": {
      "text/plain": [
       "array([1, 2, 3, 0, 0])"
      ]
     },
     "execution_count": 30,
     "metadata": {},
     "output_type": "execute_result"
    }
   ],
   "source": [
    "arr[mask] = 0\n",
    "arr"
   ]
  },
  {
   "cell_type": "markdown",
   "id": "e4b7dd26",
   "metadata": {},
   "source": [
    "### String Data Type"
   ]
  },
  {
   "cell_type": "code",
   "execution_count": 31,
   "id": "95b55dfa",
   "metadata": {},
   "outputs": [
    {
     "data": {
      "text/plain": [
       "array([b'Hello', b'World'], dtype='|S10')"
      ]
     },
     "execution_count": 31,
     "metadata": {},
     "output_type": "execute_result"
    }
   ],
   "source": [
    "np.array([\"Hello\", \"World\"], dtype=\"S10\")"
   ]
  },
  {
   "cell_type": "code",
   "execution_count": 33,
   "id": "6543bc1a",
   "metadata": {},
   "outputs": [
    {
     "data": {
      "text/plain": [
       "array([b'Some', b'Anyo'], dtype='|S4')"
      ]
     },
     "execution_count": 33,
     "metadata": {},
     "output_type": "execute_result"
    }
   ],
   "source": [
    "np.array([\"Somethings\", \"Anyone\"], dtype=\"S4\")"
   ]
  },
  {
   "cell_type": "code",
   "execution_count": 35,
   "id": "4683d58d",
   "metadata": {},
   "outputs": [
    {
     "data": {
      "text/plain": [
       "array(['Hello', 'آراد'], dtype='<U10')"
      ]
     },
     "execution_count": 35,
     "metadata": {},
     "output_type": "execute_result"
    }
   ],
   "source": [
    "np.array([\"Hello\", \"آراد\"], dtype=\"U10\")"
   ]
  },
  {
   "cell_type": "code",
   "execution_count": 42,
   "id": "5a2e961f",
   "metadata": {},
   "outputs": [
    {
     "data": {
      "text/plain": [
       "array(['apple', 'banana', 'cherry', 'kiwi'], dtype='<U6')"
      ]
     },
     "execution_count": 42,
     "metadata": {},
     "output_type": "execute_result"
    }
   ],
   "source": [
    "arr = np.array([\"apple\", \"banana\", \"cherry\", \"kiwi\"])\n",
    "arr"
   ]
  },
  {
   "cell_type": "code",
   "execution_count": null,
   "id": "0213c3e1",
   "metadata": {},
   "outputs": [
    {
     "data": {
      "text/plain": [
       "array([False,  True, False, False])"
      ]
     },
     "execution_count": 43,
     "metadata": {},
     "output_type": "execute_result"
    }
   ],
   "source": [
    "arr == \"banana\""
   ]
  },
  {
   "cell_type": "code",
   "execution_count": 44,
   "id": "4271f37b",
   "metadata": {},
   "outputs": [
    {
     "data": {
      "text/plain": [
       "array([ True,  True, False, False])"
      ]
     },
     "execution_count": 44,
     "metadata": {},
     "output_type": "execute_result"
    }
   ],
   "source": [
    "arr < \"cherry\""
   ]
  },
  {
   "cell_type": "code",
   "execution_count": 45,
   "id": "1f751f6e",
   "metadata": {},
   "outputs": [],
   "source": [
    "arr1 = np.array([\"apple\", \"ice\"])\n",
    "arr2 = np.array([\"pie\", \"cream\"])"
   ]
  },
  {
   "cell_type": "code",
   "execution_count": 46,
   "id": "9561c0c4",
   "metadata": {},
   "outputs": [
    {
     "data": {
      "text/plain": [
       "array(['applepie', 'icecream'], dtype='<U10')"
      ]
     },
     "execution_count": 46,
     "metadata": {},
     "output_type": "execute_result"
    }
   ],
   "source": [
    "np.char.add(arr1, arr2)"
   ]
  },
  {
   "cell_type": "code",
   "execution_count": 47,
   "id": "1cd6851e",
   "metadata": {},
   "outputs": [
    {
     "data": {
      "text/plain": [
       "array(['apple', 'banana', 'cherry', 'kiwi'], dtype='<U6')"
      ]
     },
     "execution_count": 47,
     "metadata": {},
     "output_type": "execute_result"
    }
   ],
   "source": [
    "arr"
   ]
  },
  {
   "cell_type": "code",
   "execution_count": 50,
   "id": "b45ea032",
   "metadata": {},
   "outputs": [
    {
     "data": {
      "text/plain": [
       "array([-1, -1, -1,  2])"
      ]
     },
     "execution_count": 50,
     "metadata": {},
     "output_type": "execute_result"
    }
   ],
   "source": [
    "np.char.find(arr, \"w\")"
   ]
  },
  {
   "cell_type": "code",
   "execution_count": 51,
   "id": "7292e556",
   "metadata": {},
   "outputs": [
    {
     "data": {
      "text/plain": [
       "array(['APPLE', 'BANANA', 'CHERRY', 'KIWI'], dtype='<U6')"
      ]
     },
     "execution_count": 51,
     "metadata": {},
     "output_type": "execute_result"
    }
   ],
   "source": [
    "np.char.upper(arr)"
   ]
  },
  {
   "cell_type": "code",
   "execution_count": 52,
   "id": "b39f22c7",
   "metadata": {},
   "outputs": [
    {
     "data": {
      "text/plain": [
       "array(['Apple', 'Banana', 'Cherry', 'Kiwi'], dtype='<U6')"
      ]
     },
     "execution_count": 52,
     "metadata": {},
     "output_type": "execute_result"
    }
   ],
   "source": [
    "np.char.title(arr)"
   ]
  },
  {
   "cell_type": "markdown",
   "id": "0cc1fd53",
   "metadata": {},
   "source": [
    "### Object Data Type"
   ]
  },
  {
   "cell_type": "code",
   "execution_count": 56,
   "id": "c27e8890",
   "metadata": {},
   "outputs": [
    {
     "data": {
      "text/plain": [
       "array([1, 2.5, 'Hello', list([1, 2]), (4, 6)], dtype=object)"
      ]
     },
     "execution_count": 56,
     "metadata": {},
     "output_type": "execute_result"
    }
   ],
   "source": [
    "arr = np.array([1, 2.5, \"Hello\", [1, 2], (4, 6)], dtype=np.object_)\n",
    "arr"
   ]
  },
  {
   "cell_type": "code",
   "execution_count": 57,
   "id": "cd4ecf4f",
   "metadata": {},
   "outputs": [
    {
     "data": {
      "text/plain": [
       "2.5"
      ]
     },
     "execution_count": 57,
     "metadata": {},
     "output_type": "execute_result"
    }
   ],
   "source": [
    "arr[1]"
   ]
  },
  {
   "cell_type": "code",
   "execution_count": 58,
   "id": "45c6f4a5",
   "metadata": {},
   "outputs": [
    {
     "data": {
      "text/plain": [
       "[1, 2]"
      ]
     },
     "execution_count": 58,
     "metadata": {},
     "output_type": "execute_result"
    }
   ],
   "source": [
    "arr[3]"
   ]
  },
  {
   "cell_type": "code",
   "execution_count": 59,
   "id": "e5d283b7",
   "metadata": {},
   "outputs": [
    {
     "data": {
      "text/plain": [
       "'Hello'"
      ]
     },
     "execution_count": 59,
     "metadata": {},
     "output_type": "execute_result"
    }
   ],
   "source": [
    "arr[2]"
   ]
  },
  {
   "cell_type": "markdown",
   "id": "86cb1c6d",
   "metadata": {},
   "source": [
    "### Structured Data Types"
   ]
  },
  {
   "cell_type": "code",
   "execution_count": null,
   "id": "d9568fca",
   "metadata": {},
   "outputs": [],
   "source": [
    "data_types = [(\"name\", \"U10\"), (\"age\", \"u1\"), (\"height\", \"f2\")]\n",
    "arr = np.array([(\"John\", 25, 1.83), (\"Mary\", 32, 1.65), (\"Tim\", 7, 1.24)], dtype=data_types)"
   ]
  },
  {
   "cell_type": "code",
   "execution_count": 63,
   "id": "3a121686",
   "metadata": {},
   "outputs": [
    {
     "data": {
      "text/plain": [
       "dtype([('name', '<U10'), ('age', 'u1'), ('height', '<f2')])"
      ]
     },
     "execution_count": 63,
     "metadata": {},
     "output_type": "execute_result"
    }
   ],
   "source": [
    "arr.dtype"
   ]
  },
  {
   "cell_type": "code",
   "execution_count": 64,
   "id": "44502619",
   "metadata": {},
   "outputs": [
    {
     "data": {
      "text/plain": [
       "array(['John', 'Mary', 'Tim'], dtype='<U10')"
      ]
     },
     "execution_count": 64,
     "metadata": {},
     "output_type": "execute_result"
    }
   ],
   "source": [
    "arr[\"name\"]"
   ]
  },
  {
   "cell_type": "code",
   "execution_count": 65,
   "id": "01f5815b",
   "metadata": {},
   "outputs": [
    {
     "data": {
      "text/plain": [
       "array([25, 32,  7], dtype=uint8)"
      ]
     },
     "execution_count": 65,
     "metadata": {},
     "output_type": "execute_result"
    }
   ],
   "source": [
    "arr[\"age\"]"
   ]
  },
  {
   "cell_type": "code",
   "execution_count": 66,
   "id": "1aeb3a4a",
   "metadata": {},
   "outputs": [
    {
     "data": {
      "text/plain": [
       "np.void(('John', 25, 1.83), dtype=[('name', '<U10'), ('age', 'u1'), ('height', '<f2')])"
      ]
     },
     "execution_count": 66,
     "metadata": {},
     "output_type": "execute_result"
    }
   ],
   "source": [
    "arr[0]"
   ]
  },
  {
   "cell_type": "code",
   "execution_count": 67,
   "id": "5d46754f",
   "metadata": {},
   "outputs": [
    {
     "name": "stdout",
     "output_type": "stream",
     "text": [
      "('Mary', 32, 1.65)\n"
     ]
    }
   ],
   "source": [
    "print(arr[1])"
   ]
  },
  {
   "cell_type": "code",
   "execution_count": 69,
   "id": "851bbbc4",
   "metadata": {},
   "outputs": [
    {
     "data": {
      "text/plain": [
       "array([('John', 25, 1.83)],\n",
       "      dtype=[('name', '<U10'), ('age', 'u1'), ('height', '<f2')])"
      ]
     },
     "execution_count": 69,
     "metadata": {},
     "output_type": "execute_result"
    }
   ],
   "source": [
    "arr[arr[\"name\"] == \"John\"]"
   ]
  },
  {
   "cell_type": "code",
   "execution_count": 70,
   "id": "0f4372b7",
   "metadata": {},
   "outputs": [
    {
     "data": {
      "text/plain": [
       "array([('John', 25, 1.83), ('Mary', 32, 1.65)],\n",
       "      dtype=[('name', '<U10'), ('age', 'u1'), ('height', '<f2')])"
      ]
     },
     "execution_count": 70,
     "metadata": {},
     "output_type": "execute_result"
    }
   ],
   "source": [
    "arr[arr[\"age\"] > 18]"
   ]
  },
  {
   "cell_type": "markdown",
   "id": "4882559f",
   "metadata": {},
   "source": [
    "### Casting Data Types"
   ]
  },
  {
   "cell_type": "code",
   "execution_count": 71,
   "id": "bfa32f61",
   "metadata": {},
   "outputs": [],
   "source": [
    "arr_int = np.array([1, 2, 3])\n",
    "arr_float = np.array([0.75, 1.86, 2.5])"
   ]
  },
  {
   "cell_type": "code",
   "execution_count": 73,
   "id": "38825db5",
   "metadata": {},
   "outputs": [
    {
     "data": {
      "text/plain": [
       "array([1.75, 3.86, 5.5 ])"
      ]
     },
     "execution_count": 73,
     "metadata": {},
     "output_type": "execute_result"
    }
   ],
   "source": [
    "result = arr_int + arr_float\n",
    "result"
   ]
  },
  {
   "cell_type": "code",
   "execution_count": 74,
   "id": "2cdada32",
   "metadata": {},
   "outputs": [
    {
     "data": {
      "text/plain": [
       "dtype('float64')"
      ]
     },
     "execution_count": 74,
     "metadata": {},
     "output_type": "execute_result"
    }
   ],
   "source": [
    "result.dtype"
   ]
  },
  {
   "cell_type": "code",
   "execution_count": 75,
   "id": "cb94a121",
   "metadata": {},
   "outputs": [
    {
     "data": {
      "text/plain": [
       "array([0.75, 1.86, 2.5 ])"
      ]
     },
     "execution_count": 75,
     "metadata": {},
     "output_type": "execute_result"
    }
   ],
   "source": [
    "arr_float"
   ]
  },
  {
   "cell_type": "code",
   "execution_count": 76,
   "id": "aff99b70",
   "metadata": {},
   "outputs": [
    {
     "data": {
      "text/plain": [
       "array([0, 1, 2], dtype=int16)"
      ]
     },
     "execution_count": 76,
     "metadata": {},
     "output_type": "execute_result"
    }
   ],
   "source": [
    "arr_float.astype(np.int16)"
   ]
  },
  {
   "cell_type": "code",
   "execution_count": 77,
   "id": "67995140",
   "metadata": {},
   "outputs": [
    {
     "data": {
      "text/plain": [
       "array(['0.75', '1.86', '2.5'], dtype='<U32')"
      ]
     },
     "execution_count": 77,
     "metadata": {},
     "output_type": "execute_result"
    }
   ],
   "source": [
    "arr_float.astype(str)"
   ]
  },
  {
   "cell_type": "markdown",
   "id": "596062f6",
   "metadata": {},
   "source": [
    "### Memory Considerations"
   ]
  },
  {
   "cell_type": "code",
   "execution_count": 81,
   "id": "a1775c10",
   "metadata": {},
   "outputs": [
    {
     "name": "stdout",
     "output_type": "stream",
     "text": [
      "Size of array (arr) is 8.0 MB\n"
     ]
    }
   ],
   "source": [
    "arr = np.ones((1000, 1000), dtype=\"f8\")\n",
    "size = arr.nbytes / 1e6\n",
    "print(f\"Size of array (arr) is {size} MB\")"
   ]
  },
  {
   "cell_type": "code",
   "execution_count": 82,
   "id": "2a8af018",
   "metadata": {},
   "outputs": [],
   "source": [
    "arr_float64 = np.zeros((1000, 1000), dtype=np.float64)\n",
    "arr_float32 = np.zeros((1000, 1000), dtype=np.float32)"
   ]
  },
  {
   "cell_type": "code",
   "execution_count": null,
   "id": "416d3cf6",
   "metadata": {},
   "outputs": [
    {
     "data": {
      "text/plain": [
       "8.0"
      ]
     },
     "execution_count": 83,
     "metadata": {},
     "output_type": "execute_result"
    }
   ],
   "source": [
    "arr_float64.nbytes / 1e6 # MB"
   ]
  },
  {
   "cell_type": "code",
   "execution_count": null,
   "id": "3ffcce16",
   "metadata": {},
   "outputs": [
    {
     "data": {
      "text/plain": [
       "4.0"
      ]
     },
     "execution_count": 84,
     "metadata": {},
     "output_type": "execute_result"
    }
   ],
   "source": [
    "arr_float32.nbytes / 1e6 # MB"
   ]
  },
  {
   "cell_type": "markdown",
   "id": "c1a5d361",
   "metadata": {},
   "source": [
    "### Exercise"
   ]
  },
  {
   "cell_type": "code",
   "execution_count": 85,
   "id": "ce13cff9",
   "metadata": {},
   "outputs": [
    {
     "data": {
      "text/plain": [
       "array([1, 2, 3, 4, 5], dtype=int32)"
      ]
     },
     "execution_count": 85,
     "metadata": {},
     "output_type": "execute_result"
    }
   ],
   "source": [
    "# 1\n",
    "arr1 = np.array([1, 2, 3, 4, 5], dtype=\"i4\")\n",
    "arr1"
   ]
  },
  {
   "cell_type": "code",
   "execution_count": 87,
   "id": "acf9138f",
   "metadata": {},
   "outputs": [
    {
     "data": {
      "text/plain": [
       "array([1.5, 2.5, 3.5, 4.5, 5.5])"
      ]
     },
     "execution_count": 87,
     "metadata": {},
     "output_type": "execute_result"
    }
   ],
   "source": [
    "# 2\n",
    "arr2 = np.array([1.5, 2.5, 3.5, 4.5, 5.5])\n",
    "arr2"
   ]
  },
  {
   "cell_type": "code",
   "execution_count": 88,
   "id": "868e72eb",
   "metadata": {},
   "outputs": [
    {
     "data": {
      "text/plain": [
       "dtype('float64')"
      ]
     },
     "execution_count": 88,
     "metadata": {},
     "output_type": "execute_result"
    }
   ],
   "source": [
    "arr2.dtype"
   ]
  },
  {
   "cell_type": "code",
   "execution_count": 89,
   "id": "618051b3",
   "metadata": {},
   "outputs": [
    {
     "data": {
      "text/plain": [
       "array([ 2.5,  4.5,  6.5,  8.5, 10.5])"
      ]
     },
     "execution_count": 89,
     "metadata": {},
     "output_type": "execute_result"
    }
   ],
   "source": [
    "# 3\n",
    "result = arr1 + arr2\n",
    "result"
   ]
  },
  {
   "cell_type": "code",
   "execution_count": 91,
   "id": "6184b12b",
   "metadata": {},
   "outputs": [
    {
     "name": "stdout",
     "output_type": "stream",
     "text": [
      "Data type of array (result) is float64.\n"
     ]
    }
   ],
   "source": [
    "print(f\"Data type of array (result) is {result.dtype}.\")"
   ]
  },
  {
   "cell_type": "code",
   "execution_count": 94,
   "id": "1ba28701",
   "metadata": {},
   "outputs": [],
   "source": [
    "# 4\n",
    "data_types = [(\"name\", \"S10\"), (\"age\", \"u1\"), (\"grade\", np.float16)]\n",
    "student = np.array(\n",
    "    [\n",
    "        (\"John\", 18, 85.5),\n",
    "        (\"Alice\", 20, 92.0),\n",
    "        (\"Bob\", 19, 88.7)\n",
    "    ], dtype=data_types\n",
    ")"
   ]
  },
  {
   "cell_type": "code",
   "execution_count": 95,
   "id": "bd8e92ef",
   "metadata": {},
   "outputs": [
    {
     "data": {
      "text/plain": [
       "array([(b'John', 18, 85.5), (b'Alice', 20, 92. ), (b'Bob', 19, 88.7)],\n",
       "      dtype=[('name', 'S10'), ('age', 'u1'), ('grade', '<f2')])"
      ]
     },
     "execution_count": 95,
     "metadata": {},
     "output_type": "execute_result"
    }
   ],
   "source": [
    "student"
   ]
  },
  {
   "cell_type": "code",
   "execution_count": 105,
   "id": "07bce0c6",
   "metadata": {},
   "outputs": [
    {
     "name": "stdout",
     "output_type": "stream",
     "text": [
      "Names: [b'John' b'Alice' b'Bob']\n"
     ]
    }
   ],
   "source": [
    "# 5\n",
    "print(f\"Names:\", student[\"name\"])"
   ]
  },
  {
   "cell_type": "code",
   "execution_count": 106,
   "id": "e0b0a070",
   "metadata": {},
   "outputs": [
    {
     "data": {
      "text/plain": [
       "array([(b'John', 18, 85.), (b'Alice', 20, 92.), (b'Bob', 19, 88.)],\n",
       "      dtype=[('name', 'S10'), ('age', 'u1'), ('grade', '<f2')])"
      ]
     },
     "execution_count": 106,
     "metadata": {},
     "output_type": "execute_result"
    }
   ],
   "source": [
    "# 6\n",
    "student[\"grade\"] = student[\"grade\"].astype(int)\n",
    "student"
   ]
  },
  {
   "cell_type": "code",
   "execution_count": 100,
   "id": "bb41596d",
   "metadata": {},
   "outputs": [
    {
     "data": {
      "text/plain": [
       "array([False, False, False,  True,  True])"
      ]
     },
     "execution_count": 100,
     "metadata": {},
     "output_type": "execute_result"
    }
   ],
   "source": [
    "# 7\n",
    "mask = arr1 > 3\n",
    "mask"
   ]
  },
  {
   "cell_type": "code",
   "execution_count": 101,
   "id": "baa3e763",
   "metadata": {},
   "outputs": [
    {
     "data": {
      "text/plain": [
       "array([4, 5], dtype=int32)"
      ]
     },
     "execution_count": 101,
     "metadata": {},
     "output_type": "execute_result"
    }
   ],
   "source": [
    "# 8\n",
    "arr1[mask]"
   ]
  },
  {
   "cell_type": "code",
   "execution_count": null,
   "id": "1fdada5e",
   "metadata": {},
   "outputs": [
    {
     "name": "stdout",
     "output_type": "stream",
     "text": [
      "Size of arr1 in bytes: 20\n",
      "Size of arr2 in bytes: 40\n"
     ]
    }
   ],
   "source": [
    "# 9\n",
    "print(f\"Size of arr1 in bytes: {arr1.nbytes}\")\n",
    "print(f\"Size of arr2 in bytes: {arr2.nbytes}\")"
   ]
  },
  {
   "cell_type": "code",
   "execution_count": 107,
   "id": "bbe8b0da",
   "metadata": {},
   "outputs": [
    {
     "data": {
      "text/plain": [
       "array([0., 0., 0., 0., 0.], dtype=float32)"
      ]
     },
     "execution_count": 107,
     "metadata": {},
     "output_type": "execute_result"
    }
   ],
   "source": [
    "# 10\n",
    "arr3 = np.zeros_like(arr1, dtype=\"f4\")\n",
    "arr3"
   ]
  }
 ],
 "metadata": {
  "kernelspec": {
   "display_name": "data-procvis",
   "language": "python",
   "name": "python3"
  },
  "language_info": {
   "codemirror_mode": {
    "name": "ipython",
    "version": 3
   },
   "file_extension": ".py",
   "mimetype": "text/x-python",
   "name": "python",
   "nbconvert_exporter": "python",
   "pygments_lexer": "ipython3",
   "version": "3.11.11"
  }
 },
 "nbformat": 4,
 "nbformat_minor": 5
}
