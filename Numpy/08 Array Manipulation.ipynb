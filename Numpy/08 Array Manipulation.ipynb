{
 "cells": [
  {
   "cell_type": "markdown",
   "id": "b88aee08",
   "metadata": {},
   "source": [
    "# Coding Practice Session 8\n",
    "## Array Manipulation"
   ]
  },
  {
   "cell_type": "code",
   "execution_count": 1,
   "id": "e7cdeffd",
   "metadata": {},
   "outputs": [],
   "source": [
    "import numpy as np"
   ]
  },
  {
   "cell_type": "markdown",
   "id": "1d9d06f3",
   "metadata": {},
   "source": [
    "### 1. Reshaping Arrays"
   ]
  },
  {
   "cell_type": "code",
   "execution_count": 7,
   "id": "4cdc33d1",
   "metadata": {},
   "outputs": [
    {
     "data": {
      "text/plain": [
       "array([ 1,  2,  3,  4,  5,  6,  7,  8,  9, 10])"
      ]
     },
     "execution_count": 7,
     "metadata": {},
     "output_type": "execute_result"
    }
   ],
   "source": [
    "arr = np.arange(1, 11)\n",
    "arr"
   ]
  },
  {
   "cell_type": "code",
   "execution_count": 8,
   "id": "617e9c8d",
   "metadata": {},
   "outputs": [
    {
     "data": {
      "text/plain": [
       "array([[ 1,  2,  3,  4,  5],\n",
       "       [ 6,  7,  8,  9, 10]])"
      ]
     },
     "execution_count": 8,
     "metadata": {},
     "output_type": "execute_result"
    }
   ],
   "source": [
    "arr.reshape(2, 5)"
   ]
  },
  {
   "cell_type": "code",
   "execution_count": 9,
   "id": "57bbf65d",
   "metadata": {},
   "outputs": [
    {
     "data": {
      "text/plain": [
       "array([[ 1,  2],\n",
       "       [ 3,  4],\n",
       "       [ 5,  6],\n",
       "       [ 7,  8],\n",
       "       [ 9, 10]])"
      ]
     },
     "execution_count": 9,
     "metadata": {},
     "output_type": "execute_result"
    }
   ],
   "source": [
    "arr.reshape(5, 2)"
   ]
  },
  {
   "cell_type": "code",
   "execution_count": 10,
   "id": "b0c9226f",
   "metadata": {},
   "outputs": [
    {
     "data": {
      "text/plain": [
       "array([[1, 2, 3],\n",
       "       [4, 5, 6]])"
      ]
     },
     "execution_count": 10,
     "metadata": {},
     "output_type": "execute_result"
    }
   ],
   "source": [
    "arr_2d = np.arange(1, 7).reshape(2, 3)\n",
    "arr_2d"
   ]
  },
  {
   "cell_type": "code",
   "execution_count": 11,
   "id": "cae320c2",
   "metadata": {},
   "outputs": [
    {
     "data": {
      "text/plain": [
       "array([1, 2, 3, 4, 5, 6])"
      ]
     },
     "execution_count": 11,
     "metadata": {},
     "output_type": "execute_result"
    }
   ],
   "source": [
    "arr_2d.reshape(-1)"
   ]
  },
  {
   "cell_type": "code",
   "execution_count": 15,
   "id": "3ff2998f",
   "metadata": {},
   "outputs": [],
   "source": [
    "arr = np.array([1, 2, 3, 4, 5, 6])\n",
    "arr_2d = arr.reshape(3, 2)"
   ]
  },
  {
   "cell_type": "code",
   "execution_count": 16,
   "id": "67e62b88",
   "metadata": {},
   "outputs": [
    {
     "data": {
      "text/plain": [
       "array([[1, 2],\n",
       "       [3, 4],\n",
       "       [5, 6]])"
      ]
     },
     "execution_count": 16,
     "metadata": {},
     "output_type": "execute_result"
    }
   ],
   "source": [
    "arr_2d"
   ]
  },
  {
   "cell_type": "code",
   "execution_count": 17,
   "id": "2672143a",
   "metadata": {},
   "outputs": [
    {
     "data": {
      "text/plain": [
       "array([[100,   2],\n",
       "       [  3,   4],\n",
       "       [  5,   6]])"
      ]
     },
     "execution_count": 17,
     "metadata": {},
     "output_type": "execute_result"
    }
   ],
   "source": [
    "arr_2d[0, 0] = 100\n",
    "arr_2d"
   ]
  },
  {
   "cell_type": "code",
   "execution_count": 18,
   "id": "9cd623ff",
   "metadata": {},
   "outputs": [
    {
     "data": {
      "text/plain": [
       "array([100,   2,   3,   4,   5,   6])"
      ]
     },
     "execution_count": 18,
     "metadata": {},
     "output_type": "execute_result"
    }
   ],
   "source": [
    "arr"
   ]
  },
  {
   "cell_type": "code",
   "execution_count": 19,
   "id": "3d03a936",
   "metadata": {},
   "outputs": [
    {
     "data": {
      "text/plain": [
       "True"
      ]
     },
     "execution_count": 19,
     "metadata": {},
     "output_type": "execute_result"
    }
   ],
   "source": [
    "np.shares_memory(arr, arr.reshape(3, 2))"
   ]
  },
  {
   "cell_type": "code",
   "execution_count": null,
   "id": "09174559",
   "metadata": {},
   "outputs": [],
   "source": [
    "arr = np.linspace(1, 10, 16)"
   ]
  },
  {
   "cell_type": "code",
   "execution_count": 21,
   "id": "b94cd0ce",
   "metadata": {},
   "outputs": [
    {
     "data": {
      "text/plain": [
       "array([ 1. ,  1.6,  2.2,  2.8,  3.4,  4. ,  4.6,  5.2,  5.8,  6.4,  7. ,\n",
       "        7.6,  8.2,  8.8,  9.4, 10. ])"
      ]
     },
     "execution_count": 21,
     "metadata": {},
     "output_type": "execute_result"
    }
   ],
   "source": [
    "arr"
   ]
  },
  {
   "cell_type": "code",
   "execution_count": 22,
   "id": "a5fd2d7c",
   "metadata": {},
   "outputs": [
    {
     "data": {
      "text/plain": [
       "array([[[ 1. ,  1.6],\n",
       "        [ 2.2,  2.8],\n",
       "        [ 3.4,  4. ],\n",
       "        [ 4.6,  5.2]],\n",
       "\n",
       "       [[ 5.8,  6.4],\n",
       "        [ 7. ,  7.6],\n",
       "        [ 8.2,  8.8],\n",
       "        [ 9.4, 10. ]]])"
      ]
     },
     "execution_count": 22,
     "metadata": {},
     "output_type": "execute_result"
    }
   ],
   "source": [
    "arr.reshape((-1, 4, 2))"
   ]
  },
  {
   "cell_type": "code",
   "execution_count": 25,
   "id": "bd253bff",
   "metadata": {},
   "outputs": [
    {
     "data": {
      "text/plain": [
       "array([[[ 0.    ,  0.4082,  0.8164,  1.225 ,  1.633 ],\n",
       "        [ 2.041 ,  2.45  ,  2.857 ,  3.266 ,  3.674 ],\n",
       "        [ 4.082 ,  4.49  ,  4.9   ,  5.305 ,  5.715 ],\n",
       "        [ 6.12  ,  6.53  ,  6.938 ,  7.348 ,  7.754 ],\n",
       "        [ 8.164 ,  8.57  ,  8.98  ,  9.39  ,  9.8   ]],\n",
       "\n",
       "       [[10.2   , 10.61  , 11.02  , 11.43  , 11.836 ],\n",
       "        [12.24  , 12.66  , 13.06  , 13.47  , 13.875 ],\n",
       "        [14.29  , 14.695 , 15.1   , 15.51  , 15.92  ],\n",
       "        [16.33  , 16.73  , 17.14  , 17.55  , 17.95  ],\n",
       "        [18.38  , 18.78  , 19.19  , 19.6   , 20.    ]]], dtype=float16)"
      ]
     },
     "execution_count": 25,
     "metadata": {},
     "output_type": "execute_result"
    }
   ],
   "source": [
    "np.linspace(0, 20, 50, dtype=\"f2\").reshape(2, 5, 5)"
   ]
  },
  {
   "cell_type": "markdown",
   "id": "ce9912c4",
   "metadata": {},
   "source": [
    "### 2. Flattening Arrays"
   ]
  },
  {
   "cell_type": "code",
   "execution_count": 26,
   "id": "dfbe55b4",
   "metadata": {},
   "outputs": [],
   "source": [
    "arr = np.array([[1, 2, 3], [4, 5, 6]], dtype=\"i1\")"
   ]
  },
  {
   "cell_type": "code",
   "execution_count": 27,
   "id": "c5a5a319",
   "metadata": {},
   "outputs": [
    {
     "data": {
      "text/plain": [
       "array([[1, 2, 3],\n",
       "       [4, 5, 6]], dtype=int8)"
      ]
     },
     "execution_count": 27,
     "metadata": {},
     "output_type": "execute_result"
    }
   ],
   "source": [
    "arr"
   ]
  },
  {
   "cell_type": "code",
   "execution_count": null,
   "id": "9ffa2669",
   "metadata": {},
   "outputs": [
    {
     "data": {
      "text/plain": [
       "array([1, 4, 2, 5, 3, 6], dtype=int8)"
      ]
     },
     "execution_count": 30,
     "metadata": {},
     "output_type": "execute_result"
    }
   ],
   "source": [
    "np.ravel(arr, order=\"F\") # view of original array"
   ]
  },
  {
   "cell_type": "code",
   "execution_count": 31,
   "id": "fcc810d9",
   "metadata": {},
   "outputs": [
    {
     "data": {
      "text/plain": [
       "True"
      ]
     },
     "execution_count": 31,
     "metadata": {},
     "output_type": "execute_result"
    }
   ],
   "source": [
    "np.shares_memory(arr, np.ravel(arr))"
   ]
  },
  {
   "cell_type": "code",
   "execution_count": 32,
   "id": "607118d7",
   "metadata": {},
   "outputs": [
    {
     "data": {
      "text/plain": [
       "array([1, 2, 3, 4, 5, 6], dtype=int8)"
      ]
     },
     "execution_count": 32,
     "metadata": {},
     "output_type": "execute_result"
    }
   ],
   "source": [
    "np.ravel(arr)"
   ]
  },
  {
   "cell_type": "code",
   "execution_count": 33,
   "id": "110800e1",
   "metadata": {},
   "outputs": [
    {
     "data": {
      "text/plain": [
       "array([[1, 2, 3],\n",
       "       [4, 5, 6]], dtype=int8)"
      ]
     },
     "execution_count": 33,
     "metadata": {},
     "output_type": "execute_result"
    }
   ],
   "source": [
    "arr"
   ]
  },
  {
   "cell_type": "code",
   "execution_count": null,
   "id": "f4b7cf21",
   "metadata": {},
   "outputs": [
    {
     "data": {
      "text/plain": [
       "array([1, 4, 2, 5, 3, 6], dtype=int8)"
      ]
     },
     "execution_count": 35,
     "metadata": {},
     "output_type": "execute_result"
    }
   ],
   "source": [
    "flattened_arr = arr.flatten(\"F\") # copy of original array\n",
    "flattened_arr"
   ]
  },
  {
   "cell_type": "code",
   "execution_count": 36,
   "id": "74e962c2",
   "metadata": {},
   "outputs": [
    {
     "data": {
      "text/plain": [
       "array([100,   4,   2,   5,   3,   6], dtype=int8)"
      ]
     },
     "execution_count": 36,
     "metadata": {},
     "output_type": "execute_result"
    }
   ],
   "source": [
    "flattened_arr[0] = 100\n",
    "flattened_arr"
   ]
  },
  {
   "cell_type": "code",
   "execution_count": 37,
   "id": "a25202c2",
   "metadata": {},
   "outputs": [
    {
     "data": {
      "text/plain": [
       "array([[1, 2, 3],\n",
       "       [4, 5, 6]], dtype=int8)"
      ]
     },
     "execution_count": 37,
     "metadata": {},
     "output_type": "execute_result"
    }
   ],
   "source": [
    "arr"
   ]
  },
  {
   "cell_type": "markdown",
   "id": "a4300afe",
   "metadata": {},
   "source": [
    "### 3. Stacking Arrays"
   ]
  },
  {
   "cell_type": "code",
   "execution_count": 40,
   "id": "02479d2b",
   "metadata": {},
   "outputs": [],
   "source": [
    "arr1 = np.array([1, 2, 3])\n",
    "arr2 = np.array([4, 5, 6])"
   ]
  },
  {
   "cell_type": "code",
   "execution_count": 42,
   "id": "b1974c1c",
   "metadata": {},
   "outputs": [
    {
     "data": {
      "text/plain": [
       "array([[1, 2, 3],\n",
       "       [4, 5, 6]])"
      ]
     },
     "execution_count": 42,
     "metadata": {},
     "output_type": "execute_result"
    }
   ],
   "source": [
    "stacked_arr = np.vstack((arr1, arr2))\n",
    "stacked_arr"
   ]
  },
  {
   "cell_type": "code",
   "execution_count": 43,
   "id": "6e078b75",
   "metadata": {},
   "outputs": [
    {
     "data": {
      "text/plain": [
       "(2, 3)"
      ]
     },
     "execution_count": 43,
     "metadata": {},
     "output_type": "execute_result"
    }
   ],
   "source": [
    "np.shape(stacked_arr)"
   ]
  },
  {
   "cell_type": "code",
   "execution_count": 45,
   "id": "816d7a9d",
   "metadata": {},
   "outputs": [
    {
     "data": {
      "text/plain": [
       "array([[1, 2],\n",
       "       [3, 4]])"
      ]
     },
     "execution_count": 45,
     "metadata": {},
     "output_type": "execute_result"
    }
   ],
   "source": [
    "arr1 = np.arange(1, 5).reshape(2, 2)\n",
    "arr1"
   ]
  },
  {
   "cell_type": "code",
   "execution_count": 48,
   "id": "128c100d",
   "metadata": {},
   "outputs": [
    {
     "data": {
      "text/plain": [
       "array([[5, 6],\n",
       "       [7, 8]])"
      ]
     },
     "execution_count": 48,
     "metadata": {},
     "output_type": "execute_result"
    }
   ],
   "source": [
    "arr2 = np.arange(5, 9).reshape(2, -1)\n",
    "arr2"
   ]
  },
  {
   "cell_type": "code",
   "execution_count": 49,
   "id": "8b114c63",
   "metadata": {},
   "outputs": [
    {
     "data": {
      "text/plain": [
       "array([[1, 2],\n",
       "       [3, 4],\n",
       "       [5, 6],\n",
       "       [7, 8]])"
      ]
     },
     "execution_count": 49,
     "metadata": {},
     "output_type": "execute_result"
    }
   ],
   "source": [
    "np.vstack((arr1, arr2))"
   ]
  },
  {
   "cell_type": "code",
   "execution_count": 50,
   "id": "e076fefe",
   "metadata": {},
   "outputs": [],
   "source": [
    "arr1 = np.array([1, 2, 3])\n",
    "arr2 = np.array([4, 5, 6])"
   ]
  },
  {
   "cell_type": "code",
   "execution_count": 53,
   "id": "64eb1be6",
   "metadata": {},
   "outputs": [
    {
     "data": {
      "text/plain": [
       "array([4, 5, 6, 1, 2, 3])"
      ]
     },
     "execution_count": 53,
     "metadata": {},
     "output_type": "execute_result"
    }
   ],
   "source": [
    "np.hstack((arr2, arr1))"
   ]
  },
  {
   "cell_type": "code",
   "execution_count": 54,
   "id": "9fee030b",
   "metadata": {},
   "outputs": [],
   "source": [
    "arr1 = np.array([[1, 2], [3, 4]])\n",
    "arr2 = np.array([[5, 6], [7, 8]])"
   ]
  },
  {
   "cell_type": "code",
   "execution_count": 55,
   "id": "1c8a723d",
   "metadata": {},
   "outputs": [
    {
     "data": {
      "text/plain": [
       "array([[1, 2, 5, 6],\n",
       "       [3, 4, 7, 8]])"
      ]
     },
     "execution_count": 55,
     "metadata": {},
     "output_type": "execute_result"
    }
   ],
   "source": [
    "np.hstack((arr1, arr2))"
   ]
  },
  {
   "cell_type": "code",
   "execution_count": 99,
   "id": "78eb3679",
   "metadata": {},
   "outputs": [
    {
     "data": {
      "text/plain": [
       "array([[[ 1,  2,  3,  4,  5],\n",
       "        [ 6,  7,  8,  9, 10]],\n",
       "\n",
       "       [[11, 12, 13, 14, 15],\n",
       "        [16, 17, 18, 19, 20]]])"
      ]
     },
     "execution_count": 99,
     "metadata": {},
     "output_type": "execute_result"
    }
   ],
   "source": [
    "arr1 = np.arange(1, 21).reshape((2, 2, 5))\n",
    "arr1"
   ]
  },
  {
   "cell_type": "code",
   "execution_count": 100,
   "id": "69a30470",
   "metadata": {},
   "outputs": [
    {
     "data": {
      "text/plain": [
       "array([[[7, 6, 5, 1, 2],\n",
       "        [7, 5, 3, 8, 2]],\n",
       "\n",
       "       [[4, 8, 6, 7, 7],\n",
       "        [3, 5, 1, 2, 2]]])"
      ]
     },
     "execution_count": 100,
     "metadata": {},
     "output_type": "execute_result"
    }
   ],
   "source": [
    "arr2 = np.random.randint(1, 9, size=(2, 2, 5))\n",
    "arr2"
   ]
  },
  {
   "cell_type": "code",
   "execution_count": 101,
   "id": "6bfe5496",
   "metadata": {},
   "outputs": [
    {
     "data": {
      "text/plain": [
       "array([[[ 1,  2,  3,  4,  5],\n",
       "        [ 6,  7,  8,  9, 10]],\n",
       "\n",
       "       [[11, 12, 13, 14, 15],\n",
       "        [16, 17, 18, 19, 20]],\n",
       "\n",
       "       [[ 7,  6,  5,  1,  2],\n",
       "        [ 7,  5,  3,  8,  2]],\n",
       "\n",
       "       [[ 4,  8,  6,  7,  7],\n",
       "        [ 3,  5,  1,  2,  2]]])"
      ]
     },
     "execution_count": 101,
     "metadata": {},
     "output_type": "execute_result"
    }
   ],
   "source": [
    "np.vstack((arr1, arr2))"
   ]
  },
  {
   "cell_type": "code",
   "execution_count": 102,
   "id": "9b805019",
   "metadata": {},
   "outputs": [
    {
     "data": {
      "text/plain": [
       "array([[[ 1,  2,  3,  4,  5],\n",
       "        [ 6,  7,  8,  9, 10],\n",
       "        [ 7,  6,  5,  1,  2],\n",
       "        [ 7,  5,  3,  8,  2]],\n",
       "\n",
       "       [[11, 12, 13, 14, 15],\n",
       "        [16, 17, 18, 19, 20],\n",
       "        [ 4,  8,  6,  7,  7],\n",
       "        [ 3,  5,  1,  2,  2]]])"
      ]
     },
     "execution_count": 102,
     "metadata": {},
     "output_type": "execute_result"
    }
   ],
   "source": [
    "np.hstack((arr1, arr2))"
   ]
  },
  {
   "cell_type": "code",
   "execution_count": 103,
   "id": "47078ede",
   "metadata": {},
   "outputs": [
    {
     "data": {
      "text/plain": [
       "array([[[ 1,  2,  3,  4,  5,  7,  6,  5,  1,  2],\n",
       "        [ 6,  7,  8,  9, 10,  7,  5,  3,  8,  2]],\n",
       "\n",
       "       [[11, 12, 13, 14, 15,  4,  8,  6,  7,  7],\n",
       "        [16, 17, 18, 19, 20,  3,  5,  1,  2,  2]]])"
      ]
     },
     "execution_count": 103,
     "metadata": {},
     "output_type": "execute_result"
    }
   ],
   "source": [
    "np.dstack((arr1, arr2))"
   ]
  },
  {
   "cell_type": "markdown",
   "id": "f47c2112",
   "metadata": {},
   "source": [
    "### 4. Concatenating Arrays"
   ]
  },
  {
   "cell_type": "code",
   "execution_count": 105,
   "id": "c774054d",
   "metadata": {},
   "outputs": [],
   "source": [
    "arr1 = np.array([[1, 2], [3, 4]])\n",
    "arr2 = np.array([[5, 6], [7, 8]])"
   ]
  },
  {
   "cell_type": "code",
   "execution_count": 106,
   "id": "e90c1813",
   "metadata": {},
   "outputs": [
    {
     "data": {
      "text/plain": [
       "array([[1, 2],\n",
       "       [3, 4],\n",
       "       [5, 6],\n",
       "       [7, 8]])"
      ]
     },
     "execution_count": 106,
     "metadata": {},
     "output_type": "execute_result"
    }
   ],
   "source": [
    "np.concatenate((arr1, arr2), axis=0)"
   ]
  },
  {
   "cell_type": "code",
   "execution_count": 107,
   "id": "166932c3",
   "metadata": {},
   "outputs": [
    {
     "data": {
      "text/plain": [
       "array([[1, 2, 5, 6],\n",
       "       [3, 4, 7, 8]])"
      ]
     },
     "execution_count": 107,
     "metadata": {},
     "output_type": "execute_result"
    }
   ],
   "source": [
    "np.concatenate((arr1, arr2), axis=1)"
   ]
  },
  {
   "cell_type": "code",
   "execution_count": 108,
   "id": "e46482f2",
   "metadata": {},
   "outputs": [
    {
     "data": {
      "text/plain": [
       "array([[[2, 2, 2, 3],\n",
       "        [3, 3, 3, 4],\n",
       "        [1, 4, 2, 4]],\n",
       "\n",
       "       [[4, 1, 3, 1],\n",
       "        [1, 4, 4, 3],\n",
       "        [1, 1, 2, 2]]])"
      ]
     },
     "execution_count": 108,
     "metadata": {},
     "output_type": "execute_result"
    }
   ],
   "source": [
    "arr1 = np.random.randint(1, 5, size=(2, 3, 4))\n",
    "arr1"
   ]
  },
  {
   "cell_type": "code",
   "execution_count": 109,
   "id": "9135f00c",
   "metadata": {},
   "outputs": [
    {
     "data": {
      "text/plain": [
       "array([[[7, 6, 5, 8],\n",
       "        [9, 5, 7, 9],\n",
       "        [9, 8, 5, 8]],\n",
       "\n",
       "       [[9, 5, 6, 8],\n",
       "        [5, 6, 7, 7],\n",
       "        [7, 9, 7, 9]]])"
      ]
     },
     "execution_count": 109,
     "metadata": {},
     "output_type": "execute_result"
    }
   ],
   "source": [
    "arr2 = np.random.randint(5, 10, size=(2, 3, 4))\n",
    "arr2"
   ]
  },
  {
   "cell_type": "code",
   "execution_count": 110,
   "id": "79ff07da",
   "metadata": {},
   "outputs": [
    {
     "data": {
      "text/plain": [
       "array([[[2, 2, 2, 3],\n",
       "        [3, 3, 3, 4],\n",
       "        [1, 4, 2, 4],\n",
       "        [7, 6, 5, 8],\n",
       "        [9, 5, 7, 9],\n",
       "        [9, 8, 5, 8]],\n",
       "\n",
       "       [[4, 1, 3, 1],\n",
       "        [1, 4, 4, 3],\n",
       "        [1, 1, 2, 2],\n",
       "        [9, 5, 6, 8],\n",
       "        [5, 6, 7, 7],\n",
       "        [7, 9, 7, 9]]])"
      ]
     },
     "execution_count": 110,
     "metadata": {},
     "output_type": "execute_result"
    }
   ],
   "source": [
    "np.concatenate((arr1, arr2), axis=1)"
   ]
  },
  {
   "cell_type": "code",
   "execution_count": 111,
   "id": "9795452f",
   "metadata": {},
   "outputs": [
    {
     "data": {
      "text/plain": [
       "array([[[2, 2, 2, 3],\n",
       "        [3, 3, 3, 4],\n",
       "        [1, 4, 2, 4]],\n",
       "\n",
       "       [[4, 1, 3, 1],\n",
       "        [1, 4, 4, 3],\n",
       "        [1, 1, 2, 2]],\n",
       "\n",
       "       [[7, 6, 5, 8],\n",
       "        [9, 5, 7, 9],\n",
       "        [9, 8, 5, 8]],\n",
       "\n",
       "       [[9, 5, 6, 8],\n",
       "        [5, 6, 7, 7],\n",
       "        [7, 9, 7, 9]]])"
      ]
     },
     "execution_count": 111,
     "metadata": {},
     "output_type": "execute_result"
    }
   ],
   "source": [
    "np.concatenate((arr1, arr2), axis=0)"
   ]
  },
  {
   "cell_type": "code",
   "execution_count": 112,
   "id": "87482e6c",
   "metadata": {},
   "outputs": [
    {
     "data": {
      "text/plain": [
       "array([[[2, 2, 2, 3, 7, 6, 5, 8],\n",
       "        [3, 3, 3, 4, 9, 5, 7, 9],\n",
       "        [1, 4, 2, 4, 9, 8, 5, 8]],\n",
       "\n",
       "       [[4, 1, 3, 1, 9, 5, 6, 8],\n",
       "        [1, 4, 4, 3, 5, 6, 7, 7],\n",
       "        [1, 1, 2, 2, 7, 9, 7, 9]]])"
      ]
     },
     "execution_count": 112,
     "metadata": {},
     "output_type": "execute_result"
    }
   ],
   "source": [
    "np.concatenate((arr1, arr2), axis=2)"
   ]
  },
  {
   "cell_type": "code",
   "execution_count": 113,
   "id": "f50640c7",
   "metadata": {},
   "outputs": [],
   "source": [
    "a = np.array([1, 2, 3, 4, 5])\n",
    "b = np.array([8, 9, 10, 11, 12])"
   ]
  },
  {
   "cell_type": "code",
   "execution_count": 116,
   "id": "d9b6a438",
   "metadata": {},
   "outputs": [
    {
     "data": {
      "text/plain": [
       "array([ 1,  2,  3,  4,  5,  8,  9, 10, 11, 12])"
      ]
     },
     "execution_count": 116,
     "metadata": {},
     "output_type": "execute_result"
    }
   ],
   "source": [
    "np.concatenate((a, b))"
   ]
  },
  {
   "cell_type": "code",
   "execution_count": 117,
   "id": "028ddd73",
   "metadata": {},
   "outputs": [],
   "source": [
    "arr1 = np.array([[1, 2], [3, 4]])\n",
    "arr2 = np.array([[5, 6], [7, 8]])\n",
    "arr3 = np.array([[9, 10], [11, 12]])"
   ]
  },
  {
   "cell_type": "code",
   "execution_count": 118,
   "id": "67daecd0",
   "metadata": {},
   "outputs": [
    {
     "data": {
      "text/plain": [
       "array([[ 1,  2],\n",
       "       [ 3,  4],\n",
       "       [ 5,  6],\n",
       "       [ 7,  8],\n",
       "       [ 9, 10],\n",
       "       [11, 12]])"
      ]
     },
     "execution_count": 118,
     "metadata": {},
     "output_type": "execute_result"
    }
   ],
   "source": [
    "np.concatenate((arr1, arr2, arr3), axis=0)"
   ]
  },
  {
   "cell_type": "code",
   "execution_count": 119,
   "id": "d9d184c3",
   "metadata": {},
   "outputs": [
    {
     "data": {
      "text/plain": [
       "array([[ 1,  2,  5,  6,  9, 10],\n",
       "       [ 3,  4,  7,  8, 11, 12]])"
      ]
     },
     "execution_count": 119,
     "metadata": {},
     "output_type": "execute_result"
    }
   ],
   "source": [
    "np.concatenate((arr1, arr2, arr3), axis=1)"
   ]
  },
  {
   "cell_type": "markdown",
   "id": "d657bd4b",
   "metadata": {},
   "source": [
    "### 5. Splitting Arrays"
   ]
  },
  {
   "cell_type": "code",
   "execution_count": 120,
   "id": "2a918731",
   "metadata": {},
   "outputs": [
    {
     "data": {
      "text/plain": [
       "array([[ 1,  2,  3,  4],\n",
       "       [ 5,  6,  7,  8],\n",
       "       [ 9, 10, 11, 12]])"
      ]
     },
     "execution_count": 120,
     "metadata": {},
     "output_type": "execute_result"
    }
   ],
   "source": [
    "arr = np.arange(1, 13).reshape((3, 4))\n",
    "arr"
   ]
  },
  {
   "cell_type": "code",
   "execution_count": 121,
   "id": "43ea4bdf",
   "metadata": {},
   "outputs": [
    {
     "data": {
      "text/plain": [
       "[array([[1, 2, 3, 4]]), array([[5, 6, 7, 8]]), array([[ 9, 10, 11, 12]])]"
      ]
     },
     "execution_count": 121,
     "metadata": {},
     "output_type": "execute_result"
    }
   ],
   "source": [
    "np.vsplit(arr, 3)"
   ]
  },
  {
   "cell_type": "code",
   "execution_count": 122,
   "id": "f23a59a4",
   "metadata": {},
   "outputs": [
    {
     "data": {
      "text/plain": [
       "array([[1, 2, 3, 4]])"
      ]
     },
     "execution_count": 122,
     "metadata": {},
     "output_type": "execute_result"
    }
   ],
   "source": [
    "np.vsplit(arr, 3)[0]"
   ]
  },
  {
   "cell_type": "code",
   "execution_count": 123,
   "id": "ec57f949",
   "metadata": {},
   "outputs": [
    {
     "data": {
      "text/plain": [
       "(1, 4)"
      ]
     },
     "execution_count": 123,
     "metadata": {},
     "output_type": "execute_result"
    }
   ],
   "source": [
    "np.vsplit(arr, 3)[0].shape"
   ]
  },
  {
   "cell_type": "code",
   "execution_count": 125,
   "id": "216b4695",
   "metadata": {},
   "outputs": [
    {
     "data": {
      "text/plain": [
       "[array([[1, 2, 3, 4],\n",
       "        [5, 6, 7, 8]]),\n",
       " array([[ 9, 10, 11, 12]])]"
      ]
     },
     "execution_count": 125,
     "metadata": {},
     "output_type": "execute_result"
    }
   ],
   "source": [
    "np.vsplit(arr, [2])"
   ]
  },
  {
   "cell_type": "code",
   "execution_count": 126,
   "id": "a16213df",
   "metadata": {},
   "outputs": [
    {
     "data": {
      "text/plain": [
       "array([[1, 2, 3, 4],\n",
       "       [5, 6, 7, 8]])"
      ]
     },
     "execution_count": 126,
     "metadata": {},
     "output_type": "execute_result"
    }
   ],
   "source": [
    "np.vsplit(arr, [2])[0]"
   ]
  },
  {
   "cell_type": "code",
   "execution_count": 127,
   "id": "e301be3b",
   "metadata": {},
   "outputs": [
    {
     "data": {
      "text/plain": [
       "(2, 4)"
      ]
     },
     "execution_count": 127,
     "metadata": {},
     "output_type": "execute_result"
    }
   ],
   "source": [
    "np.vsplit(arr, [2])[0].shape"
   ]
  },
  {
   "cell_type": "code",
   "execution_count": 129,
   "id": "a306bb9f",
   "metadata": {},
   "outputs": [
    {
     "data": {
      "text/plain": [
       "array([[ 9, 10, 11, 12]])"
      ]
     },
     "execution_count": 129,
     "metadata": {},
     "output_type": "execute_result"
    }
   ],
   "source": [
    "np.vsplit(arr, [2])[1]"
   ]
  },
  {
   "cell_type": "code",
   "execution_count": 130,
   "id": "8c4f9106",
   "metadata": {},
   "outputs": [
    {
     "data": {
      "text/plain": [
       "array([[ 1,  2,  3,  4],\n",
       "       [ 5,  6,  7,  8],\n",
       "       [ 9, 10, 11, 12]])"
      ]
     },
     "execution_count": 130,
     "metadata": {},
     "output_type": "execute_result"
    }
   ],
   "source": [
    "arr"
   ]
  },
  {
   "cell_type": "code",
   "execution_count": 131,
   "id": "ce1669c3",
   "metadata": {},
   "outputs": [
    {
     "data": {
      "text/plain": [
       "[array([[ 1,  2],\n",
       "        [ 5,  6],\n",
       "        [ 9, 10]]),\n",
       " array([[ 3,  4],\n",
       "        [ 7,  8],\n",
       "        [11, 12]])]"
      ]
     },
     "execution_count": 131,
     "metadata": {},
     "output_type": "execute_result"
    }
   ],
   "source": [
    "np.hsplit(arr, 2)"
   ]
  },
  {
   "cell_type": "code",
   "execution_count": 133,
   "id": "40f915f3",
   "metadata": {},
   "outputs": [
    {
     "data": {
      "text/plain": [
       "array([[ 1,  2],\n",
       "       [ 5,  6],\n",
       "       [ 9, 10]])"
      ]
     },
     "execution_count": 133,
     "metadata": {},
     "output_type": "execute_result"
    }
   ],
   "source": [
    "np.hsplit(arr, 2)[0]"
   ]
  },
  {
   "cell_type": "code",
   "execution_count": 134,
   "id": "c2423272",
   "metadata": {},
   "outputs": [
    {
     "data": {
      "text/plain": [
       "[array([[1],\n",
       "        [5],\n",
       "        [9]]),\n",
       " array([[ 2,  3],\n",
       "        [ 6,  7],\n",
       "        [10, 11]]),\n",
       " array([[ 4],\n",
       "        [ 8],\n",
       "        [12]])]"
      ]
     },
     "execution_count": 134,
     "metadata": {},
     "output_type": "execute_result"
    }
   ],
   "source": [
    "np.hsplit(arr, [1, 3])"
   ]
  },
  {
   "cell_type": "code",
   "execution_count": 135,
   "id": "42f092db",
   "metadata": {},
   "outputs": [
    {
     "data": {
      "text/plain": [
       "array([[1],\n",
       "       [5],\n",
       "       [9]])"
      ]
     },
     "execution_count": 135,
     "metadata": {},
     "output_type": "execute_result"
    }
   ],
   "source": [
    "np.hsplit(arr, [1, 3])[0]"
   ]
  },
  {
   "cell_type": "code",
   "execution_count": 136,
   "id": "beaef7e2",
   "metadata": {},
   "outputs": [
    {
     "data": {
      "text/plain": [
       "array([[ 2,  3],\n",
       "       [ 6,  7],\n",
       "       [10, 11]])"
      ]
     },
     "execution_count": 136,
     "metadata": {},
     "output_type": "execute_result"
    }
   ],
   "source": [
    "np.hsplit(arr, [1, 3])[1]"
   ]
  },
  {
   "cell_type": "code",
   "execution_count": 137,
   "id": "c8d1d124",
   "metadata": {},
   "outputs": [
    {
     "data": {
      "text/plain": [
       "array([[ 4],\n",
       "       [ 8],\n",
       "       [12]])"
      ]
     },
     "execution_count": 137,
     "metadata": {},
     "output_type": "execute_result"
    }
   ],
   "source": [
    "np.hsplit(arr, [1, 3])[-1]"
   ]
  },
  {
   "cell_type": "markdown",
   "id": "1518c20c",
   "metadata": {},
   "source": [
    "### 6. Tiling Arrays"
   ]
  },
  {
   "cell_type": "code",
   "execution_count": 138,
   "id": "5fd0860f",
   "metadata": {},
   "outputs": [],
   "source": [
    "arr = np.array([1, 2])"
   ]
  },
  {
   "cell_type": "code",
   "execution_count": 143,
   "id": "0924ed65",
   "metadata": {},
   "outputs": [
    {
     "data": {
      "text/plain": [
       "array([[[1, 2, 1, 2, 1, 2],\n",
       "        [1, 2, 1, 2, 1, 2],\n",
       "        [1, 2, 1, 2, 1, 2],\n",
       "        [1, 2, 1, 2, 1, 2]],\n",
       "\n",
       "       [[1, 2, 1, 2, 1, 2],\n",
       "        [1, 2, 1, 2, 1, 2],\n",
       "        [1, 2, 1, 2, 1, 2],\n",
       "        [1, 2, 1, 2, 1, 2]]])"
      ]
     },
     "execution_count": 143,
     "metadata": {},
     "output_type": "execute_result"
    }
   ],
   "source": [
    "np.tile(arr, (2, 4, 3))"
   ]
  },
  {
   "cell_type": "code",
   "execution_count": 144,
   "id": "c1af8a14",
   "metadata": {},
   "outputs": [],
   "source": [
    "arr = np.array([[1, 2], [3, 4]])"
   ]
  },
  {
   "cell_type": "code",
   "execution_count": 145,
   "id": "a4f25f2a",
   "metadata": {},
   "outputs": [
    {
     "data": {
      "text/plain": [
       "array([[1, 2, 1, 2, 1, 2],\n",
       "       [3, 4, 3, 4, 3, 4],\n",
       "       [1, 2, 1, 2, 1, 2],\n",
       "       [3, 4, 3, 4, 3, 4]])"
      ]
     },
     "execution_count": 145,
     "metadata": {},
     "output_type": "execute_result"
    }
   ],
   "source": [
    "np.tile(arr, (2, 3))"
   ]
  },
  {
   "cell_type": "code",
   "execution_count": 146,
   "id": "d29340c2",
   "metadata": {},
   "outputs": [],
   "source": [
    "x = np.array([1, 2])\n",
    "y = np.array([3, 4])"
   ]
  },
  {
   "cell_type": "code",
   "execution_count": 147,
   "id": "da97a347",
   "metadata": {},
   "outputs": [
    {
     "data": {
      "text/plain": [
       "(array([[1, 2],\n",
       "        [1, 2]]),\n",
       " array([[3, 3],\n",
       "        [4, 4]]))"
      ]
     },
     "execution_count": 147,
     "metadata": {},
     "output_type": "execute_result"
    }
   ],
   "source": [
    "np.meshgrid(x, y)"
   ]
  },
  {
   "cell_type": "markdown",
   "id": "7db5ceba",
   "metadata": {},
   "source": [
    "### Exercise"
   ]
  },
  {
   "cell_type": "code",
   "execution_count": 148,
   "id": "f93a47fd",
   "metadata": {},
   "outputs": [],
   "source": [
    "sales_2021 = np.array([[100, 120, 140, 160],\n",
    "                       [200, 220, 240, 260],\n",
    "                       [300, 320, 340, 360]])\n",
    "\n",
    "sales_2022 = np.array([[110, 130, 150, 170],\n",
    "                       [210, 230, 250, 270],\n",
    "                       [310, 330, 350, 370]])"
   ]
  },
  {
   "cell_type": "code",
   "execution_count": 149,
   "id": "e5431f82",
   "metadata": {},
   "outputs": [
    {
     "data": {
      "text/plain": [
       "array([[100, 120, 140, 160],\n",
       "       [200, 220, 240, 260],\n",
       "       [300, 320, 340, 360],\n",
       "       [110, 130, 150, 170],\n",
       "       [210, 230, 250, 270],\n",
       "       [310, 330, 350, 370]])"
      ]
     },
     "execution_count": 149,
     "metadata": {},
     "output_type": "execute_result"
    }
   ],
   "source": [
    "# 1\n",
    "combined_sales = np.vstack((sales_2021, sales_2022))\n",
    "combined_sales"
   ]
  },
  {
   "cell_type": "code",
   "execution_count": 150,
   "id": "1a381738",
   "metadata": {},
   "outputs": [
    {
     "data": {
      "text/plain": [
       "array([100, 120, 140, 160, 200, 220, 240, 260, 300, 320, 340, 360, 110,\n",
       "       130, 150, 170, 210, 230, 250, 270, 310, 330, 350, 370])"
      ]
     },
     "execution_count": 150,
     "metadata": {},
     "output_type": "execute_result"
    }
   ],
   "source": [
    "# 2\n",
    "combined_sales.reshape(-1)"
   ]
  },
  {
   "cell_type": "code",
   "execution_count": 168,
   "id": "1824173d",
   "metadata": {},
   "outputs": [
    {
     "data": {
      "text/plain": [
       "array([100, 120, 140, 160, 200, 220, 240, 260, 300, 320, 340, 360, 110,\n",
       "       130, 150, 170, 210, 230, 250, 270, 310, 330, 350, 370])"
      ]
     },
     "execution_count": 168,
     "metadata": {},
     "output_type": "execute_result"
    }
   ],
   "source": [
    "np.ravel(combined_sales)"
   ]
  },
  {
   "cell_type": "code",
   "execution_count": 154,
   "id": "1b9b1f59",
   "metadata": {},
   "outputs": [
    {
     "data": {
      "text/plain": [
       "[array([[100, 120, 140, 160]]),\n",
       " array([[200, 220, 240, 260]]),\n",
       " array([[300, 320, 340, 360]]),\n",
       " array([[110, 130, 150, 170]]),\n",
       " array([[210, 230, 250, 270]]),\n",
       " array([[310, 330, 350, 370]])]"
      ]
     },
     "execution_count": 154,
     "metadata": {},
     "output_type": "execute_result"
    }
   ],
   "source": [
    "# 3\n",
    "split_products = np.vsplit(combined_sales, 6)\n",
    "split_products"
   ]
  },
  {
   "cell_type": "code",
   "execution_count": 156,
   "id": "08afb230",
   "metadata": {},
   "outputs": [
    {
     "data": {
      "text/plain": [
       "array([[100, 120, 140, 160],\n",
       "       [110, 130, 150, 170]])"
      ]
     },
     "execution_count": 156,
     "metadata": {},
     "output_type": "execute_result"
    }
   ],
   "source": [
    "product1_sales = np.concatenate((split_products[0], split_products[3]), axis=0)\n",
    "product1_sales"
   ]
  },
  {
   "cell_type": "code",
   "execution_count": 157,
   "id": "dd4f77aa",
   "metadata": {},
   "outputs": [
    {
     "data": {
      "text/plain": [
       "array([[200, 220, 240, 260],\n",
       "       [210, 230, 250, 270]])"
      ]
     },
     "execution_count": 157,
     "metadata": {},
     "output_type": "execute_result"
    }
   ],
   "source": [
    "product2_sales = np.concatenate((split_products[1], split_products[4]))\n",
    "product2_sales"
   ]
  },
  {
   "cell_type": "code",
   "execution_count": 159,
   "id": "6fa5c2ee",
   "metadata": {},
   "outputs": [
    {
     "data": {
      "text/plain": [
       "array([[300, 320, 340, 360],\n",
       "       [310, 330, 350, 370]])"
      ]
     },
     "execution_count": 159,
     "metadata": {},
     "output_type": "execute_result"
    }
   ],
   "source": [
    "product3_sales = np.concatenate((split_products[2], split_products[5]))\n",
    "product3_sales"
   ]
  },
  {
   "cell_type": "code",
   "execution_count": 165,
   "id": "d19b1ee7",
   "metadata": {},
   "outputs": [
    {
     "data": {
      "text/plain": [
       "array([[100, 120, 140, 160],\n",
       "       [200, 220, 240, 260],\n",
       "       [300, 320, 340, 360],\n",
       "       [110, 130, 150, 170],\n",
       "       [210, 230, 250, 270],\n",
       "       [310, 330, 350, 370],\n",
       "       [100, 120, 140, 160],\n",
       "       [200, 220, 240, 260],\n",
       "       [300, 320, 340, 360],\n",
       "       [110, 130, 150, 170],\n",
       "       [210, 230, 250, 270],\n",
       "       [310, 330, 350, 370]])"
      ]
     },
     "execution_count": 165,
     "metadata": {},
     "output_type": "execute_result"
    }
   ],
   "source": [
    "# 4\n",
    "repeated_sales = np.tile(combined_sales, (2, 1))\n",
    "repeated_sales"
   ]
  },
  {
   "cell_type": "code",
   "execution_count": 166,
   "id": "4aa910a6",
   "metadata": {},
   "outputs": [
    {
     "name": "stdout",
     "output_type": "stream",
     "text": [
      "Total sales for 2021 was $2760 thousand dollars.\n"
     ]
    }
   ],
   "source": [
    "# 5\n",
    "total_sales_2021 = np.sum(sales_2021)\n",
    "print(f\"Total sales for 2021 was ${total_sales_2021} thousand dollars.\")"
   ]
  },
  {
   "cell_type": "code",
   "execution_count": 167,
   "id": "9c9cfd19",
   "metadata": {},
   "outputs": [
    {
     "name": "stdout",
     "output_type": "stream",
     "text": [
      "Total sales for 2022 was $2880 thousand dollars.\n"
     ]
    }
   ],
   "source": [
    "total_sales_2022 = np.sum(sales_2022)\n",
    "print(f\"Total sales for 2022 was ${total_sales_2022} thousand dollars.\")"
   ]
  }
 ],
 "metadata": {
  "kernelspec": {
   "display_name": "data-procvis",
   "language": "python",
   "name": "python3"
  },
  "language_info": {
   "codemirror_mode": {
    "name": "ipython",
    "version": 3
   },
   "file_extension": ".py",
   "mimetype": "text/x-python",
   "name": "python",
   "nbconvert_exporter": "python",
   "pygments_lexer": "ipython3",
   "version": "3.11.11"
  }
 },
 "nbformat": 4,
 "nbformat_minor": 5
}
