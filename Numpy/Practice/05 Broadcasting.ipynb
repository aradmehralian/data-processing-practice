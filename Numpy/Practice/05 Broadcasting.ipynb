{
 "cells": [
  {
   "cell_type": "markdown",
   "id": "044df46a",
   "metadata": {},
   "source": [
    "# Coding Practice Session 5\n",
    "## Broadcasting"
   ]
  },
  {
   "cell_type": "code",
   "execution_count": 1,
   "id": "d675053c",
   "metadata": {},
   "outputs": [],
   "source": [
    "import numpy as np"
   ]
  },
  {
   "cell_type": "code",
   "execution_count": 2,
   "id": "7d4723c2",
   "metadata": {},
   "outputs": [],
   "source": [
    "arr = np.array([1, 2, 3])\n",
    "scalar = 10"
   ]
  },
  {
   "cell_type": "code",
   "execution_count": 3,
   "id": "32fdebb6",
   "metadata": {},
   "outputs": [
    {
     "data": {
      "text/plain": [
       "array([11, 12, 13])"
      ]
     },
     "execution_count": 3,
     "metadata": {},
     "output_type": "execute_result"
    }
   ],
   "source": [
    "arr + scalar"
   ]
  },
  {
   "cell_type": "markdown",
   "id": "0bbfecc2",
   "metadata": {},
   "source": [
    "### Rules of broadcasting"
   ]
  },
  {
   "cell_type": "markdown",
   "id": "688474e0",
   "metadata": {},
   "source": [
    "#### Rule 1: Matching Dimensions"
   ]
  },
  {
   "cell_type": "code",
   "execution_count": 36,
   "id": "007cc23f",
   "metadata": {},
   "outputs": [
    {
     "data": {
      "text/plain": [
       "array([1, 7, 6])"
      ]
     },
     "execution_count": 36,
     "metadata": {},
     "output_type": "execute_result"
    }
   ],
   "source": [
    "arr1 = np.random.randint(1, 10, size=3)\n",
    "arr1  # gets broadcasted to (1, 3)"
   ]
  },
  {
   "cell_type": "code",
   "execution_count": 37,
   "id": "f7af9b9b",
   "metadata": {},
   "outputs": [
    {
     "data": {
      "text/plain": [
       "(3,)"
      ]
     },
     "execution_count": 37,
     "metadata": {},
     "output_type": "execute_result"
    }
   ],
   "source": [
    "arr1.shape"
   ]
  },
  {
   "cell_type": "code",
   "execution_count": 38,
   "id": "07f3b3ad",
   "metadata": {},
   "outputs": [
    {
     "data": {
      "text/plain": [
       "array([[8, 8, 8],\n",
       "       [4, 9, 1],\n",
       "       [9, 1, 7],\n",
       "       [8, 6, 2]])"
      ]
     },
     "execution_count": 38,
     "metadata": {},
     "output_type": "execute_result"
    }
   ],
   "source": [
    "arr2 = np.random.randint(1, 10, size=(4, 3))\n",
    "arr2"
   ]
  },
  {
   "cell_type": "code",
   "execution_count": 39,
   "id": "7ebce1b8",
   "metadata": {},
   "outputs": [
    {
     "data": {
      "text/plain": [
       "array([[ 8, 56, 48],\n",
       "       [ 4, 63,  6],\n",
       "       [ 9,  7, 42],\n",
       "       [ 8, 42, 12]])"
      ]
     },
     "execution_count": 39,
     "metadata": {},
     "output_type": "execute_result"
    }
   ],
   "source": [
    "result = arr2 * arr1\n",
    "result"
   ]
  },
  {
   "cell_type": "code",
   "execution_count": 40,
   "id": "74c0521f",
   "metadata": {},
   "outputs": [
    {
     "data": {
      "text/plain": [
       "(4, 3)"
      ]
     },
     "execution_count": 40,
     "metadata": {},
     "output_type": "execute_result"
    }
   ],
   "source": [
    "result.shape"
   ]
  },
  {
   "cell_type": "code",
   "execution_count": 41,
   "id": "2fd14bb4",
   "metadata": {},
   "outputs": [
    {
     "data": {
      "text/plain": [
       "array([[[5, 7, 8],\n",
       "        [3, 4, 3],\n",
       "        [8, 9, 6]],\n",
       "\n",
       "       [[2, 2, 4],\n",
       "        [1, 5, 5],\n",
       "        [1, 6, 1]]])"
      ]
     },
     "execution_count": 41,
     "metadata": {},
     "output_type": "execute_result"
    }
   ],
   "source": [
    "arr1 = np.random.randint(1, 10, size=(2, 3, 3))\n",
    "arr1"
   ]
  },
  {
   "cell_type": "code",
   "execution_count": null,
   "id": "a11f0512",
   "metadata": {},
   "outputs": [
    {
     "data": {
      "text/plain": [
       "array([[4, 8, 9],\n",
       "       [3, 1, 2],\n",
       "       [4, 1, 7]])"
      ]
     },
     "execution_count": 42,
     "metadata": {},
     "output_type": "execute_result"
    }
   ],
   "source": [
    "arr2 = np.random.randint(1, 10, size=(3, 3))  # (1, 3, 3)\n",
    "arr2"
   ]
  },
  {
   "cell_type": "code",
   "execution_count": 43,
   "id": "c3ec25dd",
   "metadata": {},
   "outputs": [
    {
     "data": {
      "text/plain": [
       "array([[[20, 56, 72],\n",
       "        [ 9,  4,  6],\n",
       "        [32,  9, 42]],\n",
       "\n",
       "       [[ 8, 16, 36],\n",
       "        [ 3,  5, 10],\n",
       "        [ 4,  6,  7]]])"
      ]
     },
     "execution_count": 43,
     "metadata": {},
     "output_type": "execute_result"
    }
   ],
   "source": [
    "result = arr1 * arr2\n",
    "result"
   ]
  },
  {
   "cell_type": "code",
   "execution_count": 44,
   "id": "091dc962",
   "metadata": {},
   "outputs": [
    {
     "data": {
      "text/plain": [
       "(2, 3, 3)"
      ]
     },
     "execution_count": 44,
     "metadata": {},
     "output_type": "execute_result"
    }
   ],
   "source": [
    "result.shape"
   ]
  },
  {
   "cell_type": "code",
   "execution_count": 45,
   "id": "1855dce0",
   "metadata": {},
   "outputs": [
    {
     "ename": "ValueError",
     "evalue": "operands could not be broadcast together with shapes (4,3) (4,) ",
     "output_type": "error",
     "traceback": [
      "\u001b[0;31m---------------------------------------------------------------------------\u001b[0m",
      "\u001b[0;31mValueError\u001b[0m                                Traceback (most recent call last)",
      "Cell \u001b[0;32mIn[45], line 4\u001b[0m\n\u001b[1;32m      1\u001b[0m a \u001b[38;5;241m=\u001b[39m np\u001b[38;5;241m.\u001b[39mrandom\u001b[38;5;241m.\u001b[39mrand(\u001b[38;5;241m4\u001b[39m, \u001b[38;5;241m3\u001b[39m)\n\u001b[1;32m      2\u001b[0m b \u001b[38;5;241m=\u001b[39m np\u001b[38;5;241m.\u001b[39mrandom\u001b[38;5;241m.\u001b[39mrand(\u001b[38;5;241m4\u001b[39m)\n\u001b[0;32m----> 4\u001b[0m a \u001b[38;5;241m*\u001b[39m b\n",
      "\u001b[0;31mValueError\u001b[0m: operands could not be broadcast together with shapes (4,3) (4,) "
     ]
    }
   ],
   "source": [
    "a = np.random.rand(4, 3)\n",
    "b = np.random.rand(4)\n",
    "\n",
    "a * b"
   ]
  },
  {
   "cell_type": "markdown",
   "id": "496b92fa",
   "metadata": {},
   "source": [
    "#### Rule 2: Stretching Scalar Values"
   ]
  },
  {
   "cell_type": "code",
   "execution_count": 48,
   "id": "3f57c930",
   "metadata": {},
   "outputs": [
    {
     "data": {
      "text/plain": [
       "array([[ 1,  2,  3],\n",
       "       [ 4,  5,  6],\n",
       "       [ 7,  8,  9],\n",
       "       [10, 11, 12]])"
      ]
     },
     "execution_count": 48,
     "metadata": {},
     "output_type": "execute_result"
    }
   ],
   "source": [
    "arr = np.arange(1, 13).reshape(4, 3)\n",
    "arr"
   ]
  },
  {
   "cell_type": "code",
   "execution_count": 49,
   "id": "bf5c69aa",
   "metadata": {},
   "outputs": [],
   "source": [
    "scalar = 10"
   ]
  },
  {
   "cell_type": "code",
   "execution_count": null,
   "id": "fd7c9817",
   "metadata": {},
   "outputs": [
    {
     "data": {
      "text/plain": [
       "array([[11, 12, 13],\n",
       "       [14, 15, 16],\n",
       "       [17, 18, 19],\n",
       "       [20, 21, 22]])"
      ]
     },
     "execution_count": 50,
     "metadata": {},
     "output_type": "execute_result"
    }
   ],
   "source": [
    "result = arr + scalar\n",
    "result"
   ]
  },
  {
   "cell_type": "markdown",
   "id": "d6234a20",
   "metadata": {},
   "source": [
    "#### Rule 3: Stretching Arrays with Size 1"
   ]
  },
  {
   "cell_type": "code",
   "execution_count": 51,
   "id": "2bac9fef",
   "metadata": {},
   "outputs": [
    {
     "data": {
      "text/plain": [
       "(3,)"
      ]
     },
     "execution_count": 51,
     "metadata": {},
     "output_type": "execute_result"
    }
   ],
   "source": [
    "a = np.array([1, 2, 3])\n",
    "a.shape"
   ]
  },
  {
   "cell_type": "code",
   "execution_count": 52,
   "id": "226466bb",
   "metadata": {},
   "outputs": [
    {
     "data": {
      "text/plain": [
       "(3, 1)"
      ]
     },
     "execution_count": 52,
     "metadata": {},
     "output_type": "execute_result"
    }
   ],
   "source": [
    "b = np.array([[1], [2], [3]])\n",
    "b.shape"
   ]
  },
  {
   "cell_type": "code",
   "execution_count": 53,
   "id": "a79666ff",
   "metadata": {},
   "outputs": [
    {
     "data": {
      "text/plain": [
       "array([[1, 2, 3],\n",
       "       [2, 4, 6],\n",
       "       [3, 6, 9]])"
      ]
     },
     "execution_count": 53,
     "metadata": {},
     "output_type": "execute_result"
    }
   ],
   "source": [
    "result = a * b\n",
    "result"
   ]
  },
  {
   "cell_type": "markdown",
   "id": "28043281",
   "metadata": {},
   "source": [
    "### Examples of Broadcasting"
   ]
  },
  {
   "cell_type": "code",
   "execution_count": 54,
   "id": "ce28bb33",
   "metadata": {},
   "outputs": [],
   "source": [
    "arr = np.array([[1, 2, 3, 4], [5, 6, 7, 8], [9, 10, 11, 12]])"
   ]
  },
  {
   "cell_type": "code",
   "execution_count": 55,
   "id": "c7d8c276",
   "metadata": {},
   "outputs": [
    {
     "data": {
      "text/plain": [
       "array([[1001, 1002, 1003, 1004],\n",
       "       [1005, 1006, 1007, 1008],\n",
       "       [1009, 1010, 1011, 1012]])"
      ]
     },
     "execution_count": 55,
     "metadata": {},
     "output_type": "execute_result"
    }
   ],
   "source": [
    "arr + 1000"
   ]
  },
  {
   "cell_type": "code",
   "execution_count": 58,
   "id": "b4880f0a",
   "metadata": {},
   "outputs": [],
   "source": [
    "one_dim_arr = np.array([500, 600, 700, 800])"
   ]
  },
  {
   "cell_type": "code",
   "execution_count": 60,
   "id": "04b8db02",
   "metadata": {},
   "outputs": [
    {
     "data": {
      "text/plain": [
       "array([[501, 602, 703, 804],\n",
       "       [505, 606, 707, 808],\n",
       "       [509, 610, 711, 812]])"
      ]
     },
     "execution_count": 60,
     "metadata": {},
     "output_type": "execute_result"
    }
   ],
   "source": [
    "arr + one_dim_arr"
   ]
  },
  {
   "cell_type": "code",
   "execution_count": null,
   "id": "dbb83408",
   "metadata": {},
   "outputs": [],
   "source": [
    "arr1 = np.array([[1, 2, 3], [4, 5, 6]])\n",
    "arr2 = np.array([[10], [20]])"
   ]
  },
  {
   "cell_type": "code",
   "execution_count": 62,
   "id": "608cdddf",
   "metadata": {},
   "outputs": [
    {
     "data": {
      "text/plain": [
       "(2, 3)"
      ]
     },
     "execution_count": 62,
     "metadata": {},
     "output_type": "execute_result"
    }
   ],
   "source": [
    "arr1.shape"
   ]
  },
  {
   "cell_type": "code",
   "execution_count": 63,
   "id": "c45abd77",
   "metadata": {},
   "outputs": [
    {
     "data": {
      "text/plain": [
       "(2, 1)"
      ]
     },
     "execution_count": 63,
     "metadata": {},
     "output_type": "execute_result"
    }
   ],
   "source": [
    "arr2.shape"
   ]
  },
  {
   "cell_type": "code",
   "execution_count": 64,
   "id": "f4a6b5bf",
   "metadata": {},
   "outputs": [
    {
     "data": {
      "text/plain": [
       "array([[11, 12, 13],\n",
       "       [24, 25, 26]])"
      ]
     },
     "execution_count": 64,
     "metadata": {},
     "output_type": "execute_result"
    }
   ],
   "source": [
    "arr1 + arr2"
   ]
  },
  {
   "cell_type": "code",
   "execution_count": 65,
   "id": "b26f1da5",
   "metadata": {},
   "outputs": [
    {
     "data": {
      "text/plain": [
       "array([[0.1 , 0.2 , 0.3 ],\n",
       "       [0.2 , 0.25, 0.3 ]])"
      ]
     },
     "execution_count": 65,
     "metadata": {},
     "output_type": "execute_result"
    }
   ],
   "source": [
    "arr1 / arr2"
   ]
  },
  {
   "cell_type": "code",
   "execution_count": 66,
   "id": "37a276b7",
   "metadata": {},
   "outputs": [
    {
     "data": {
      "text/plain": [
       "array([[1, 2, 3],\n",
       "       [4, 5, 6]])"
      ]
     },
     "execution_count": 66,
     "metadata": {},
     "output_type": "execute_result"
    }
   ],
   "source": [
    "arr1"
   ]
  },
  {
   "cell_type": "code",
   "execution_count": 67,
   "id": "9ea77051",
   "metadata": {},
   "outputs": [
    {
     "data": {
      "text/plain": [
       "array([[10],\n",
       "       [20]])"
      ]
     },
     "execution_count": 67,
     "metadata": {},
     "output_type": "execute_result"
    }
   ],
   "source": [
    "arr2"
   ]
  },
  {
   "cell_type": "code",
   "execution_count": 68,
   "id": "41de015e",
   "metadata": {},
   "outputs": [],
   "source": [
    "arr3 = np.array([100, 200, 300])"
   ]
  },
  {
   "cell_type": "code",
   "execution_count": 70,
   "id": "f43b5300",
   "metadata": {},
   "outputs": [
    {
     "data": {
      "text/plain": [
       "array([[111, 212, 313],\n",
       "       [124, 225, 326]])"
      ]
     },
     "execution_count": 70,
     "metadata": {},
     "output_type": "execute_result"
    }
   ],
   "source": [
    "result = arr1 + arr2 + arr3\n",
    "result"
   ]
  },
  {
   "cell_type": "code",
   "execution_count": 71,
   "id": "93dab0d2",
   "metadata": {},
   "outputs": [],
   "source": [
    "assert result.shape == (2, 3), f\"Expected output shape of (2, 3), got {result.shape}\""
   ]
  },
  {
   "cell_type": "markdown",
   "id": "784af729",
   "metadata": {},
   "source": [
    "**Note:** use `assert` to validate the shape of arrays, to make sure your operations are performing as expected and reach the desired goal."
   ]
  },
  {
   "cell_type": "code",
   "execution_count": 85,
   "id": "2934876e",
   "metadata": {},
   "outputs": [
    {
     "data": {
      "text/plain": [
       "(3, 2)"
      ]
     },
     "execution_count": 85,
     "metadata": {},
     "output_type": "execute_result"
    }
   ],
   "source": [
    "np.broadcast_shapes((3, 2), (3, 1))"
   ]
  },
  {
   "cell_type": "markdown",
   "id": "047a3a73",
   "metadata": {},
   "source": [
    "### Exercise"
   ]
  },
  {
   "cell_type": "code",
   "execution_count": null,
   "id": "d542f549",
   "metadata": {},
   "outputs": [
    {
     "data": {
      "text/plain": [
       "array([[4, 5, 9, 3],\n",
       "       [9, 6, 5, 9],\n",
       "       [7, 8, 2, 4]])"
      ]
     },
     "execution_count": 73,
     "metadata": {},
     "output_type": "execute_result"
    }
   ],
   "source": [
    "# 1\n",
    "arr1 = np.random.randint(1, 11, size=(3, 4))  # 3x4\n",
    "arr1"
   ]
  },
  {
   "cell_type": "code",
   "execution_count": null,
   "id": "ebfba122",
   "metadata": {},
   "outputs": [],
   "source": [
    "# 2\n",
    "arr2 = np.array([2, 4, 6, 8])  # 1x4"
   ]
  },
  {
   "cell_type": "code",
   "execution_count": 75,
   "id": "f9136589",
   "metadata": {},
   "outputs": [
    {
     "data": {
      "text/plain": [
       "(4,)"
      ]
     },
     "execution_count": 75,
     "metadata": {},
     "output_type": "execute_result"
    }
   ],
   "source": [
    "arr2.shape"
   ]
  },
  {
   "cell_type": "code",
   "execution_count": 76,
   "id": "faa2ac47",
   "metadata": {},
   "outputs": [
    {
     "data": {
      "text/plain": [
       "array([[ 6,  9, 15, 11],\n",
       "       [11, 10, 11, 17],\n",
       "       [ 9, 12,  8, 12]])"
      ]
     },
     "execution_count": 76,
     "metadata": {},
     "output_type": "execute_result"
    }
   ],
   "source": [
    "# 3\n",
    "result1 = arr1 + arr2\n",
    "result1"
   ]
  },
  {
   "cell_type": "code",
   "execution_count": null,
   "id": "6b71bd6e",
   "metadata": {},
   "outputs": [
    {
     "data": {
      "text/plain": [
       "array([[10],\n",
       "       [20],\n",
       "       [30]])"
      ]
     },
     "execution_count": 77,
     "metadata": {},
     "output_type": "execute_result"
    }
   ],
   "source": [
    "# 4\n",
    "arr3 = np.array([[10], [20], [30]]) # 3x1\n",
    "arr3"
   ]
  },
  {
   "cell_type": "code",
   "execution_count": 78,
   "id": "78a50540",
   "metadata": {},
   "outputs": [
    {
     "data": {
      "text/plain": [
       "array([[ 40,  50,  90,  30],\n",
       "       [180, 120, 100, 180],\n",
       "       [210, 240,  60, 120]])"
      ]
     },
     "execution_count": 78,
     "metadata": {},
     "output_type": "execute_result"
    }
   ],
   "source": [
    "# 5\n",
    "result2 = arr1 * arr3\n",
    "result2"
   ]
  },
  {
   "cell_type": "code",
   "execution_count": 79,
   "id": "0ffb3730",
   "metadata": {},
   "outputs": [],
   "source": [
    "# 6\n",
    "scalar = 5"
   ]
  },
  {
   "cell_type": "code",
   "execution_count": 80,
   "id": "b9a86080",
   "metadata": {},
   "outputs": [
    {
     "data": {
      "text/plain": [
       "array([[ 1,  4, 10,  6],\n",
       "       [ 6,  5,  6, 12],\n",
       "       [ 4,  7,  3,  7]])"
      ]
     },
     "execution_count": 80,
     "metadata": {},
     "output_type": "execute_result"
    }
   ],
   "source": [
    "# 7\n",
    "result3 = result1 - scalar\n",
    "result3"
   ]
  },
  {
   "cell_type": "code",
   "execution_count": 83,
   "id": "2fa0fa7e",
   "metadata": {},
   "outputs": [
    {
     "data": {
      "text/plain": [
       "(5, 2)"
      ]
     },
     "execution_count": 83,
     "metadata": {},
     "output_type": "execute_result"
    }
   ],
   "source": [
    "np.broadcast_shapes((5, 2), (2, ))"
   ]
  }
 ],
 "metadata": {
  "kernelspec": {
   "display_name": "data-procvis",
   "language": "python",
   "name": "python3"
  },
  "language_info": {
   "codemirror_mode": {
    "name": "ipython",
    "version": 3
   },
   "file_extension": ".py",
   "mimetype": "text/x-python",
   "name": "python",
   "nbconvert_exporter": "python",
   "pygments_lexer": "ipython3",
   "version": "3.11.11"
  }
 },
 "nbformat": 4,
 "nbformat_minor": 5
}
