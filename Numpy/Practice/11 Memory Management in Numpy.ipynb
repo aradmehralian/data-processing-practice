{
 "cells": [
  {
   "cell_type": "markdown",
   "id": "f506bbcf",
   "metadata": {},
   "source": [
    "# Coding Practice Session 11\n",
    "## Memory Management in NumPy"
   ]
  },
  {
   "cell_type": "code",
   "execution_count": 1,
   "id": "f62f15fe",
   "metadata": {},
   "outputs": [],
   "source": [
    "import numpy as np"
   ]
  },
  {
   "cell_type": "code",
   "execution_count": 2,
   "id": "6dfc920f",
   "metadata": {},
   "outputs": [],
   "source": [
    "arr = np.array([1, 2, 3])"
   ]
  },
  {
   "cell_type": "code",
   "execution_count": 3,
   "id": "3f9a31e9",
   "metadata": {},
   "outputs": [
    {
     "data": {
      "text/plain": [
       "(3,)"
      ]
     },
     "execution_count": 3,
     "metadata": {},
     "output_type": "execute_result"
    }
   ],
   "source": [
    "arr.shape"
   ]
  },
  {
   "cell_type": "code",
   "execution_count": 4,
   "id": "141cc03d",
   "metadata": {},
   "outputs": [
    {
     "data": {
      "text/plain": [
       "  C_CONTIGUOUS : True\n",
       "  F_CONTIGUOUS : True\n",
       "  OWNDATA : True\n",
       "  WRITEABLE : True\n",
       "  ALIGNED : True\n",
       "  WRITEBACKIFCOPY : False"
      ]
     },
     "execution_count": 4,
     "metadata": {},
     "output_type": "execute_result"
    }
   ],
   "source": [
    "arr.flags"
   ]
  },
  {
   "cell_type": "code",
   "execution_count": 9,
   "id": "e66fdc4f",
   "metadata": {},
   "outputs": [],
   "source": [
    "a = np.array([[1, 2, 3], [4, 5, 6]], dtype=\"i1\")"
   ]
  },
  {
   "cell_type": "code",
   "execution_count": 10,
   "id": "1335ef22",
   "metadata": {},
   "outputs": [
    {
     "data": {
      "text/plain": [
       "np.int8(2)"
      ]
     },
     "execution_count": 10,
     "metadata": {},
     "output_type": "execute_result"
    }
   ],
   "source": [
    "a[0, 1]"
   ]
  },
  {
   "cell_type": "code",
   "execution_count": 11,
   "id": "0259543f",
   "metadata": {},
   "outputs": [
    {
     "data": {
      "text/plain": [
       "(2, 3)"
      ]
     },
     "execution_count": 11,
     "metadata": {},
     "output_type": "execute_result"
    }
   ],
   "source": [
    "a.shape"
   ]
  },
  {
   "cell_type": "code",
   "execution_count": 14,
   "id": "d1ac9c30",
   "metadata": {},
   "outputs": [
    {
     "data": {
      "text/plain": [
       "dtype('int8')"
      ]
     },
     "execution_count": 14,
     "metadata": {},
     "output_type": "execute_result"
    }
   ],
   "source": [
    "a.dtype"
   ]
  },
  {
   "cell_type": "code",
   "execution_count": 12,
   "id": "3cd0997e",
   "metadata": {},
   "outputs": [
    {
     "data": {
      "text/plain": [
       "  C_CONTIGUOUS : True\n",
       "  F_CONTIGUOUS : False\n",
       "  OWNDATA : True\n",
       "  WRITEABLE : True\n",
       "  ALIGNED : True\n",
       "  WRITEBACKIFCOPY : False"
      ]
     },
     "execution_count": 12,
     "metadata": {},
     "output_type": "execute_result"
    }
   ],
   "source": [
    "a.flags"
   ]
  },
  {
   "cell_type": "code",
   "execution_count": null,
   "id": "8873b90b",
   "metadata": {},
   "outputs": [
    {
     "data": {
      "text/plain": [
       "(3, 1)"
      ]
     },
     "execution_count": 15,
     "metadata": {},
     "output_type": "execute_result"
    }
   ],
   "source": [
    "a.strides  # (row-wise strides, column-wise strides) in bytes"
   ]
  },
  {
   "cell_type": "code",
   "execution_count": null,
   "id": "f6e77655",
   "metadata": {},
   "outputs": [
    {
     "data": {
      "text/plain": [
       "np.int8(5)"
      ]
     },
     "execution_count": 17,
     "metadata": {},
     "output_type": "execute_result"
    }
   ],
   "source": [
    "a[1, 1]  # retrieved using strides attribute"
   ]
  },
  {
   "cell_type": "code",
   "execution_count": 18,
   "id": "89c448fb",
   "metadata": {},
   "outputs": [
    {
     "data": {
      "text/plain": [
       "array([[[0.40460914, 0.90623019, 0.87687786, 0.84286516],\n",
       "        [0.18117263, 0.37257489, 0.98400391, 0.37510078],\n",
       "        [0.57089361, 0.63500156, 0.33550326, 0.94325497]],\n",
       "\n",
       "       [[0.06339085, 0.22325771, 0.71264488, 0.54924908],\n",
       "        [0.15518402, 0.13546458, 0.48675143, 0.30227645],\n",
       "        [0.21806038, 0.10119147, 0.07402865, 0.16053531]]])"
      ]
     },
     "execution_count": 18,
     "metadata": {},
     "output_type": "execute_result"
    }
   ],
   "source": [
    "arr = np.random.rand(2, 3, 4)\n",
    "arr"
   ]
  },
  {
   "cell_type": "code",
   "execution_count": 19,
   "id": "6d303393",
   "metadata": {},
   "outputs": [
    {
     "data": {
      "text/plain": [
       "(2, 3, 4)"
      ]
     },
     "execution_count": 19,
     "metadata": {},
     "output_type": "execute_result"
    }
   ],
   "source": [
    "arr.shape"
   ]
  },
  {
   "cell_type": "code",
   "execution_count": 21,
   "id": "97dabcd1",
   "metadata": {},
   "outputs": [
    {
     "data": {
      "text/plain": [
       "dtype('float64')"
      ]
     },
     "execution_count": 21,
     "metadata": {},
     "output_type": "execute_result"
    }
   ],
   "source": [
    "arr.dtype"
   ]
  },
  {
   "cell_type": "code",
   "execution_count": 20,
   "id": "094d9b09",
   "metadata": {},
   "outputs": [
    {
     "data": {
      "text/plain": [
       "(96, 32, 8)"
      ]
     },
     "execution_count": 20,
     "metadata": {},
     "output_type": "execute_result"
    }
   ],
   "source": [
    "arr.strides"
   ]
  },
  {
   "cell_type": "code",
   "execution_count": 22,
   "id": "e7753a72",
   "metadata": {},
   "outputs": [
    {
     "data": {
      "text/plain": [
       "np.float64(0.0740286546498855)"
      ]
     },
     "execution_count": 22,
     "metadata": {},
     "output_type": "execute_result"
    }
   ],
   "source": [
    "arr[1, 2, 2]"
   ]
  },
  {
   "cell_type": "code",
   "execution_count": 23,
   "id": "397714bb",
   "metadata": {},
   "outputs": [
    {
     "data": {
      "text/plain": [
       "176"
      ]
     },
     "execution_count": 23,
     "metadata": {},
     "output_type": "execute_result"
    }
   ],
   "source": [
    "96 * 1 + 32 * 2 + 8 * 2"
   ]
  },
  {
   "cell_type": "markdown",
   "id": "8934415f",
   "metadata": {},
   "source": [
    "To get the value at `arr[1, 2, 2]`, from the address of the first element, you should traverse **176** bytes."
   ]
  },
  {
   "cell_type": "markdown",
   "id": "2149b505",
   "metadata": {},
   "source": [
    "### Row-major Indexing Vs. Column-major Indexing"
   ]
  },
  {
   "cell_type": "code",
   "execution_count": 24,
   "id": "ea309719",
   "metadata": {},
   "outputs": [],
   "source": [
    "c_array = np.array(\n",
    "    [[1, 2, 3, 4], [5, 6, 7, 8], [9, 10, 11, 12]], dtype=\"u1\"\n",
    ")  # row-major indexing"
   ]
  },
  {
   "cell_type": "code",
   "execution_count": null,
   "id": "da7d763a",
   "metadata": {},
   "outputs": [
    {
     "data": {
      "text/plain": [
       "array([[ 1,  2,  3,  4],\n",
       "       [ 5,  6,  7,  8],\n",
       "       [ 9, 10, 11, 12]], dtype=uint8)"
      ]
     },
     "execution_count": 25,
     "metadata": {},
     "output_type": "execute_result"
    }
   ],
   "source": [
    "f_array = np.asfortranarray(c_array)  # column-major indexing\n",
    "f_array"
   ]
  },
  {
   "cell_type": "code",
   "execution_count": 26,
   "id": "00da9bbe",
   "metadata": {},
   "outputs": [
    {
     "data": {
      "text/plain": [
       "(3, 4)"
      ]
     },
     "execution_count": 26,
     "metadata": {},
     "output_type": "execute_result"
    }
   ],
   "source": [
    "c_array.shape"
   ]
  },
  {
   "cell_type": "code",
   "execution_count": 27,
   "id": "6b3577e8",
   "metadata": {},
   "outputs": [
    {
     "data": {
      "text/plain": [
       "(3, 4)"
      ]
     },
     "execution_count": 27,
     "metadata": {},
     "output_type": "execute_result"
    }
   ],
   "source": [
    "f_array.shape"
   ]
  },
  {
   "cell_type": "code",
   "execution_count": 28,
   "id": "c1e6dfc2",
   "metadata": {},
   "outputs": [
    {
     "data": {
      "text/plain": [
       "(4, 1)"
      ]
     },
     "execution_count": 28,
     "metadata": {},
     "output_type": "execute_result"
    }
   ],
   "source": [
    "c_array.strides"
   ]
  },
  {
   "cell_type": "code",
   "execution_count": 29,
   "id": "ab0fac5c",
   "metadata": {},
   "outputs": [
    {
     "data": {
      "text/plain": [
       "(1, 3)"
      ]
     },
     "execution_count": 29,
     "metadata": {},
     "output_type": "execute_result"
    }
   ],
   "source": [
    "f_array.strides"
   ]
  },
  {
   "cell_type": "code",
   "execution_count": 31,
   "id": "f1d310c8",
   "metadata": {},
   "outputs": [],
   "source": [
    "def sum_row(x, index=0):\n",
    "    \"\"\"Return the sum of the index row.\"\"\"\n",
    "    return np.sum(x[index, :])\n",
    "\n",
    "\n",
    "def sum_column(x, index=0):\n",
    "    \"\"\"Return the sum of the index column.\"\"\"\n",
    "    return np.sum(x[:, index])"
   ]
  },
  {
   "cell_type": "code",
   "execution_count": null,
   "id": "2fddefcb",
   "metadata": {},
   "outputs": [],
   "source": [
    "c_array = np.random.rand(10_000, 10_000)"
   ]
  },
  {
   "cell_type": "code",
   "execution_count": 33,
   "id": "26919738",
   "metadata": {},
   "outputs": [],
   "source": [
    "f_array = np.asfortranarray(c_array)"
   ]
  },
  {
   "cell_type": "code",
   "execution_count": 34,
   "id": "413f713c",
   "metadata": {},
   "outputs": [
    {
     "data": {
      "text/plain": [
       "array([[0.78656993, 0.69740608, 0.50020053, 0.84822112, 0.93695011],\n",
       "       [0.70209537, 0.64689201, 0.83629071, 0.7290132 , 0.08987388],\n",
       "       [0.10120361, 0.32498848, 0.15836997, 0.61363896, 0.56441722],\n",
       "       [0.95025807, 0.71747767, 0.31414254, 0.6499332 , 0.30216943],\n",
       "       [0.6679556 , 0.18277653, 0.27538511, 0.78026348, 0.37639849]])"
      ]
     },
     "execution_count": 34,
     "metadata": {},
     "output_type": "execute_result"
    }
   ],
   "source": [
    "c_array[:5, :5]"
   ]
  },
  {
   "cell_type": "code",
   "execution_count": 35,
   "id": "b479bab8",
   "metadata": {},
   "outputs": [
    {
     "data": {
      "text/plain": [
       "array([[0.78656993, 0.69740608, 0.50020053, 0.84822112, 0.93695011],\n",
       "       [0.70209537, 0.64689201, 0.83629071, 0.7290132 , 0.08987388],\n",
       "       [0.10120361, 0.32498848, 0.15836997, 0.61363896, 0.56441722],\n",
       "       [0.95025807, 0.71747767, 0.31414254, 0.6499332 , 0.30216943],\n",
       "       [0.6679556 , 0.18277653, 0.27538511, 0.78026348, 0.37639849]])"
      ]
     },
     "execution_count": 35,
     "metadata": {},
     "output_type": "execute_result"
    }
   ],
   "source": [
    "f_array[:5, :5]"
   ]
  },
  {
   "cell_type": "code",
   "execution_count": 36,
   "id": "2f4d541c",
   "metadata": {},
   "outputs": [
    {
     "data": {
      "text/plain": [
       "(80000, 8)"
      ]
     },
     "execution_count": 36,
     "metadata": {},
     "output_type": "execute_result"
    }
   ],
   "source": [
    "c_array.strides"
   ]
  },
  {
   "cell_type": "code",
   "execution_count": 37,
   "id": "86b8e476",
   "metadata": {},
   "outputs": [
    {
     "data": {
      "text/plain": [
       "(8, 80000)"
      ]
     },
     "execution_count": 37,
     "metadata": {},
     "output_type": "execute_result"
    }
   ],
   "source": [
    "f_array.strides"
   ]
  },
  {
   "cell_type": "code",
   "execution_count": 38,
   "id": "f083ddbd",
   "metadata": {},
   "outputs": [
    {
     "data": {
      "text/plain": [
       "np.float64(4988.298996750329)"
      ]
     },
     "execution_count": 38,
     "metadata": {},
     "output_type": "execute_result"
    }
   ],
   "source": [
    "sum_row(c_array)"
   ]
  },
  {
   "cell_type": "code",
   "execution_count": null,
   "id": "2041adf7",
   "metadata": {},
   "outputs": [
    {
     "data": {
      "text/plain": [
       "np.float64(4988.298996750329)"
      ]
     },
     "execution_count": 40,
     "metadata": {},
     "output_type": "execute_result"
    }
   ],
   "source": [
    "sum_row(f_array)"
   ]
  },
  {
   "cell_type": "code",
   "execution_count": 42,
   "id": "e68f7f0f",
   "metadata": {},
   "outputs": [
    {
     "name": "stdout",
     "output_type": "stream",
     "text": [
      "4.81 μs ± 1.12 μs per loop (mean ± std. dev. of 7 runs, 100,000 loops each)\n"
     ]
    }
   ],
   "source": [
    "%timeit sum_row(c_array)"
   ]
  },
  {
   "cell_type": "code",
   "execution_count": 43,
   "id": "eb4f3416",
   "metadata": {},
   "outputs": [
    {
     "name": "stdout",
     "output_type": "stream",
     "text": [
      "91.3 μs ± 16.1 μs per loop (mean ± std. dev. of 7 runs, 10,000 loops each)\n"
     ]
    }
   ],
   "source": [
    "%timeit sum_row(f_array)"
   ]
  },
  {
   "cell_type": "markdown",
   "id": "938a103a",
   "metadata": {},
   "source": [
    "As we can conclude, **row-major arrays (C-arrays)** are much more efficient for row-wise operations."
   ]
  },
  {
   "cell_type": "code",
   "execution_count": 44,
   "id": "1d967272",
   "metadata": {},
   "outputs": [
    {
     "name": "stdout",
     "output_type": "stream",
     "text": [
      "95.3 μs ± 7.09 μs per loop (mean ± std. dev. of 7 runs, 10,000 loops each)\n"
     ]
    }
   ],
   "source": [
    "%timeit sum_column(c_array)"
   ]
  },
  {
   "cell_type": "code",
   "execution_count": 45,
   "id": "535eea6b",
   "metadata": {},
   "outputs": [
    {
     "name": "stdout",
     "output_type": "stream",
     "text": [
      "5.2 μs ± 721 ns per loop (mean ± std. dev. of 7 runs, 100,000 loops each)\n"
     ]
    }
   ],
   "source": [
    "%timeit sum_column(f_array)"
   ]
  },
  {
   "cell_type": "markdown",
   "id": "d3d7a50b",
   "metadata": {},
   "source": [
    "However, **column-major arrays (fortran arrays)** are much more efficient for column-wise operations."
   ]
  },
  {
   "cell_type": "code",
   "execution_count": 59,
   "id": "13961c4d",
   "metadata": {},
   "outputs": [
    {
     "data": {
      "text/plain": [
       "array([0, 1, 2, 3, 4, 5, 6, 7, 8, 9], dtype=uint8)"
      ]
     },
     "execution_count": 59,
     "metadata": {},
     "output_type": "execute_result"
    }
   ],
   "source": [
    "arr = np.arange(10, dtype=\"u1\")\n",
    "arr"
   ]
  },
  {
   "cell_type": "code",
   "execution_count": 60,
   "id": "98399228",
   "metadata": {},
   "outputs": [
    {
     "data": {
      "text/plain": [
       "(1,)"
      ]
     },
     "execution_count": 60,
     "metadata": {},
     "output_type": "execute_result"
    }
   ],
   "source": [
    "arr.strides"
   ]
  },
  {
   "cell_type": "code",
   "execution_count": 61,
   "id": "57027fbe",
   "metadata": {},
   "outputs": [
    {
     "data": {
      "text/plain": [
       "(10,)"
      ]
     },
     "execution_count": 61,
     "metadata": {},
     "output_type": "execute_result"
    }
   ],
   "source": [
    "arr.shape"
   ]
  },
  {
   "cell_type": "code",
   "execution_count": 62,
   "id": "d23f4729",
   "metadata": {},
   "outputs": [],
   "source": [
    "arr.shape = (2, 5)"
   ]
  },
  {
   "cell_type": "code",
   "execution_count": 63,
   "id": "4949369f",
   "metadata": {},
   "outputs": [
    {
     "data": {
      "text/plain": [
       "array([[0, 1, 2, 3, 4],\n",
       "       [5, 6, 7, 8, 9]], dtype=uint8)"
      ]
     },
     "execution_count": 63,
     "metadata": {},
     "output_type": "execute_result"
    }
   ],
   "source": [
    "arr"
   ]
  },
  {
   "cell_type": "code",
   "execution_count": 64,
   "id": "13c40c02",
   "metadata": {},
   "outputs": [
    {
     "data": {
      "text/plain": [
       "(5, 1)"
      ]
     },
     "execution_count": 64,
     "metadata": {},
     "output_type": "execute_result"
    }
   ],
   "source": [
    "arr.strides"
   ]
  },
  {
   "cell_type": "markdown",
   "id": "cd8f3203",
   "metadata": {},
   "source": [
    "**Note:** Reshaping is fast in NumPy, because the memory layout of the array doesn't change; only the strides attribute is updated."
   ]
  },
  {
   "cell_type": "code",
   "execution_count": 65,
   "id": "36d5fd97",
   "metadata": {},
   "outputs": [],
   "source": [
    "x = np.ones((10_000, ))"
   ]
  },
  {
   "cell_type": "code",
   "execution_count": null,
   "id": "5986c568",
   "metadata": {},
   "outputs": [],
   "source": [
    "y = np.ones((10_000*100, ))"
   ]
  },
  {
   "cell_type": "code",
   "execution_count": 68,
   "id": "e0be9c0d",
   "metadata": {},
   "outputs": [
    {
     "data": {
      "text/plain": [
       "True"
      ]
     },
     "execution_count": 68,
     "metadata": {},
     "output_type": "execute_result"
    }
   ],
   "source": [
    "np.shares_memory(y, y[::100])"
   ]
  },
  {
   "cell_type": "code",
   "execution_count": 69,
   "id": "171a6946",
   "metadata": {},
   "outputs": [],
   "source": [
    "y = np.ones((10_000*100, ))[::100]"
   ]
  },
  {
   "cell_type": "code",
   "execution_count": 70,
   "id": "90d26422",
   "metadata": {},
   "outputs": [
    {
     "data": {
      "text/plain": [
       "(10000,)"
      ]
     },
     "execution_count": 70,
     "metadata": {},
     "output_type": "execute_result"
    }
   ],
   "source": [
    "x.shape"
   ]
  },
  {
   "cell_type": "code",
   "execution_count": 71,
   "id": "2d428bec",
   "metadata": {},
   "outputs": [
    {
     "data": {
      "text/plain": [
       "(10000,)"
      ]
     },
     "execution_count": 71,
     "metadata": {},
     "output_type": "execute_result"
    }
   ],
   "source": [
    "y.shape"
   ]
  },
  {
   "cell_type": "code",
   "execution_count": 72,
   "id": "bf822e4e",
   "metadata": {},
   "outputs": [
    {
     "data": {
      "text/plain": [
       "(8,)"
      ]
     },
     "execution_count": 72,
     "metadata": {},
     "output_type": "execute_result"
    }
   ],
   "source": [
    "x.strides"
   ]
  },
  {
   "cell_type": "code",
   "execution_count": 73,
   "id": "3e6edcc0",
   "metadata": {},
   "outputs": [
    {
     "data": {
      "text/plain": [
       "(800,)"
      ]
     },
     "execution_count": 73,
     "metadata": {},
     "output_type": "execute_result"
    }
   ],
   "source": [
    "y.strides"
   ]
  },
  {
   "cell_type": "code",
   "execution_count": 74,
   "id": "ca8cb423",
   "metadata": {},
   "outputs": [
    {
     "data": {
      "text/plain": [
       "np.True_"
      ]
     },
     "execution_count": 74,
     "metadata": {},
     "output_type": "execute_result"
    }
   ],
   "source": [
    "(y == x).all()"
   ]
  },
  {
   "cell_type": "code",
   "execution_count": 75,
   "id": "539127d5",
   "metadata": {},
   "outputs": [
    {
     "name": "stdout",
     "output_type": "stream",
     "text": [
      "3.45 μs ± 376 ns per loop (mean ± std. dev. of 7 runs, 100,000 loops each)\n"
     ]
    }
   ],
   "source": [
    "%timeit x.sum()"
   ]
  },
  {
   "cell_type": "code",
   "execution_count": 76,
   "id": "96ca79c5",
   "metadata": {},
   "outputs": [
    {
     "name": "stdout",
     "output_type": "stream",
     "text": [
      "7.89 μs ± 1.08 μs per loop (mean ± std. dev. of 7 runs, 100,000 loops each)\n"
     ]
    }
   ],
   "source": [
    "%timeit y.sum()"
   ]
  },
  {
   "cell_type": "markdown",
   "id": "e9dd7f98",
   "metadata": {},
   "source": [
    "When we want perform an operation on an array some elements of that array are copied to cache based on the size of the cache. These elements are contiguous. That's why there is a difference between summation of elements in `x` and `y`arrays."
   ]
  },
  {
   "cell_type": "code",
   "execution_count": 77,
   "id": "423dfe87",
   "metadata": {},
   "outputs": [
    {
     "data": {
      "text/plain": [
       "  C_CONTIGUOUS : True\n",
       "  F_CONTIGUOUS : True\n",
       "  OWNDATA : True\n",
       "  WRITEABLE : True\n",
       "  ALIGNED : True\n",
       "  WRITEBACKIFCOPY : False"
      ]
     },
     "execution_count": 77,
     "metadata": {},
     "output_type": "execute_result"
    }
   ],
   "source": [
    "x.flags"
   ]
  },
  {
   "cell_type": "code",
   "execution_count": 79,
   "id": "6b49284b",
   "metadata": {},
   "outputs": [
    {
     "data": {
      "text/plain": [
       "  C_CONTIGUOUS : False\n",
       "  F_CONTIGUOUS : False\n",
       "  OWNDATA : False\n",
       "  WRITEABLE : True\n",
       "  ALIGNED : True\n",
       "  WRITEBACKIFCOPY : False"
      ]
     },
     "execution_count": 79,
     "metadata": {},
     "output_type": "execute_result"
    }
   ],
   "source": [
    "y.flags # elements are not contiguous"
   ]
  },
  {
   "cell_type": "code",
   "execution_count": 80,
   "id": "a7d0a5b4",
   "metadata": {},
   "outputs": [
    {
     "data": {
      "text/plain": [
       "array([[66,  5, 74, 40, 97],\n",
       "       [24, 59, 69,  9, 97],\n",
       "       [ 2, 92, 43, 69, 63],\n",
       "       [ 1, 61, 64, 71, 59],\n",
       "       [99, 55, 11, 60,  5]])"
      ]
     },
     "execution_count": 80,
     "metadata": {},
     "output_type": "execute_result"
    }
   ],
   "source": [
    "arr = np.random.randint(1, 100, size=(5, 5))\n",
    "arr"
   ]
  },
  {
   "cell_type": "code",
   "execution_count": 81,
   "id": "f0777e75",
   "metadata": {},
   "outputs": [
    {
     "data": {
      "text/plain": [
       "array([[66,  5, 74, 40, 97],\n",
       "       [24, 59, 69,  9, 97],\n",
       "       [ 2, 92, 43, 69, 63]])"
      ]
     },
     "execution_count": 81,
     "metadata": {},
     "output_type": "execute_result"
    }
   ],
   "source": [
    "arr_c_style = arr[:3, :]\n",
    "arr_c_style"
   ]
  },
  {
   "cell_type": "code",
   "execution_count": 82,
   "id": "ee7bbfd0",
   "metadata": {},
   "outputs": [
    {
     "data": {
      "text/plain": [
       "  C_CONTIGUOUS : True\n",
       "  F_CONTIGUOUS : False\n",
       "  OWNDATA : False\n",
       "  WRITEABLE : True\n",
       "  ALIGNED : True\n",
       "  WRITEBACKIFCOPY : False"
      ]
     },
     "execution_count": 82,
     "metadata": {},
     "output_type": "execute_result"
    }
   ],
   "source": [
    "arr_c_style.flags"
   ]
  },
  {
   "cell_type": "code",
   "execution_count": 83,
   "id": "8b81da6e",
   "metadata": {},
   "outputs": [
    {
     "data": {
      "text/plain": [
       "array([[66,  5, 74],\n",
       "       [24, 59, 69],\n",
       "       [ 2, 92, 43],\n",
       "       [ 1, 61, 64],\n",
       "       [99, 55, 11]])"
      ]
     },
     "execution_count": 83,
     "metadata": {},
     "output_type": "execute_result"
    }
   ],
   "source": [
    "arr_f_style = arr[:, :3]\n",
    "arr_f_style"
   ]
  },
  {
   "cell_type": "code",
   "execution_count": 84,
   "id": "ab727c86",
   "metadata": {},
   "outputs": [
    {
     "data": {
      "text/plain": [
       "  C_CONTIGUOUS : False\n",
       "  F_CONTIGUOUS : False\n",
       "  OWNDATA : False\n",
       "  WRITEABLE : True\n",
       "  ALIGNED : True\n",
       "  WRITEBACKIFCOPY : False"
      ]
     },
     "execution_count": 84,
     "metadata": {},
     "output_type": "execute_result"
    }
   ],
   "source": [
    "arr_f_style.flags"
   ]
  }
 ],
 "metadata": {
  "kernelspec": {
   "display_name": "data-procvis",
   "language": "python",
   "name": "python3"
  },
  "language_info": {
   "codemirror_mode": {
    "name": "ipython",
    "version": 3
   },
   "file_extension": ".py",
   "mimetype": "text/x-python",
   "name": "python",
   "nbconvert_exporter": "python",
   "pygments_lexer": "ipython3",
   "version": "3.11.11"
  }
 },
 "nbformat": 4,
 "nbformat_minor": 5
}
