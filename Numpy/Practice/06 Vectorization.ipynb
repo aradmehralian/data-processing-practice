{
 "cells": [
  {
   "cell_type": "markdown",
   "id": "48093505",
   "metadata": {},
   "source": [
    "# Coding Practice Session 6\n",
    "## Vectorization"
   ]
  },
  {
   "cell_type": "code",
   "execution_count": 1,
   "id": "af287293",
   "metadata": {},
   "outputs": [],
   "source": [
    "import numpy as np\n",
    "import time"
   ]
  },
  {
   "cell_type": "code",
   "execution_count": 2,
   "id": "bd36db87",
   "metadata": {},
   "outputs": [
    {
     "data": {
      "text/plain": [
       "array([5, 7, 9])"
      ]
     },
     "execution_count": 2,
     "metadata": {},
     "output_type": "execute_result"
    }
   ],
   "source": [
    "a = np.array([1, 2, 3])\n",
    "b = np.array([4, 5, 6])\n",
    "\n",
    "a + b"
   ]
  },
  {
   "cell_type": "code",
   "execution_count": null,
   "id": "5e32c7aa",
   "metadata": {},
   "outputs": [
    {
     "data": {
      "text/plain": [
       "[1, 4, 9, 16, 25]"
      ]
     },
     "execution_count": 3,
     "metadata": {},
     "output_type": "execute_result"
    }
   ],
   "source": [
    "numbers = [1, 2, 3, 4, 5]\n",
    "squared = []\n",
    "\n",
    "for number in numbers:\n",
    "    squared.append(number**2)\n",
    "\n",
    "squared"
   ]
  },
  {
   "cell_type": "code",
   "execution_count": null,
   "id": "d01a9634",
   "metadata": {},
   "outputs": [
    {
     "data": {
      "text/plain": [
       "array([ 1,  4,  9, 16, 25])"
      ]
     },
     "execution_count": 4,
     "metadata": {},
     "output_type": "execute_result"
    }
   ],
   "source": [
    "numbers = np.array([1, 2, 3, 4, 5])\n",
    "squared = numbers**2\n",
    "squared"
   ]
  },
  {
   "cell_type": "markdown",
   "id": "14af8347",
   "metadata": {},
   "source": [
    "### Performance Comparison"
   ]
  },
  {
   "cell_type": "code",
   "execution_count": null,
   "id": "4195085e",
   "metadata": {},
   "outputs": [],
   "source": [
    "# pure python loop\n",
    "def square_loop(numbers: np.ndarray) -> list[int | float]:\n",
    "    squared = []\n",
    "    for number in numbers:\n",
    "        squared.append(number**2)\n",
    "    return squared"
   ]
  },
  {
   "cell_type": "code",
   "execution_count": null,
   "id": "fe5c2097",
   "metadata": {},
   "outputs": [],
   "source": [
    "# vectorized operation with NumPy\n",
    "def square_vectorized(numbers: np.ndarray) -> np.ndarray:\n",
    "    return numbers**2"
   ]
  },
  {
   "cell_type": "code",
   "execution_count": 7,
   "id": "82e57ea6",
   "metadata": {},
   "outputs": [],
   "source": [
    "numbers = np.random.rand(1_000_000)"
   ]
  },
  {
   "cell_type": "code",
   "execution_count": 8,
   "id": "0884cf32",
   "metadata": {},
   "outputs": [],
   "source": [
    "# execution time for python loop\n",
    "start_time = time.perf_counter()\n",
    "squared_loop = square_loop(numbers)\n",
    "end_time = time.perf_counter()\n",
    "loop_time = end_time - start_time"
   ]
  },
  {
   "cell_type": "code",
   "execution_count": 9,
   "id": "151e19a6",
   "metadata": {},
   "outputs": [],
   "source": [
    "# execution time for vectorized operation\n",
    "start_time = time.perf_counter()\n",
    "square_vectorized = square_vectorized(numbers)\n",
    "end_time = time.perf_counter()\n",
    "vectorized_time = end_time - start_time"
   ]
  },
  {
   "cell_type": "code",
   "execution_count": 10,
   "id": "f298a0e0",
   "metadata": {},
   "outputs": [
    {
     "name": "stdout",
     "output_type": "stream",
     "text": [
      "Python loop time: 0.062 seconds\n",
      "Vectorized time: 0.003 seconds\n"
     ]
    }
   ],
   "source": [
    "print(f\"Python loop time: {loop_time:.3f} seconds\")\n",
    "print(f\"Vectorized time: {vectorized_time:.3f} seconds\")"
   ]
  },
  {
   "cell_type": "markdown",
   "id": "c7deedee",
   "metadata": {},
   "source": [
    "### Writing Vectorized Code"
   ]
  },
  {
   "cell_type": "code",
   "execution_count": null,
   "id": "cd76509b",
   "metadata": {},
   "outputs": [],
   "source": [
    "def euclidean_distance(point1, point2):\n",
    "    if point1.ndim == 1 and point2.ndim == 1:\n",
    "        result = np.sqrt(np.sum((point1 - point2) ** 2))\n",
    "    else:\n",
    "        # add columns in each row\n",
    "        result = np.sqrt(np.sum((point1 - point2) ** 2, axis=1))\n",
    "    return result"
   ]
  },
  {
   "cell_type": "code",
   "execution_count": 41,
   "id": "797ae957",
   "metadata": {},
   "outputs": [
    {
     "data": {
      "text/plain": [
       "np.float64(6.4031242374328485)"
      ]
     },
     "execution_count": 41,
     "metadata": {},
     "output_type": "execute_result"
    }
   ],
   "source": [
    "p1 = np.array([5, 6])\n",
    "p2 = np.array([10, 2])\n",
    "\n",
    "euclidean_distance(p1, p2)"
   ]
  },
  {
   "cell_type": "code",
   "execution_count": 42,
   "id": "f4562028",
   "metadata": {},
   "outputs": [
    {
     "data": {
      "text/plain": [
       "array([2.23606798, 1.41421356, 3.16227766])"
      ]
     },
     "execution_count": 42,
     "metadata": {},
     "output_type": "execute_result"
    }
   ],
   "source": [
    "p1_array = np.array([[1, 3], [5, 2], [7, 8]])\n",
    "p2_array = np.array([[2, 5], [6, 1], [4, 9]])\n",
    "\n",
    "euclidean_distance(p1_array, p2_array)"
   ]
  },
  {
   "cell_type": "markdown",
   "id": "0cee7d2c",
   "metadata": {},
   "source": [
    "#### Using `np.vectorize`"
   ]
  },
  {
   "cell_type": "code",
   "execution_count": 43,
   "id": "e9ddece0",
   "metadata": {},
   "outputs": [],
   "source": [
    "def square_or_cube(num):\n",
    "    if num % 2 == 0:\n",
    "        return num ** 2\n",
    "    else:\n",
    "        return num ** 3"
   ]
  },
  {
   "cell_type": "code",
   "execution_count": 47,
   "id": "8ffc54d6",
   "metadata": {},
   "outputs": [],
   "source": [
    "square_or_cube_vectorized = np.vectorize(square_or_cube)"
   ]
  },
  {
   "cell_type": "code",
   "execution_count": 48,
   "id": "82943490",
   "metadata": {},
   "outputs": [
    {
     "data": {
      "text/plain": [
       "array([  1,   4,  27,  16, 125,  36])"
      ]
     },
     "execution_count": 48,
     "metadata": {},
     "output_type": "execute_result"
    }
   ],
   "source": [
    "arr = np.array([1, 2, 3, 4, 5, 6])\n",
    "square_or_cube_vectorized(arr)"
   ]
  },
  {
   "cell_type": "markdown",
   "id": "6c4a6a08",
   "metadata": {},
   "source": [
    "**Note**: The `np.vectorize` takes a function that operates on scalar values and returns another function which can operate on numpy arrays. However, the performance of this method is not the same as vectorizing the original function; it's essentially a loop in disguise."
   ]
  },
  {
   "cell_type": "markdown",
   "id": "b1a0c676",
   "metadata": {},
   "source": [
    "### Using `np.frompyfunc`"
   ]
  },
  {
   "cell_type": "markdown",
   "id": "ab25e53b",
   "metadata": {},
   "source": [
    "`np.frompyfunc` turns any regular python function into a numpy ufunc."
   ]
  },
  {
   "cell_type": "markdown",
   "id": "0eb51056",
   "metadata": {},
   "source": [
    "**Universal Functions (ufuncs):** In `NumPy`, ufuncs are functions that operate element-by-element on `ndarray` objects. They support vectorization, allowing operations to be applied simultaneously across multiple data entries, leveraging the CPU's SIMD instructions, caching, and parallel processing capabilities."
   ]
  },
  {
   "cell_type": "code",
   "execution_count": 4,
   "id": "94826f50",
   "metadata": {},
   "outputs": [
    {
     "data": {
      "text/plain": [
       "numpy.ufunc"
      ]
     },
     "execution_count": 4,
     "metadata": {},
     "output_type": "execute_result"
    }
   ],
   "source": [
    "type(np.add) # a universal function"
   ]
  },
  {
   "cell_type": "code",
   "execution_count": 6,
   "id": "6735dd9b",
   "metadata": {},
   "outputs": [
    {
     "data": {
      "text/plain": [
       "numpy._ArrayFunctionDispatcher"
      ]
     },
     "execution_count": 6,
     "metadata": {},
     "output_type": "execute_result"
    }
   ],
   "source": [
    "type(np.concatenate)"
   ]
  },
  {
   "cell_type": "code",
   "execution_count": 12,
   "id": "25c40a09",
   "metadata": {},
   "outputs": [],
   "source": [
    "a = np.array([1, 2, 3])"
   ]
  },
  {
   "cell_type": "code",
   "execution_count": 20,
   "id": "2cac2e9f",
   "metadata": {},
   "outputs": [
    {
     "data": {
      "text/plain": [
       "builtin_function_or_method"
      ]
     },
     "execution_count": 20,
     "metadata": {},
     "output_type": "execute_result"
    }
   ],
   "source": [
    "type(oct)"
   ]
  },
  {
   "cell_type": "code",
   "execution_count": 13,
   "id": "9339c929",
   "metadata": {},
   "outputs": [
    {
     "ename": "TypeError",
     "evalue": "only integer scalar arrays can be converted to a scalar index",
     "output_type": "error",
     "traceback": [
      "\u001b[0;31m---------------------------------------------------------------------------\u001b[0m",
      "\u001b[0;31mTypeError\u001b[0m                                 Traceback (most recent call last)",
      "Cell \u001b[0;32mIn[13], line 1\u001b[0m\n\u001b[0;32m----> 1\u001b[0m \u001b[38;5;28moct\u001b[39m(a)\n",
      "\u001b[0;31mTypeError\u001b[0m: only integer scalar arrays can be converted to a scalar index"
     ]
    }
   ],
   "source": [
    "oct(a)"
   ]
  },
  {
   "cell_type": "markdown",
   "id": "06409f12",
   "metadata": {},
   "source": [
    "The Python's `oct` function, which returns the octal representation of an integer, doesn't operate on a numpy array. However, using `np.frompyfunc` we can add it to the universal function library, thus turning it into a `numpy.ufunc`. This returned function is a vectorized version of the input function."
   ]
  },
  {
   "cell_type": "code",
   "execution_count": 15,
   "id": "fbdb30ce",
   "metadata": {},
   "outputs": [],
   "source": [
    "oct_vectorized = np.frompyfunc(oct, 1, 1)"
   ]
  },
  {
   "cell_type": "code",
   "execution_count": 16,
   "id": "c0d7c9b9",
   "metadata": {},
   "outputs": [
    {
     "data": {
      "text/plain": [
       "numpy.ufunc"
      ]
     },
     "execution_count": 16,
     "metadata": {},
     "output_type": "execute_result"
    }
   ],
   "source": [
    "type(oct_vectorized)"
   ]
  },
  {
   "cell_type": "code",
   "execution_count": 17,
   "id": "2ed0452a",
   "metadata": {},
   "outputs": [
    {
     "data": {
      "text/plain": [
       "array(['0o1', '0o2', '0o3'], dtype=object)"
      ]
     },
     "execution_count": 17,
     "metadata": {},
     "output_type": "execute_result"
    }
   ],
   "source": [
    "oct_vectorized(a)"
   ]
  }
 ],
 "metadata": {
  "kernelspec": {
   "display_name": "data-procvis",
   "language": "python",
   "name": "python3"
  },
  "language_info": {
   "codemirror_mode": {
    "name": "ipython",
    "version": 3
   },
   "file_extension": ".py",
   "mimetype": "text/x-python",
   "name": "python",
   "nbconvert_exporter": "python",
   "pygments_lexer": "ipython3",
   "version": "3.11.11"
  }
 },
 "nbformat": 4,
 "nbformat_minor": 5
}
