{
 "cells": [
  {
   "cell_type": "markdown",
   "id": "48093505",
   "metadata": {},
   "source": [
    "# Coding Practice Session 6\n",
    "## Vectorization"
   ]
  },
  {
   "cell_type": "code",
   "execution_count": 1,
   "id": "af287293",
   "metadata": {},
   "outputs": [],
   "source": [
    "import numpy as np\n",
    "import time"
   ]
  },
  {
   "cell_type": "code",
   "execution_count": 2,
   "id": "bd36db87",
   "metadata": {},
   "outputs": [
    {
     "data": {
      "text/plain": [
       "array([5, 7, 9])"
      ]
     },
     "execution_count": 2,
     "metadata": {},
     "output_type": "execute_result"
    }
   ],
   "source": [
    "a = np.array([1, 2, 3])\n",
    "b = np.array([4, 5, 6])\n",
    "\n",
    "a + b"
   ]
  },
  {
   "cell_type": "code",
   "execution_count": null,
   "id": "5e32c7aa",
   "metadata": {},
   "outputs": [
    {
     "data": {
      "text/plain": [
       "[1, 4, 9, 16, 25]"
      ]
     },
     "execution_count": 3,
     "metadata": {},
     "output_type": "execute_result"
    }
   ],
   "source": [
    "numbers = [1, 2, 3, 4, 5]\n",
    "squared = []\n",
    "\n",
    "for number in numbers:\n",
    "    squared.append(number**2)\n",
    "\n",
    "squared"
   ]
  },
  {
   "cell_type": "code",
   "execution_count": null,
   "id": "d01a9634",
   "metadata": {},
   "outputs": [
    {
     "data": {
      "text/plain": [
       "array([ 1,  4,  9, 16, 25])"
      ]
     },
     "execution_count": 4,
     "metadata": {},
     "output_type": "execute_result"
    }
   ],
   "source": [
    "numbers = np.array([1, 2, 3, 4, 5])\n",
    "squared = numbers**2\n",
    "squared"
   ]
  },
  {
   "cell_type": "markdown",
   "id": "14af8347",
   "metadata": {},
   "source": [
    "### Performance Comparison"
   ]
  },
  {
   "cell_type": "code",
   "execution_count": null,
   "id": "4195085e",
   "metadata": {},
   "outputs": [],
   "source": [
    "# pure python loop\n",
    "def square_loop(numbers: np.ndarray) -> list[int | float]:\n",
    "    squared = []\n",
    "    for number in numbers:\n",
    "        squared.append(number**2)\n",
    "    return squared"
   ]
  },
  {
   "cell_type": "code",
   "execution_count": null,
   "id": "fe5c2097",
   "metadata": {},
   "outputs": [],
   "source": [
    "# vectorized operation with NumPy\n",
    "def square_vectorized(numbers: np.ndarray) -> np.ndarray:\n",
    "    return numbers**2"
   ]
  },
  {
   "cell_type": "code",
   "execution_count": 7,
   "id": "82e57ea6",
   "metadata": {},
   "outputs": [],
   "source": [
    "numbers = np.random.rand(1_000_000)"
   ]
  },
  {
   "cell_type": "code",
   "execution_count": 8,
   "id": "0884cf32",
   "metadata": {},
   "outputs": [],
   "source": [
    "# execution time for python loop\n",
    "start_time = time.perf_counter()\n",
    "squared_loop = square_loop(numbers)\n",
    "end_time = time.perf_counter()\n",
    "loop_time = end_time - start_time"
   ]
  },
  {
   "cell_type": "code",
   "execution_count": 9,
   "id": "151e19a6",
   "metadata": {},
   "outputs": [],
   "source": [
    "# execution time for vectorized operation\n",
    "start_time = time.perf_counter()\n",
    "square_vectorized = square_vectorized(numbers)\n",
    "end_time = time.perf_counter()\n",
    "vectorized_time = end_time - start_time"
   ]
  },
  {
   "cell_type": "code",
   "execution_count": 10,
   "id": "f298a0e0",
   "metadata": {},
   "outputs": [
    {
     "name": "stdout",
     "output_type": "stream",
     "text": [
      "Python loop time: 0.062 seconds\n",
      "Vectorized time: 0.003 seconds\n"
     ]
    }
   ],
   "source": [
    "print(f\"Python loop time: {loop_time:.3f} seconds\")\n",
    "print(f\"Vectorized time: {vectorized_time:.3f} seconds\")"
   ]
  },
  {
   "cell_type": "markdown",
   "id": "c7deedee",
   "metadata": {},
   "source": [
    "### Writing Vectorized Code"
   ]
  },
  {
   "cell_type": "code",
   "execution_count": null,
   "id": "cd76509b",
   "metadata": {},
   "outputs": [],
   "source": [
    "def euclidean_distance(point1, point2):\n",
    "    if point1.ndim == 1 and point2.ndim == 1:\n",
    "        result = np.sqrt(np.sum((point1 - point2) ** 2))\n",
    "    else:\n",
    "        # add columns in each row\n",
    "        result = np.sqrt(np.sum((point1 - point2) ** 2, axis=1))\n",
    "    return result"
   ]
  },
  {
   "cell_type": "code",
   "execution_count": 41,
   "id": "797ae957",
   "metadata": {},
   "outputs": [
    {
     "data": {
      "text/plain": [
       "np.float64(6.4031242374328485)"
      ]
     },
     "execution_count": 41,
     "metadata": {},
     "output_type": "execute_result"
    }
   ],
   "source": [
    "p1 = np.array([5, 6])\n",
    "p2 = np.array([10, 2])\n",
    "\n",
    "euclidean_distance(p1, p2)"
   ]
  },
  {
   "cell_type": "code",
   "execution_count": 42,
   "id": "f4562028",
   "metadata": {},
   "outputs": [
    {
     "data": {
      "text/plain": [
       "array([2.23606798, 1.41421356, 3.16227766])"
      ]
     },
     "execution_count": 42,
     "metadata": {},
     "output_type": "execute_result"
    }
   ],
   "source": [
    "p1_array = np.array([[1, 3], [5, 2], [7, 8]])\n",
    "p2_array = np.array([[2, 5], [6, 1], [4, 9]])\n",
    "\n",
    "euclidean_distance(p1_array, p2_array)"
   ]
  },
  {
   "cell_type": "markdown",
   "id": "0cee7d2c",
   "metadata": {},
   "source": [
    "#### Using `np.vectorize`"
   ]
  },
  {
   "cell_type": "code",
   "execution_count": 43,
   "id": "e9ddece0",
   "metadata": {},
   "outputs": [],
   "source": [
    "def square_or_cube(num):\n",
    "    if num % 2 == 0:\n",
    "        return num ** 2\n",
    "    else:\n",
    "        return num ** 3"
   ]
  },
  {
   "cell_type": "code",
   "execution_count": 47,
   "id": "8ffc54d6",
   "metadata": {},
   "outputs": [],
   "source": [
    "square_or_cube_vectorized = np.vectorize(square_or_cube)"
   ]
  },
  {
   "cell_type": "code",
   "execution_count": 48,
   "id": "82943490",
   "metadata": {},
   "outputs": [
    {
     "data": {
      "text/plain": [
       "array([  1,   4,  27,  16, 125,  36])"
      ]
     },
     "execution_count": 48,
     "metadata": {},
     "output_type": "execute_result"
    }
   ],
   "source": [
    "arr = np.array([1, 2, 3, 4, 5, 6])\n",
    "square_or_cube_vectorized(arr)"
   ]
  },
  {
   "cell_type": "markdown",
   "id": "6c4a6a08",
   "metadata": {},
   "source": [
    "**Note**: The `np.vectorize` takes a function that operates on scalar values and returns another function which can operate on numpy arrays. However, the performance of this method is not the same as vectorizing the original function; it's essentially a loop in disguise."
   ]
  }
 ],
 "metadata": {
  "kernelspec": {
   "display_name": "data-procvis",
   "language": "python",
   "name": "python3"
  },
  "language_info": {
   "codemirror_mode": {
    "name": "ipython",
    "version": 3
   },
   "file_extension": ".py",
   "mimetype": "text/x-python",
   "name": "python",
   "nbconvert_exporter": "python",
   "pygments_lexer": "ipython3",
   "version": "3.11.11"
  }
 },
 "nbformat": 4,
 "nbformat_minor": 5
}
