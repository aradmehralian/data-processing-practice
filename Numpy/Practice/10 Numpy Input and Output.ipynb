{
 "cells": [
  {
   "cell_type": "markdown",
   "id": "49a98224",
   "metadata": {},
   "source": [
    "# Coding Practice Session 10\n",
    "## Saving and Loading NumPy Objects"
   ]
  },
  {
   "cell_type": "code",
   "execution_count": 1,
   "id": "9ae787cb",
   "metadata": {},
   "outputs": [],
   "source": [
    "import numpy as np"
   ]
  },
  {
   "cell_type": "markdown",
   "id": "1e729e54",
   "metadata": {},
   "source": [
    "### Saving Numpy Arrays as binary files"
   ]
  },
  {
   "cell_type": "code",
   "execution_count": 2,
   "id": "8f128ccd",
   "metadata": {},
   "outputs": [],
   "source": [
    "day_delta = np.random.randint(0, 365, 1_000) * np.timedelta64(1, \"D\")"
   ]
  },
  {
   "cell_type": "code",
   "execution_count": 3,
   "id": "b358bb1e",
   "metadata": {},
   "outputs": [],
   "source": [
    "# sample array\n",
    "date_arr = np.datetime64(\"2025-01-01\") + day_delta"
   ]
  },
  {
   "cell_type": "code",
   "execution_count": 4,
   "id": "4bb9e41c",
   "metadata": {},
   "outputs": [
    {
     "data": {
      "text/plain": [
       "array(['2025-10-09', '2025-10-07', '2025-03-14', '2025-04-15',\n",
       "       '2025-06-03'], dtype='datetime64[D]')"
      ]
     },
     "execution_count": 4,
     "metadata": {},
     "output_type": "execute_result"
    }
   ],
   "source": [
    "date_arr[:5]"
   ]
  },
  {
   "cell_type": "code",
   "execution_count": 5,
   "id": "5bdff14a",
   "metadata": {},
   "outputs": [],
   "source": [
    "np.save(\"./data/date_arr.npy\", date_arr, allow_pickle=False)"
   ]
  },
  {
   "cell_type": "code",
   "execution_count": 6,
   "id": "8ecd7186",
   "metadata": {},
   "outputs": [],
   "source": [
    "# sample arrays\n",
    "arr1 = np.array([1, 2, 3, 4, 5])\n",
    "arr2 = np.arange(1, 13).reshape(3, 4)"
   ]
  },
  {
   "cell_type": "code",
   "execution_count": 7,
   "id": "feae0daa",
   "metadata": {},
   "outputs": [],
   "source": [
    "np.savez(\"./data/sample_arrays.npz\", arr1=arr1, arr2=arr2, allow_pickle=False)"
   ]
  },
  {
   "cell_type": "code",
   "execution_count": 8,
   "id": "5725bdde",
   "metadata": {},
   "outputs": [],
   "source": [
    "# large sample arrays\n",
    "arr1 = np.random.rand(1000, 1000)\n",
    "arr2 = np.random.rand(500, 500)"
   ]
  },
  {
   "cell_type": "code",
   "execution_count": 9,
   "id": "6d34423a",
   "metadata": {},
   "outputs": [],
   "source": [
    "file_path = r\"./data/compressed_arrays.npz\"\n",
    "np.savez_compressed(file_path, arr1=arr1, arr2=arr2, allow_pickle=False)"
   ]
  },
  {
   "cell_type": "markdown",
   "id": "53c8dd1a",
   "metadata": {},
   "source": [
    "### Loading Numpy Arrays"
   ]
  },
  {
   "cell_type": "code",
   "execution_count": 10,
   "id": "d9736b97",
   "metadata": {},
   "outputs": [],
   "source": [
    "loaded_date_arr = np.load(\"./data/date_arr.npy\")"
   ]
  },
  {
   "cell_type": "code",
   "execution_count": 11,
   "id": "1aa4632d",
   "metadata": {},
   "outputs": [
    {
     "data": {
      "text/plain": [
       "array(['2025-10-09', '2025-10-07', '2025-03-14', '2025-04-15',\n",
       "       '2025-06-03', '2025-06-12', '2025-09-21', '2025-12-29',\n",
       "       '2025-07-21', '2025-09-25'], dtype='datetime64[D]')"
      ]
     },
     "execution_count": 11,
     "metadata": {},
     "output_type": "execute_result"
    }
   ],
   "source": [
    "loaded_date_arr[:10]"
   ]
  },
  {
   "cell_type": "code",
   "execution_count": 12,
   "id": "b07b8be2",
   "metadata": {},
   "outputs": [
    {
     "data": {
      "text/plain": [
       "numpy.ndarray"
      ]
     },
     "execution_count": 12,
     "metadata": {},
     "output_type": "execute_result"
    }
   ],
   "source": [
    "type(loaded_date_arr)"
   ]
  },
  {
   "cell_type": "code",
   "execution_count": 13,
   "id": "36f839d5",
   "metadata": {},
   "outputs": [
    {
     "data": {
      "text/plain": [
       "1000"
      ]
     },
     "execution_count": 13,
     "metadata": {},
     "output_type": "execute_result"
    }
   ],
   "source": [
    "loaded_date_arr.size"
   ]
  },
  {
   "cell_type": "code",
   "execution_count": 14,
   "id": "f55c23e6",
   "metadata": {},
   "outputs": [],
   "source": [
    "loaded_arrays = np.load(\"./data/sample_arrays.npz\")"
   ]
  },
  {
   "cell_type": "code",
   "execution_count": 15,
   "id": "2567e27e",
   "metadata": {},
   "outputs": [
    {
     "data": {
      "text/plain": [
       "NpzFile './data/sample_arrays.npz' with keys: arr1, arr2"
      ]
     },
     "execution_count": 15,
     "metadata": {},
     "output_type": "execute_result"
    }
   ],
   "source": [
    "loaded_arrays"
   ]
  },
  {
   "cell_type": "code",
   "execution_count": 16,
   "id": "fc0a478b",
   "metadata": {},
   "outputs": [
    {
     "data": {
      "text/plain": [
       "array([1, 2, 3, 4, 5])"
      ]
     },
     "execution_count": 16,
     "metadata": {},
     "output_type": "execute_result"
    }
   ],
   "source": [
    "arr1 = loaded_arrays[\"arr1\"]\n",
    "arr1"
   ]
  },
  {
   "cell_type": "code",
   "execution_count": 17,
   "id": "ca8db9e5",
   "metadata": {},
   "outputs": [
    {
     "data": {
      "text/plain": [
       "array([[ 1,  2,  3,  4],\n",
       "       [ 5,  6,  7,  8],\n",
       "       [ 9, 10, 11, 12]])"
      ]
     },
     "execution_count": 17,
     "metadata": {},
     "output_type": "execute_result"
    }
   ],
   "source": [
    "arr2 = loaded_arrays[\"arr2\"]\n",
    "arr2"
   ]
  },
  {
   "cell_type": "code",
   "execution_count": 18,
   "id": "1d1a4284",
   "metadata": {},
   "outputs": [
    {
     "data": {
      "text/plain": [
       "['arr1', 'arr2']"
      ]
     },
     "execution_count": 18,
     "metadata": {},
     "output_type": "execute_result"
    }
   ],
   "source": [
    "loaded_arrays.files"
   ]
  },
  {
   "cell_type": "code",
   "execution_count": 19,
   "id": "a9fa7577",
   "metadata": {},
   "outputs": [],
   "source": [
    "loaded_compressed_arrays = np.load(\"./data/compressed_arrays.npz\")"
   ]
  },
  {
   "cell_type": "code",
   "execution_count": 20,
   "id": "bf304d01",
   "metadata": {},
   "outputs": [
    {
     "data": {
      "text/plain": [
       "NpzFile './data/compressed_arrays.npz' with keys: arr1, arr2"
      ]
     },
     "execution_count": 20,
     "metadata": {},
     "output_type": "execute_result"
    }
   ],
   "source": [
    "loaded_compressed_arrays"
   ]
  },
  {
   "cell_type": "code",
   "execution_count": 21,
   "id": "f52bddcf",
   "metadata": {},
   "outputs": [],
   "source": [
    "compressed_arr1 = loaded_compressed_arrays[\"arr1\"]"
   ]
  },
  {
   "cell_type": "code",
   "execution_count": 22,
   "id": "1d179355",
   "metadata": {},
   "outputs": [
    {
     "data": {
      "text/plain": [
       "array([[0.81447573, 0.59840188, 0.23972272, 0.17693147, 0.20711168],\n",
       "       [0.10279181, 0.76586664, 0.85690847, 0.18744891, 0.92086124],\n",
       "       [0.15623133, 0.63147394, 0.58887241, 0.86092141, 0.20608154],\n",
       "       [0.14593636, 0.39062612, 0.87914499, 0.06543721, 0.85317362],\n",
       "       [0.41590543, 0.20104726, 0.1212992 , 0.88728246, 0.55026018]])"
      ]
     },
     "execution_count": 22,
     "metadata": {},
     "output_type": "execute_result"
    }
   ],
   "source": [
    "compressed_arr1[:5, :5]"
   ]
  },
  {
   "cell_type": "code",
   "execution_count": 23,
   "id": "a90a5864",
   "metadata": {},
   "outputs": [
    {
     "data": {
      "text/plain": [
       "(1000, 1000)"
      ]
     },
     "execution_count": 23,
     "metadata": {},
     "output_type": "execute_result"
    }
   ],
   "source": [
    "compressed_arr1.shape"
   ]
  },
  {
   "cell_type": "code",
   "execution_count": 24,
   "id": "6f2bd763",
   "metadata": {},
   "outputs": [],
   "source": [
    "compressed_arr2 = loaded_compressed_arrays[\"arr2\"]"
   ]
  },
  {
   "cell_type": "code",
   "execution_count": 25,
   "id": "1088847f",
   "metadata": {},
   "outputs": [
    {
     "data": {
      "text/plain": [
       "(500, 500)"
      ]
     },
     "execution_count": 25,
     "metadata": {},
     "output_type": "execute_result"
    }
   ],
   "source": [
    "compressed_arr2.shape"
   ]
  },
  {
   "cell_type": "code",
   "execution_count": 26,
   "id": "90397288",
   "metadata": {},
   "outputs": [
    {
     "data": {
      "text/plain": [
       "array([[0.52202383, 0.34259423, 0.25619053, 0.41101366, 0.56230277],\n",
       "       [0.58837553, 0.42527203, 0.60190845, 0.01724134, 0.55357188],\n",
       "       [0.95910175, 0.32104791, 0.30093557, 0.2080664 , 0.22164483],\n",
       "       [0.80978442, 0.46489595, 0.85771272, 0.3130908 , 0.50321528],\n",
       "       [0.40092313, 0.91181427, 0.38105423, 0.69725272, 0.47447963]])"
      ]
     },
     "execution_count": 26,
     "metadata": {},
     "output_type": "execute_result"
    }
   ],
   "source": [
    "compressed_arr2[:5, :5]"
   ]
  },
  {
   "cell_type": "markdown",
   "id": "075876a8",
   "metadata": {},
   "source": [
    "### Saving and Loading Numpy Arrays in Text Format"
   ]
  },
  {
   "cell_type": "code",
   "execution_count": 27,
   "id": "d71a912e",
   "metadata": {},
   "outputs": [],
   "source": [
    "# sample array\n",
    "arr = np.array([[1, 2, 3, 4], [5, 6, 7, 8]], dtype=\"u1\")"
   ]
  },
  {
   "cell_type": "code",
   "execution_count": 28,
   "id": "d9e337b8",
   "metadata": {},
   "outputs": [],
   "source": [
    "np.savetxt(\"./data/sample_array.txt\", arr, delimiter=\",\", fmt=\"%d\")"
   ]
  },
  {
   "cell_type": "code",
   "execution_count": 29,
   "id": "042f26b2",
   "metadata": {},
   "outputs": [],
   "source": [
    "loaded_array = np.loadtxt(\"./data/sample_array.txt\", dtype=\"u1\", delimiter=\",\")"
   ]
  },
  {
   "cell_type": "code",
   "execution_count": 30,
   "id": "0e3258d4",
   "metadata": {},
   "outputs": [
    {
     "data": {
      "text/plain": [
       "array([[1, 2, 3, 4],\n",
       "       [5, 6, 7, 8]], dtype=uint8)"
      ]
     },
     "execution_count": 30,
     "metadata": {},
     "output_type": "execute_result"
    }
   ],
   "source": [
    "loaded_array"
   ]
  },
  {
   "cell_type": "code",
   "execution_count": 31,
   "id": "25b63e2e",
   "metadata": {},
   "outputs": [
    {
     "data": {
      "text/plain": [
       "numpy.ndarray"
      ]
     },
     "execution_count": 31,
     "metadata": {},
     "output_type": "execute_result"
    }
   ],
   "source": [
    "type(loaded_array)"
   ]
  },
  {
   "cell_type": "code",
   "execution_count": 32,
   "id": "5933d12d",
   "metadata": {},
   "outputs": [
    {
     "data": {
      "text/plain": [
       "dtype('uint8')"
      ]
     },
     "execution_count": 32,
     "metadata": {},
     "output_type": "execute_result"
    }
   ],
   "source": [
    "loaded_array.dtype"
   ]
  },
  {
   "cell_type": "markdown",
   "id": "33991e0d",
   "metadata": {},
   "source": [
    "### Saving and Loading Numpy Arrays in CSV Format"
   ]
  },
  {
   "cell_type": "code",
   "execution_count": 33,
   "id": "1830e330",
   "metadata": {},
   "outputs": [],
   "source": [
    "student_ids = np.array([[9823084], [9923114], [9823036]], dtype=\"u4\")\n",
    "grades = np.array([20, 17.5, 18.0], dtype=\"f2\").reshape(3, 1)\n",
    "\n",
    "data_arr = np.hstack((student_ids, grades))"
   ]
  },
  {
   "cell_type": "code",
   "execution_count": 34,
   "id": "6cda483a",
   "metadata": {},
   "outputs": [
    {
     "data": {
      "text/plain": [
       "array([[9.823084e+06, 2.000000e+01],\n",
       "       [9.923114e+06, 1.750000e+01],\n",
       "       [9.823036e+06, 1.800000e+01]])"
      ]
     },
     "execution_count": 34,
     "metadata": {},
     "output_type": "execute_result"
    }
   ],
   "source": [
    "data_arr"
   ]
  },
  {
   "cell_type": "code",
   "execution_count": 35,
   "id": "74c335d4",
   "metadata": {},
   "outputs": [],
   "source": [
    "np.savetxt(\n",
    "    \"./data/grades.csv\",\n",
    "    data_arr,\n",
    "    delimiter=\", \",\n",
    "    header=\"student id, grade\",\n",
    "    fmt=(\"%d\", \"%.2f\"),\n",
    "    comments=\"\",\n",
    ")"
   ]
  },
  {
   "cell_type": "code",
   "execution_count": 36,
   "id": "74f071eb",
   "metadata": {},
   "outputs": [],
   "source": [
    "loaded_array = np.genfromtxt(\"./data/grades.csv\", delimiter=\", \", skip_header=1)"
   ]
  },
  {
   "cell_type": "code",
   "execution_count": 37,
   "id": "99f95489",
   "metadata": {},
   "outputs": [],
   "source": [
    "grades = np.astype(loaded_array[:, 1], \"f2\")"
   ]
  },
  {
   "cell_type": "code",
   "execution_count": 38,
   "id": "36867c6f",
   "metadata": {},
   "outputs": [
    {
     "data": {
      "text/plain": [
       "array([20. , 17.5, 18. ], dtype=float16)"
      ]
     },
     "execution_count": 38,
     "metadata": {},
     "output_type": "execute_result"
    }
   ],
   "source": [
    "grades"
   ]
  },
  {
   "cell_type": "code",
   "execution_count": 39,
   "id": "09c41933",
   "metadata": {},
   "outputs": [],
   "source": [
    "student_ids = np.astype(loaded_array[:, 0], \"u4\")"
   ]
  },
  {
   "cell_type": "code",
   "execution_count": 40,
   "id": "aa5e205f",
   "metadata": {},
   "outputs": [
    {
     "data": {
      "text/plain": [
       "array([9823084, 9923114, 9823036], dtype=uint32)"
      ]
     },
     "execution_count": 40,
     "metadata": {},
     "output_type": "execute_result"
    }
   ],
   "source": [
    "student_ids"
   ]
  },
  {
   "cell_type": "code",
   "execution_count": 41,
   "id": "28892399",
   "metadata": {},
   "outputs": [
    {
     "data": {
      "text/plain": [
       "array([(9823084, 20. ), (9923114, 17.5), (9823036, 18. )],\n",
       "      dtype=[('Student_ID', '<i8'), ('Grade', '<f8')])"
      ]
     },
     "execution_count": 41,
     "metadata": {},
     "output_type": "execute_result"
    }
   ],
   "source": [
    "data_type = [(\"Student ID\", int), (\"Grade\", float)]\n",
    "np.genfromtxt(\"./data/grades.csv\", delimiter=\", \", dtype=data_type, skip_header=1)"
   ]
  },
  {
   "cell_type": "markdown",
   "id": "65e909b0",
   "metadata": {},
   "source": [
    "### Exercise"
   ]
  },
  {
   "cell_type": "code",
   "execution_count": 42,
   "id": "db6fe529",
   "metadata": {},
   "outputs": [
    {
     "data": {
      "text/plain": [
       "array([[1, 2, 3],\n",
       "       [4, 5, 6],\n",
       "       [7, 8, 9]], dtype=uint8)"
      ]
     },
     "execution_count": 42,
     "metadata": {},
     "output_type": "execute_result"
    }
   ],
   "source": [
    "# 1\n",
    "data = np.arange(1, 10, dtype=\"u1\").reshape(3, 3)\n",
    "data"
   ]
  },
  {
   "cell_type": "code",
   "execution_count": 43,
   "id": "b45ce2ea",
   "metadata": {},
   "outputs": [],
   "source": [
    "# 2\n",
    "np.save(\"./data/array_data.npy\", data, allow_pickle=False)"
   ]
  },
  {
   "cell_type": "code",
   "execution_count": null,
   "id": "8b2f72e6",
   "metadata": {},
   "outputs": [
    {
     "data": {
      "text/plain": [
       "array([[1, 2, 3],\n",
       "       [4, 5, 6],\n",
       "       [7, 8, 9]], dtype=uint8)"
      ]
     },
     "execution_count": 44,
     "metadata": {},
     "output_type": "execute_result"
    }
   ],
   "source": [
    "# 3\n",
    "loaded_data = np.load(\"./data/array_data.npy\")\n",
    "loaded_data"
   ]
  },
  {
   "cell_type": "code",
   "execution_count": 71,
   "id": "22f38606",
   "metadata": {},
   "outputs": [
    {
     "data": {
      "text/plain": [
       "(3, 3)"
      ]
     },
     "execution_count": 71,
     "metadata": {},
     "output_type": "execute_result"
    }
   ],
   "source": [
    "loaded_data.shape"
   ]
  },
  {
   "cell_type": "code",
   "execution_count": 47,
   "id": "e3018920",
   "metadata": {},
   "outputs": [
    {
     "data": {
      "text/plain": [
       "array([[1.5, 2.7, 3.2],\n",
       "       [4.1, 5.9, 6.8],\n",
       "       [7.3, 8.6, 9.4]], dtype=float16)"
      ]
     },
     "execution_count": 47,
     "metadata": {},
     "output_type": "execute_result"
    }
   ],
   "source": [
    "# 4\n",
    "matrix = np.array([[1.5, 2.7, 3.2], [4.1, 5.9, 6.8], [7.3, 8.6, 9.4]], dtype=\"f2\")\n",
    "matrix"
   ]
  },
  {
   "cell_type": "code",
   "execution_count": 48,
   "id": "0a5c4d04",
   "metadata": {},
   "outputs": [],
   "source": [
    "# 5\n",
    "np.savetxt(\"./data/matrix_data.txt\", matrix, fmt=\"%.1f\", delimiter=\",\")"
   ]
  },
  {
   "cell_type": "code",
   "execution_count": 51,
   "id": "e34b15d0",
   "metadata": {},
   "outputs": [
    {
     "data": {
      "text/plain": [
       "array([[1.5, 2.7, 3.2],\n",
       "       [4.1, 5.9, 6.8],\n",
       "       [7.3, 8.6, 9.4]], dtype=float16)"
      ]
     },
     "execution_count": 51,
     "metadata": {},
     "output_type": "execute_result"
    }
   ],
   "source": [
    "# 6\n",
    "loaded_matrix = np.loadtxt(\"./data/matrix_data.txt\", dtype=\"f2\", delimiter=\",\")\n",
    "loaded_matrix"
   ]
  },
  {
   "cell_type": "code",
   "execution_count": 72,
   "id": "d14aa447",
   "metadata": {},
   "outputs": [
    {
     "data": {
      "text/plain": [
       "(3, 3)"
      ]
     },
     "execution_count": 72,
     "metadata": {},
     "output_type": "execute_result"
    }
   ],
   "source": [
    "loaded_matrix.shape"
   ]
  },
  {
   "cell_type": "code",
   "execution_count": null,
   "id": "f9a78fac",
   "metadata": {},
   "outputs": [],
   "source": [
    "# 7\n",
    "data_dict = {\"array1\": data, \"array2\": matrix}"
   ]
  },
  {
   "cell_type": "code",
   "execution_count": 85,
   "id": "4ecc34c0",
   "metadata": {},
   "outputs": [],
   "source": [
    "# 8\n",
    "np.savez_compressed(\"./data/data_archive.npz\", **data_dict)"
   ]
  },
  {
   "cell_type": "code",
   "execution_count": 86,
   "id": "43980b1a",
   "metadata": {},
   "outputs": [],
   "source": [
    "# 9\n",
    "loaded_dict = np.load(\"./data/data_archive.npz\")"
   ]
  },
  {
   "cell_type": "code",
   "execution_count": 87,
   "id": "164e550d",
   "metadata": {},
   "outputs": [
    {
     "data": {
      "text/plain": [
       "['array1', 'array2']"
      ]
     },
     "execution_count": 87,
     "metadata": {},
     "output_type": "execute_result"
    }
   ],
   "source": [
    "loaded_dict.files"
   ]
  },
  {
   "cell_type": "code",
   "execution_count": 88,
   "id": "49171bf3",
   "metadata": {},
   "outputs": [
    {
     "data": {
      "text/plain": [
       "array([[1, 2, 3],\n",
       "       [4, 5, 6],\n",
       "       [7, 8, 9]], dtype=uint8)"
      ]
     },
     "execution_count": 88,
     "metadata": {},
     "output_type": "execute_result"
    }
   ],
   "source": [
    "loaded_dict[\"array1\"]"
   ]
  },
  {
   "cell_type": "code",
   "execution_count": 89,
   "id": "c6ff12a8",
   "metadata": {},
   "outputs": [
    {
     "data": {
      "text/plain": [
       "array([[1.5, 2.7, 3.2],\n",
       "       [4.1, 5.9, 6.8],\n",
       "       [7.3, 8.6, 9.4]], dtype=float16)"
      ]
     },
     "execution_count": 89,
     "metadata": {},
     "output_type": "execute_result"
    }
   ],
   "source": [
    "loaded_dict[\"array2\"]"
   ]
  },
  {
   "cell_type": "code",
   "execution_count": 90,
   "id": "e4a47631",
   "metadata": {},
   "outputs": [
    {
     "data": {
      "text/plain": [
       "(3, 3)"
      ]
     },
     "execution_count": 90,
     "metadata": {},
     "output_type": "execute_result"
    }
   ],
   "source": [
    "loaded_dict[\"array1\"].shape"
   ]
  },
  {
   "cell_type": "code",
   "execution_count": 91,
   "id": "6a8a972e",
   "metadata": {},
   "outputs": [
    {
     "data": {
      "text/plain": [
       "(3, 3)"
      ]
     },
     "execution_count": 91,
     "metadata": {},
     "output_type": "execute_result"
    }
   ],
   "source": [
    "loaded_dict[\"array2\"].shape"
   ]
  },
  {
   "cell_type": "code",
   "execution_count": 92,
   "id": "bb5d1a42",
   "metadata": {},
   "outputs": [],
   "source": [
    "# 10\n",
    "csv_data = np.array(\n",
    "    [\n",
    "        [\"Name\", \"Age\", \"City\"],\n",
    "        [\"Alice\", 25, \"New York\"],\n",
    "        [\"Bob\", 30, \"London\"],\n",
    "        [\"Charlie\", 35, \"Paris\"],\n",
    "    ]\n",
    ")"
   ]
  },
  {
   "cell_type": "code",
   "execution_count": 93,
   "id": "7bb94385",
   "metadata": {},
   "outputs": [],
   "source": [
    "# 11\n",
    "np.savetxt(\"./data/data.csv\", csv_data, delimiter=\", \", fmt=\"%s\")"
   ]
  },
  {
   "cell_type": "code",
   "execution_count": 94,
   "id": "e3599a95",
   "metadata": {},
   "outputs": [
    {
     "data": {
      "text/plain": [
       "array([['Name', 'Age', 'City'],\n",
       "       ['Alice', '25', 'New York'],\n",
       "       ['Bob', '30', 'London'],\n",
       "       ['Charlie', '35', 'Paris']], dtype='<U8')"
      ]
     },
     "execution_count": 94,
     "metadata": {},
     "output_type": "execute_result"
    }
   ],
   "source": [
    "# 12\n",
    "loaded_csv_data = np.genfromtxt(\"./data/data.csv\", dtype=str, delimiter=\", \")\n",
    "loaded_csv_data"
   ]
  },
  {
   "cell_type": "code",
   "execution_count": 95,
   "id": "e29bbbe6",
   "metadata": {},
   "outputs": [
    {
     "data": {
      "text/plain": [
       "(4, 3)"
      ]
     },
     "execution_count": 95,
     "metadata": {},
     "output_type": "execute_result"
    }
   ],
   "source": [
    "loaded_csv_data.shape"
   ]
  },
  {
   "cell_type": "code",
   "execution_count": 96,
   "id": "05d6445f",
   "metadata": {},
   "outputs": [],
   "source": [
    "# 13\n",
    "txt_data = np.array([[1.2, 3.4, 5.6], [7.8, 9.0, 10.2]], dtype=\"f2\")"
   ]
  },
  {
   "cell_type": "code",
   "execution_count": 97,
   "id": "eae0d0c2",
   "metadata": {},
   "outputs": [],
   "source": [
    "# 14\n",
    "np.savetxt(\"./data/data.txt\", txt_data, delimiter=\" \", fmt=\"%.1f\")"
   ]
  },
  {
   "cell_type": "code",
   "execution_count": 98,
   "id": "fe38916a",
   "metadata": {},
   "outputs": [
    {
     "data": {
      "text/plain": [
       "array([[ 1.2,  3.4,  5.6],\n",
       "       [ 7.8,  9. , 10.2]], dtype=float16)"
      ]
     },
     "execution_count": 98,
     "metadata": {},
     "output_type": "execute_result"
    }
   ],
   "source": [
    "# 15\n",
    "loaded_txt_data = np.loadtxt(\"./data/data.txt\", dtype=\"f2\", delimiter=\" \")\n",
    "loaded_txt_data"
   ]
  },
  {
   "cell_type": "code",
   "execution_count": 99,
   "id": "141af4d4",
   "metadata": {},
   "outputs": [
    {
     "data": {
      "text/plain": [
       "(2, 3)"
      ]
     },
     "execution_count": 99,
     "metadata": {},
     "output_type": "execute_result"
    }
   ],
   "source": [
    "loaded_txt_data.shape"
   ]
  }
 ],
 "metadata": {
  "kernelspec": {
   "display_name": "data-procvis",
   "language": "python",
   "name": "python3"
  },
  "language_info": {
   "codemirror_mode": {
    "name": "ipython",
    "version": 3
   },
   "file_extension": ".py",
   "mimetype": "text/x-python",
   "name": "python",
   "nbconvert_exporter": "python",
   "pygments_lexer": "ipython3",
   "version": "3.11.11"
  }
 },
 "nbformat": 4,
 "nbformat_minor": 5
}
