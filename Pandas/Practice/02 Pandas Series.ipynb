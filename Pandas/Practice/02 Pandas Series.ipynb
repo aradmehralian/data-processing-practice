{
 "cells": [
  {
   "cell_type": "markdown",
   "id": "a50a0e6c",
   "metadata": {},
   "source": [
    "# Coding Practice Session 2\n",
    "## Pandas Series"
   ]
  },
  {
   "cell_type": "code",
   "execution_count": 2,
   "id": "a17cd57d",
   "metadata": {},
   "outputs": [],
   "source": [
    "import pandas as pd\n",
    "import numpy as np"
   ]
  },
  {
   "cell_type": "markdown",
   "id": "3e21e673",
   "metadata": {},
   "source": [
    "### Creating a Series"
   ]
  },
  {
   "cell_type": "code",
   "execution_count": 3,
   "id": "74991fe9",
   "metadata": {},
   "outputs": [
    {
     "data": {
      "text/plain": [
       "0    1\n",
       "1    2\n",
       "2    3\n",
       "3    4\n",
       "4    5\n",
       "dtype: int64"
      ]
     },
     "execution_count": 3,
     "metadata": {},
     "output_type": "execute_result"
    }
   ],
   "source": [
    "s = pd.Series([1, 2, 3, 4, 5])\n",
    "s"
   ]
  },
  {
   "cell_type": "code",
   "execution_count": 4,
   "id": "396b4fa9",
   "metadata": {},
   "outputs": [
    {
     "data": {
      "text/plain": [
       "0    1\n",
       "1    2\n",
       "2    3\n",
       "3    4\n",
       "4    5\n",
       "dtype: int64"
      ]
     },
     "execution_count": 4,
     "metadata": {},
     "output_type": "execute_result"
    }
   ],
   "source": [
    "data = np.array([1, 2, 3, 4, 5])\n",
    "s = pd.Series(data)\n",
    "s"
   ]
  },
  {
   "cell_type": "code",
   "execution_count": 5,
   "id": "66f5bead",
   "metadata": {},
   "outputs": [],
   "source": [
    "s = pd.Series(\n",
    "    {\n",
    "        \"a\": 1,\n",
    "        \"b\": 2,\n",
    "        \"c\": 3,\n",
    "        \"d\": 4,\n",
    "    }\n",
    ")"
   ]
  },
  {
   "cell_type": "code",
   "execution_count": 6,
   "id": "ec66500c",
   "metadata": {},
   "outputs": [
    {
     "data": {
      "text/plain": [
       "a    1\n",
       "b    2\n",
       "c    3\n",
       "d    4\n",
       "dtype: int64"
      ]
     },
     "execution_count": 6,
     "metadata": {},
     "output_type": "execute_result"
    }
   ],
   "source": [
    "s"
   ]
  },
  {
   "cell_type": "code",
   "execution_count": 7,
   "id": "39ddfbb1",
   "metadata": {},
   "outputs": [
    {
     "data": {
      "text/plain": [
       "A1     1\n",
       "B1    10\n",
       "C1    20\n",
       "D1    30\n",
       "dtype: int64"
      ]
     },
     "execution_count": 7,
     "metadata": {},
     "output_type": "execute_result"
    }
   ],
   "source": [
    "data = np.array([1, 10, 20, 30])\n",
    "index = [\"A1\", \"B1\", \"C1\", \"D1\"]\n",
    "\n",
    "pd.Series(data, index=index)"
   ]
  },
  {
   "cell_type": "code",
   "execution_count": 19,
   "id": "df4c942c",
   "metadata": {},
   "outputs": [],
   "source": [
    "series = pd.Series(data=[1, 2, 3, 4], index=[\"A\", \"B\", \"C\", \"D\"], dtype=\"f4\", name=\"Dummy\")"
   ]
  },
  {
   "cell_type": "code",
   "execution_count": 18,
   "id": "dba045e9",
   "metadata": {},
   "outputs": [
    {
     "data": {
      "text/plain": [
       "A    1.0\n",
       "B    2.0\n",
       "C    3.0\n",
       "D    4.0\n",
       "Name: Dummy, dtype: float32"
      ]
     },
     "execution_count": 18,
     "metadata": {},
     "output_type": "execute_result"
    }
   ],
   "source": [
    "series"
   ]
  },
  {
   "cell_type": "code",
   "execution_count": 20,
   "id": "c407e39c",
   "metadata": {},
   "outputs": [
    {
     "data": {
      "text/plain": [
       "0       1\n",
       "1     2.5\n",
       "2       A\n",
       "3       4\n",
       "4    5.85\n",
       "dtype: object"
      ]
     },
     "execution_count": 20,
     "metadata": {},
     "output_type": "execute_result"
    }
   ],
   "source": [
    "pd.Series([1, 2.5, \"A\", 4, 5.85])"
   ]
  },
  {
   "cell_type": "code",
   "execution_count": 97,
   "id": "87d6be09",
   "metadata": {},
   "outputs": [
    {
     "data": {
      "text/plain": [
       "Day1    420\n",
       "Day2    450\n",
       "Day3    390\n",
       "Name: Calories, dtype: int32"
      ]
     },
     "execution_count": 97,
     "metadata": {},
     "output_type": "execute_result"
    }
   ],
   "source": [
    "calories = {\"Day1\": 420, \"Day2\": 450, \"Day3\": 390}\n",
    "\n",
    "s = pd.Series(calories, name=\"Calories\", dtype=\"i4\")\n",
    "s"
   ]
  },
  {
   "cell_type": "code",
   "execution_count": 98,
   "id": "827a3aeb",
   "metadata": {},
   "outputs": [
    {
     "data": {
      "text/plain": [
       "dtype('O')"
      ]
     },
     "execution_count": 98,
     "metadata": {},
     "output_type": "execute_result"
    }
   ],
   "source": [
    "s.index.dtype"
   ]
  },
  {
   "cell_type": "code",
   "execution_count": 99,
   "id": "dc4695eb",
   "metadata": {},
   "outputs": [
    {
     "data": {
      "text/plain": [
       "Index(['Day1', 'Day2', 'Day3'], dtype='object')"
      ]
     },
     "execution_count": 99,
     "metadata": {},
     "output_type": "execute_result"
    }
   ],
   "source": [
    "s.index"
   ]
  },
  {
   "cell_type": "markdown",
   "id": "e31a2a74",
   "metadata": {},
   "source": [
    "### Series Attributes"
   ]
  },
  {
   "cell_type": "code",
   "execution_count": 21,
   "id": "1391e532",
   "metadata": {},
   "outputs": [
    {
     "data": {
      "text/plain": [
       "0    1\n",
       "1    2\n",
       "2    3\n",
       "3    4\n",
       "4    5\n",
       "dtype: int64"
      ]
     },
     "execution_count": 21,
     "metadata": {},
     "output_type": "execute_result"
    }
   ],
   "source": [
    "s = pd.Series([1, 2, 3, 4, 5])\n",
    "s"
   ]
  },
  {
   "cell_type": "code",
   "execution_count": 22,
   "id": "e9f2daac",
   "metadata": {},
   "outputs": [
    {
     "data": {
      "text/plain": [
       "dtype('int64')"
      ]
     },
     "execution_count": 22,
     "metadata": {},
     "output_type": "execute_result"
    }
   ],
   "source": [
    "s.dtype"
   ]
  },
  {
   "cell_type": "code",
   "execution_count": 23,
   "id": "f3b361e0",
   "metadata": {},
   "outputs": [
    {
     "data": {
      "text/plain": [
       "True"
      ]
     },
     "execution_count": 23,
     "metadata": {},
     "output_type": "execute_result"
    }
   ],
   "source": [
    "s.dtype == np.int64"
   ]
  },
  {
   "cell_type": "code",
   "execution_count": 29,
   "id": "f8516cdc",
   "metadata": {},
   "outputs": [
    {
     "data": {
      "text/plain": [
       "numpy.dtypes.Int64DType"
      ]
     },
     "execution_count": 29,
     "metadata": {},
     "output_type": "execute_result"
    }
   ],
   "source": [
    "type(s.dtype)"
   ]
  },
  {
   "cell_type": "code",
   "execution_count": 24,
   "id": "ec9f255f",
   "metadata": {},
   "outputs": [
    {
     "data": {
      "text/plain": [
       "(5,)"
      ]
     },
     "execution_count": 24,
     "metadata": {},
     "output_type": "execute_result"
    }
   ],
   "source": [
    "s.shape"
   ]
  },
  {
   "cell_type": "code",
   "execution_count": 25,
   "id": "167808de",
   "metadata": {},
   "outputs": [
    {
     "data": {
      "text/plain": [
       "5"
      ]
     },
     "execution_count": 25,
     "metadata": {},
     "output_type": "execute_result"
    }
   ],
   "source": [
    "s.size"
   ]
  },
  {
   "cell_type": "code",
   "execution_count": 26,
   "id": "3bf1ebde",
   "metadata": {},
   "outputs": [
    {
     "data": {
      "text/plain": [
       "A1    1\n",
       "B1    2\n",
       "C1    3\n",
       "D1    4\n",
       "E1    5\n",
       "dtype: int64"
      ]
     },
     "execution_count": 26,
     "metadata": {},
     "output_type": "execute_result"
    }
   ],
   "source": [
    "data = [_ for _ in range(1, 6)]\n",
    "index = (\"A1\", \"B1\", \"C1\", \"D1\", \"E1\")\n",
    "s = pd.Series(data, index=index)\n",
    "s"
   ]
  },
  {
   "cell_type": "code",
   "execution_count": 27,
   "id": "2171d567",
   "metadata": {},
   "outputs": [
    {
     "data": {
      "text/plain": [
       "Index(['A1', 'B1', 'C1', 'D1', 'E1'], dtype='object')"
      ]
     },
     "execution_count": 27,
     "metadata": {},
     "output_type": "execute_result"
    }
   ],
   "source": [
    "s.index"
   ]
  },
  {
   "cell_type": "code",
   "execution_count": 28,
   "id": "484fe852",
   "metadata": {},
   "outputs": [
    {
     "data": {
      "text/plain": [
       "pandas.core.indexes.base.Index"
      ]
     },
     "execution_count": 28,
     "metadata": {},
     "output_type": "execute_result"
    }
   ],
   "source": [
    "type(s.index)"
   ]
  },
  {
   "cell_type": "code",
   "execution_count": 30,
   "id": "e85ae708",
   "metadata": {},
   "outputs": [
    {
     "data": {
      "text/plain": [
       "array([1, 2, 3, 4, 5])"
      ]
     },
     "execution_count": 30,
     "metadata": {},
     "output_type": "execute_result"
    }
   ],
   "source": [
    "s.values"
   ]
  },
  {
   "cell_type": "code",
   "execution_count": 31,
   "id": "bfe65d06",
   "metadata": {},
   "outputs": [
    {
     "data": {
      "text/plain": [
       "numpy.ndarray"
      ]
     },
     "execution_count": 31,
     "metadata": {},
     "output_type": "execute_result"
    }
   ],
   "source": [
    "type(s.values)"
   ]
  },
  {
   "cell_type": "markdown",
   "id": "cc099830",
   "metadata": {},
   "source": [
    "### Vectorized Operations and Label Alignment"
   ]
  },
  {
   "cell_type": "code",
   "execution_count": 32,
   "id": "db82e674",
   "metadata": {},
   "outputs": [
    {
     "data": {
      "text/plain": [
       "0    1\n",
       "1    2\n",
       "2    3\n",
       "3    4\n",
       "4    5\n",
       "dtype: int64"
      ]
     },
     "execution_count": 32,
     "metadata": {},
     "output_type": "execute_result"
    }
   ],
   "source": [
    "data = [1, 2, 3, 4, 5]\n",
    "s = pd.Series(data)\n",
    "s"
   ]
  },
  {
   "cell_type": "code",
   "execution_count": 40,
   "id": "a70b0442",
   "metadata": {},
   "outputs": [
    {
     "data": {
      "text/plain": [
       "0    11\n",
       "1    12\n",
       "2    13\n",
       "3    14\n",
       "4    15\n",
       "dtype: int64"
      ]
     },
     "execution_count": 40,
     "metadata": {},
     "output_type": "execute_result"
    }
   ],
   "source": [
    "# Arithmetic operations\n",
    "s + 10"
   ]
  },
  {
   "cell_type": "code",
   "execution_count": 35,
   "id": "eb935ddf",
   "metadata": {},
   "outputs": [
    {
     "data": {
      "text/plain": [
       "0     3\n",
       "1     6\n",
       "2     9\n",
       "3    12\n",
       "4    15\n",
       "dtype: int64"
      ]
     },
     "execution_count": 35,
     "metadata": {},
     "output_type": "execute_result"
    }
   ],
   "source": [
    "s * 3"
   ]
  },
  {
   "cell_type": "code",
   "execution_count": 36,
   "id": "926dff8c",
   "metadata": {},
   "outputs": [
    {
     "data": {
      "text/plain": [
       "0     1\n",
       "1     4\n",
       "2     9\n",
       "3    16\n",
       "4    25\n",
       "dtype: int64"
      ]
     },
     "execution_count": 36,
     "metadata": {},
     "output_type": "execute_result"
    }
   ],
   "source": [
    "s ** 2"
   ]
  },
  {
   "cell_type": "code",
   "execution_count": null,
   "id": "b9fa29c2",
   "metadata": {},
   "outputs": [
    {
     "data": {
      "text/plain": [
       "0      2.718282\n",
       "1      7.389056\n",
       "2     20.085537\n",
       "3     54.598150\n",
       "4    148.413159\n",
       "dtype: float64"
      ]
     },
     "execution_count": 37,
     "metadata": {},
     "output_type": "execute_result"
    }
   ],
   "source": [
    "# Mathematical operations\n",
    "np.exp(s)"
   ]
  },
  {
   "cell_type": "code",
   "execution_count": 38,
   "id": "81f53495",
   "metadata": {},
   "outputs": [
    {
     "data": {
      "text/plain": [
       "0    0.540302\n",
       "1   -0.416147\n",
       "2   -0.989992\n",
       "3   -0.653644\n",
       "4    0.283662\n",
       "dtype: float64"
      ]
     },
     "execution_count": 38,
     "metadata": {},
     "output_type": "execute_result"
    }
   ],
   "source": [
    "np.cos(s)"
   ]
  },
  {
   "cell_type": "code",
   "execution_count": 39,
   "id": "67a1ceca",
   "metadata": {},
   "outputs": [
    {
     "data": {
      "text/plain": [
       "0    0.000000\n",
       "1    0.301030\n",
       "2    0.477121\n",
       "3    0.602060\n",
       "4    0.698970\n",
       "dtype: float64"
      ]
     },
     "execution_count": 39,
     "metadata": {},
     "output_type": "execute_result"
    }
   ],
   "source": [
    "np.log10(s)"
   ]
  },
  {
   "cell_type": "code",
   "execution_count": 41,
   "id": "d2779b39",
   "metadata": {},
   "outputs": [
    {
     "data": {
      "text/plain": [
       "0    False\n",
       "1    False\n",
       "2    False\n",
       "3    False\n",
       "4     True\n",
       "dtype: bool"
      ]
     },
     "execution_count": 41,
     "metadata": {},
     "output_type": "execute_result"
    }
   ],
   "source": [
    "# Boolean operations\n",
    "s == 5"
   ]
  },
  {
   "cell_type": "code",
   "execution_count": 42,
   "id": "3b64d798",
   "metadata": {},
   "outputs": [
    {
     "data": {
      "text/plain": [
       "0    False\n",
       "1    False\n",
       "2     True\n",
       "3     True\n",
       "4     True\n",
       "dtype: bool"
      ]
     },
     "execution_count": 42,
     "metadata": {},
     "output_type": "execute_result"
    }
   ],
   "source": [
    "s > 2"
   ]
  },
  {
   "cell_type": "code",
   "execution_count": 43,
   "id": "27a0a217",
   "metadata": {},
   "outputs": [
    {
     "data": {
      "text/plain": [
       "False"
      ]
     },
     "execution_count": 43,
     "metadata": {},
     "output_type": "execute_result"
    }
   ],
   "source": [
    "np.shares_memory(s, s + 10)"
   ]
  },
  {
   "cell_type": "code",
   "execution_count": 48,
   "id": "c8caf298",
   "metadata": {},
   "outputs": [],
   "source": [
    "series1 = pd.Series([1, 2, 3, 4], index=[\"h\", \"a\", \"b\", \"c\"])\n",
    "series2 = pd.Series([10, 20, 30], index=[\"c\", \"b\", \"h\"])"
   ]
  },
  {
   "cell_type": "code",
   "execution_count": 49,
   "id": "fab25f6e",
   "metadata": {},
   "outputs": [
    {
     "data": {
      "text/plain": [
       "h    1\n",
       "a    2\n",
       "b    3\n",
       "c    4\n",
       "dtype: int64"
      ]
     },
     "execution_count": 49,
     "metadata": {},
     "output_type": "execute_result"
    }
   ],
   "source": [
    "series1"
   ]
  },
  {
   "cell_type": "code",
   "execution_count": 50,
   "id": "6dc582d4",
   "metadata": {},
   "outputs": [
    {
     "data": {
      "text/plain": [
       "c    10\n",
       "b    20\n",
       "h    30\n",
       "dtype: int64"
      ]
     },
     "execution_count": 50,
     "metadata": {},
     "output_type": "execute_result"
    }
   ],
   "source": [
    "series2"
   ]
  },
  {
   "cell_type": "code",
   "execution_count": 51,
   "id": "db1c85df",
   "metadata": {},
   "outputs": [
    {
     "data": {
      "text/plain": [
       "a     NaN\n",
       "b    23.0\n",
       "c    14.0\n",
       "h    31.0\n",
       "dtype: float64"
      ]
     },
     "execution_count": 51,
     "metadata": {},
     "output_type": "execute_result"
    }
   ],
   "source": [
    "series1 + series2"
   ]
  },
  {
   "cell_type": "markdown",
   "id": "3b830d2c",
   "metadata": {},
   "source": [
    "### Common Series Methods"
   ]
  },
  {
   "cell_type": "code",
   "execution_count": 52,
   "id": "73d846a5",
   "metadata": {},
   "outputs": [],
   "source": [
    "data = np.random.randint(1, 10, size=100)\n",
    "s = pd.Series(data)"
   ]
  },
  {
   "cell_type": "code",
   "execution_count": 53,
   "id": "f5ef41f7",
   "metadata": {},
   "outputs": [
    {
     "data": {
      "text/plain": [
       "0     4\n",
       "1     3\n",
       "2     2\n",
       "3     6\n",
       "4     3\n",
       "     ..\n",
       "95    3\n",
       "96    6\n",
       "97    8\n",
       "98    8\n",
       "99    4\n",
       "Length: 100, dtype: int64"
      ]
     },
     "execution_count": 53,
     "metadata": {},
     "output_type": "execute_result"
    }
   ],
   "source": [
    "s"
   ]
  },
  {
   "cell_type": "code",
   "execution_count": 54,
   "id": "72d6872b",
   "metadata": {},
   "outputs": [
    {
     "data": {
      "text/plain": [
       "0    4\n",
       "1    3\n",
       "2    2\n",
       "3    6\n",
       "4    3\n",
       "dtype: int64"
      ]
     },
     "execution_count": 54,
     "metadata": {},
     "output_type": "execute_result"
    }
   ],
   "source": [
    "s.head()"
   ]
  },
  {
   "cell_type": "code",
   "execution_count": 55,
   "id": "f5d081c2",
   "metadata": {},
   "outputs": [
    {
     "data": {
      "text/plain": [
       "0    4\n",
       "1    3\n",
       "2    2\n",
       "3    6\n",
       "4    3\n",
       "5    3\n",
       "6    4\n",
       "7    2\n",
       "8    7\n",
       "9    7\n",
       "dtype: int64"
      ]
     },
     "execution_count": 55,
     "metadata": {},
     "output_type": "execute_result"
    }
   ],
   "source": [
    "s.head(10)"
   ]
  },
  {
   "cell_type": "code",
   "execution_count": 56,
   "id": "1c127762",
   "metadata": {},
   "outputs": [
    {
     "data": {
      "text/plain": [
       "95    3\n",
       "96    6\n",
       "97    8\n",
       "98    8\n",
       "99    4\n",
       "dtype: int64"
      ]
     },
     "execution_count": 56,
     "metadata": {},
     "output_type": "execute_result"
    }
   ],
   "source": [
    "s.tail()"
   ]
  },
  {
   "cell_type": "code",
   "execution_count": 57,
   "id": "c36e5d64",
   "metadata": {},
   "outputs": [
    {
     "data": {
      "text/plain": [
       "94    5\n",
       "95    3\n",
       "96    6\n",
       "97    8\n",
       "98    8\n",
       "99    4\n",
       "dtype: int64"
      ]
     },
     "execution_count": 57,
     "metadata": {},
     "output_type": "execute_result"
    }
   ],
   "source": [
    "s.tail(6)"
   ]
  },
  {
   "cell_type": "code",
   "execution_count": 58,
   "id": "122ad1e3",
   "metadata": {},
   "outputs": [
    {
     "data": {
      "text/plain": [
       "array([4, 3, 2, 6, 7, 9, 5, 1, 8])"
      ]
     },
     "execution_count": 58,
     "metadata": {},
     "output_type": "execute_result"
    }
   ],
   "source": [
    "s.unique()"
   ]
  },
  {
   "cell_type": "code",
   "execution_count": 59,
   "id": "9c896813",
   "metadata": {},
   "outputs": [
    {
     "data": {
      "text/plain": [
       "True"
      ]
     },
     "execution_count": 59,
     "metadata": {},
     "output_type": "execute_result"
    }
   ],
   "source": [
    "8 in s.head(50)"
   ]
  },
  {
   "cell_type": "code",
   "execution_count": 60,
   "id": "8f564afd",
   "metadata": {},
   "outputs": [
    {
     "data": {
      "text/plain": [
       "3    18\n",
       "6    17\n",
       "7    14\n",
       "5    13\n",
       "2     9\n",
       "9     9\n",
       "8     8\n",
       "4     6\n",
       "1     6\n",
       "Name: count, dtype: int64"
      ]
     },
     "execution_count": 60,
     "metadata": {},
     "output_type": "execute_result"
    }
   ],
   "source": [
    "s.value_counts()"
   ]
  },
  {
   "cell_type": "code",
   "execution_count": 64,
   "id": "54f80205",
   "metadata": {},
   "outputs": [
    {
     "data": {
      "text/plain": [
       "4     6\n",
       "1     6\n",
       "8     8\n",
       "9     9\n",
       "2     9\n",
       "5    13\n",
       "7    14\n",
       "6    17\n",
       "3    18\n",
       "Name: count, dtype: int64"
      ]
     },
     "execution_count": 64,
     "metadata": {},
     "output_type": "execute_result"
    }
   ],
   "source": [
    "s.value_counts(ascending=True)"
   ]
  },
  {
   "cell_type": "code",
   "execution_count": 65,
   "id": "92dc22c9",
   "metadata": {},
   "outputs": [
    {
     "data": {
      "text/plain": [
       "4   -20\n",
       "5     1\n",
       "1     2\n",
       "3     4\n",
       "0     5\n",
       "2     8\n",
       "dtype: int64"
      ]
     },
     "execution_count": 65,
     "metadata": {},
     "output_type": "execute_result"
    }
   ],
   "source": [
    "data = [5, 2, 8, 4, -20, 1]\n",
    "s = pd.Series(data)\n",
    "\n",
    "s.sort_values()"
   ]
  },
  {
   "cell_type": "code",
   "execution_count": 66,
   "id": "67180732",
   "metadata": {},
   "outputs": [
    {
     "data": {
      "text/plain": [
       "2     8\n",
       "0     5\n",
       "3     4\n",
       "1     2\n",
       "5     1\n",
       "4   -20\n",
       "dtype: int64"
      ]
     },
     "execution_count": 66,
     "metadata": {},
     "output_type": "execute_result"
    }
   ],
   "source": [
    "s.sort_values(ascending=False)"
   ]
  },
  {
   "cell_type": "code",
   "execution_count": 67,
   "id": "b51a2d5b",
   "metadata": {},
   "outputs": [
    {
     "data": {
      "text/plain": [
       "b     4\n",
       "e     8\n",
       "c    10\n",
       "f     1\n",
       "a     9\n",
       "z     5\n",
       "dtype: int64"
      ]
     },
     "execution_count": 67,
     "metadata": {},
     "output_type": "execute_result"
    }
   ],
   "source": [
    "data = [4, 8, 10, 1, 9, 5]\n",
    "index = [\"b\", \"e\", \"c\", \"f\", \"a\", \"z\"]\n",
    "s = pd.Series(data, index=index)\n",
    "s"
   ]
  },
  {
   "cell_type": "code",
   "execution_count": 68,
   "id": "183a9d17",
   "metadata": {},
   "outputs": [
    {
     "data": {
      "text/plain": [
       "a     9\n",
       "b     4\n",
       "c    10\n",
       "e     8\n",
       "f     1\n",
       "z     5\n",
       "dtype: int64"
      ]
     },
     "execution_count": 68,
     "metadata": {},
     "output_type": "execute_result"
    }
   ],
   "source": [
    "s.sort_index()"
   ]
  },
  {
   "cell_type": "code",
   "execution_count": 69,
   "id": "7bccc959",
   "metadata": {},
   "outputs": [
    {
     "data": {
      "text/plain": [
       "z     5\n",
       "f     1\n",
       "e     8\n",
       "c    10\n",
       "b     4\n",
       "a     9\n",
       "dtype: int64"
      ]
     },
     "execution_count": 69,
     "metadata": {},
     "output_type": "execute_result"
    }
   ],
   "source": [
    "s.sort_index(ascending=False)"
   ]
  },
  {
   "cell_type": "markdown",
   "id": "ccfe70b4",
   "metadata": {},
   "source": [
    "### Converting Series Data Types"
   ]
  },
  {
   "cell_type": "code",
   "execution_count": 70,
   "id": "f70de643",
   "metadata": {},
   "outputs": [
    {
     "data": {
      "text/plain": [
       "0    1\n",
       "1    2\n",
       "2    3\n",
       "3    4\n",
       "dtype: object"
      ]
     },
     "execution_count": 70,
     "metadata": {},
     "output_type": "execute_result"
    }
   ],
   "source": [
    "# Explicit conversion\n",
    "s = pd.Series([\"1\", \"2\", \"3\", \"4\"])\n",
    "s"
   ]
  },
  {
   "cell_type": "code",
   "execution_count": 71,
   "id": "23eafc16",
   "metadata": {},
   "outputs": [
    {
     "data": {
      "text/plain": [
       "dtype('O')"
      ]
     },
     "execution_count": 71,
     "metadata": {},
     "output_type": "execute_result"
    }
   ],
   "source": [
    "s.dtype"
   ]
  },
  {
   "cell_type": "code",
   "execution_count": 73,
   "id": "dac37a42",
   "metadata": {},
   "outputs": [
    {
     "data": {
      "text/plain": [
       "0    1\n",
       "1    2\n",
       "2    3\n",
       "3    4\n",
       "dtype: int32"
      ]
     },
     "execution_count": 73,
     "metadata": {},
     "output_type": "execute_result"
    }
   ],
   "source": [
    "s_int = s.astype(\"i4\")\n",
    "s_int"
   ]
  },
  {
   "cell_type": "code",
   "execution_count": 74,
   "id": "a9389e05",
   "metadata": {},
   "outputs": [
    {
     "data": {
      "text/plain": [
       "0    1.0\n",
       "1    2.0\n",
       "2    3.0\n",
       "3    4.0\n",
       "dtype: float64"
      ]
     },
     "execution_count": 74,
     "metadata": {},
     "output_type": "execute_result"
    }
   ],
   "source": [
    "s_float = s.astype(float)\n",
    "s_float"
   ]
  },
  {
   "cell_type": "code",
   "execution_count": 75,
   "id": "f5722c70",
   "metadata": {},
   "outputs": [
    {
     "data": {
      "text/plain": [
       "dtype('float64')"
      ]
     },
     "execution_count": 75,
     "metadata": {},
     "output_type": "execute_result"
    }
   ],
   "source": [
    "s_float.dtype"
   ]
  },
  {
   "cell_type": "code",
   "execution_count": 76,
   "id": "8bee2fcc",
   "metadata": {},
   "outputs": [
    {
     "data": {
      "text/plain": [
       "pandas.core.series.Series"
      ]
     },
     "execution_count": 76,
     "metadata": {},
     "output_type": "execute_result"
    }
   ],
   "source": [
    "type(s_float)"
   ]
  },
  {
   "cell_type": "code",
   "execution_count": 79,
   "id": "0f51c0d6",
   "metadata": {},
   "outputs": [
    {
     "data": {
      "text/plain": [
       "0    1.00\n",
       "1    2.75\n",
       "2    3.19\n",
       "3    4.56\n",
       "4    5.00\n",
       "5    6.00\n",
       "dtype: float64"
      ]
     },
     "execution_count": 79,
     "metadata": {},
     "output_type": "execute_result"
    }
   ],
   "source": [
    "s_mixed = pd.Series([1, 2.75, 3.19, 4.56, 5, 6])\n",
    "s_mixed"
   ]
  },
  {
   "cell_type": "code",
   "execution_count": 80,
   "id": "cb32d4a0",
   "metadata": {},
   "outputs": [
    {
     "data": {
      "text/plain": [
       "0    1\n",
       "1    2\n",
       "2    3\n",
       "3    4\n",
       "4    5\n",
       "5    6\n",
       "dtype: int64"
      ]
     },
     "execution_count": 80,
     "metadata": {},
     "output_type": "execute_result"
    }
   ],
   "source": [
    "s_mixed.astype(int)"
   ]
  },
  {
   "cell_type": "code",
   "execution_count": 81,
   "id": "62516258",
   "metadata": {},
   "outputs": [
    {
     "data": {
      "text/plain": [
       "0    1.00\n",
       "1    2.75\n",
       "2    3.19\n",
       "3    4.56\n",
       "4    5.00\n",
       "5    6.00\n",
       "dtype: float64"
      ]
     },
     "execution_count": 81,
     "metadata": {},
     "output_type": "execute_result"
    }
   ],
   "source": [
    "s_mixed.astype(float)"
   ]
  },
  {
   "cell_type": "markdown",
   "id": "68f09600",
   "metadata": {},
   "source": [
    "### Pandas Datetime"
   ]
  },
  {
   "cell_type": "code",
   "execution_count": 82,
   "id": "ab94e6a4",
   "metadata": {},
   "outputs": [
    {
     "data": {
      "text/plain": [
       "0    2025-01-01\n",
       "1     2025-03-9\n",
       "2    2025-05-25\n",
       "dtype: object"
      ]
     },
     "execution_count": 82,
     "metadata": {},
     "output_type": "execute_result"
    }
   ],
   "source": [
    "dates = pd.Series([\"2025-01-01\", \"2025-03-9\", \"2025-05-25\"])\n",
    "dates"
   ]
  },
  {
   "cell_type": "code",
   "execution_count": 84,
   "id": "3656a55e",
   "metadata": {},
   "outputs": [
    {
     "data": {
      "text/plain": [
       "0   2025-01-01\n",
       "1   2025-03-09\n",
       "2   2025-05-25\n",
       "dtype: datetime64[ns]"
      ]
     },
     "execution_count": 84,
     "metadata": {},
     "output_type": "execute_result"
    }
   ],
   "source": [
    "dates = pd.to_datetime(dates)\n",
    "dates"
   ]
  },
  {
   "cell_type": "code",
   "execution_count": 85,
   "id": "7e70bbd0",
   "metadata": {},
   "outputs": [
    {
     "data": {
      "text/plain": [
       "dtype('<M8[ns]')"
      ]
     },
     "execution_count": 85,
     "metadata": {},
     "output_type": "execute_result"
    }
   ],
   "source": [
    "dates.dtype"
   ]
  },
  {
   "cell_type": "code",
   "execution_count": 86,
   "id": "51170d00",
   "metadata": {},
   "outputs": [
    {
     "data": {
      "text/plain": [
       "0        2025-07-17\n",
       "1        16/11/2024\n",
       "2    March 21, 2025\n",
       "dtype: object"
      ]
     },
     "execution_count": 86,
     "metadata": {},
     "output_type": "execute_result"
    }
   ],
   "source": [
    "mixed_dates = pd.Series([\"2025-07-17\", \"16/11/2024\", \"March 21, 2025\"])\n",
    "mixed_dates"
   ]
  },
  {
   "cell_type": "code",
   "execution_count": 87,
   "id": "1dbad1d9",
   "metadata": {},
   "outputs": [
    {
     "data": {
      "text/plain": [
       "0   2025-07-17\n",
       "1   2024-11-16\n",
       "2   2025-03-21\n",
       "dtype: datetime64[ns]"
      ]
     },
     "execution_count": 87,
     "metadata": {},
     "output_type": "execute_result"
    }
   ],
   "source": [
    "mixed_dates = pd.to_datetime(mixed_dates, format=\"mixed\")\n",
    "mixed_dates"
   ]
  },
  {
   "cell_type": "markdown",
   "id": "8d578818",
   "metadata": {},
   "source": [
    "### Categorical Data"
   ]
  },
  {
   "cell_type": "code",
   "execution_count": 88,
   "id": "e11d70e9",
   "metadata": {},
   "outputs": [
    {
     "data": {
      "text/plain": [
       "0       red\n",
       "1      blue\n",
       "2     green\n",
       "3    purple\n",
       "4    yellow\n",
       "5     white\n",
       "6       red\n",
       "7       red\n",
       "dtype: object"
      ]
     },
     "execution_count": 88,
     "metadata": {},
     "output_type": "execute_result"
    }
   ],
   "source": [
    "colors = pd.Series([\"red\", \"blue\", \"green\", \"purple\", \"yellow\", \"white\", \"red\", \"red\"])\n",
    "colors"
   ]
  },
  {
   "cell_type": "code",
   "execution_count": 89,
   "id": "f6f0390b",
   "metadata": {},
   "outputs": [
    {
     "data": {
      "text/plain": [
       "0       red\n",
       "1      blue\n",
       "2     green\n",
       "3    purple\n",
       "4    yellow\n",
       "5     white\n",
       "6       red\n",
       "7       red\n",
       "dtype: category\n",
       "Categories (6, object): ['blue', 'green', 'purple', 'red', 'white', 'yellow']"
      ]
     },
     "execution_count": 89,
     "metadata": {},
     "output_type": "execute_result"
    }
   ],
   "source": [
    "# convert to categorical\n",
    "colors_category = colors.astype(\"category\")\n",
    "colors_category"
   ]
  },
  {
   "cell_type": "code",
   "execution_count": 90,
   "id": "734b7aa3",
   "metadata": {},
   "outputs": [
    {
     "data": {
      "text/plain": [
       "CategoricalDtype(categories=['blue', 'green', 'purple', 'red', 'white', 'yellow'], ordered=False, categories_dtype=object)"
      ]
     },
     "execution_count": 90,
     "metadata": {},
     "output_type": "execute_result"
    }
   ],
   "source": [
    "colors_category.dtype"
   ]
  },
  {
   "cell_type": "code",
   "execution_count": 91,
   "id": "2912f7f4",
   "metadata": {},
   "outputs": [
    {
     "data": {
      "text/plain": [
       "Index(['blue', 'green', 'purple', 'red', 'white', 'yellow'], dtype='object')"
      ]
     },
     "execution_count": 91,
     "metadata": {},
     "output_type": "execute_result"
    }
   ],
   "source": [
    "colors_category.cat.categories"
   ]
  },
  {
   "cell_type": "code",
   "execution_count": 92,
   "id": "23acd7ab",
   "metadata": {},
   "outputs": [
    {
     "data": {
      "text/plain": [
       "False"
      ]
     },
     "execution_count": 92,
     "metadata": {},
     "output_type": "execute_result"
    }
   ],
   "source": [
    "colors_category.cat.ordered"
   ]
  },
  {
   "cell_type": "markdown",
   "id": "f4cb6b19",
   "metadata": {},
   "source": [
    "### Error Handling in Conversion"
   ]
  },
  {
   "cell_type": "code",
   "execution_count": 93,
   "id": "1d307c8f",
   "metadata": {},
   "outputs": [
    {
     "data": {
      "text/plain": [
       "0        1\n",
       "1        2\n",
       "2    Three\n",
       "3      4.5\n",
       "4        5\n",
       "dtype: object"
      ]
     },
     "execution_count": 93,
     "metadata": {},
     "output_type": "execute_result"
    }
   ],
   "source": [
    "s_with_error = pd.Series([\"1\", \"2\", \"Three\", \"4.5\", \"5\"])\n",
    "s_with_error"
   ]
  },
  {
   "cell_type": "code",
   "execution_count": 95,
   "id": "72bf47f8",
   "metadata": {},
   "outputs": [
    {
     "data": {
      "text/plain": [
       "0        1\n",
       "1        2\n",
       "2    Three\n",
       "3      4.5\n",
       "4        5\n",
       "dtype: object"
      ]
     },
     "execution_count": 95,
     "metadata": {},
     "output_type": "execute_result"
    }
   ],
   "source": [
    "s_with_error.astype(int, errors=\"ignore\")"
   ]
  }
 ],
 "metadata": {
  "kernelspec": {
   "display_name": "data-procvis",
   "language": "python",
   "name": "python3"
  },
  "language_info": {
   "codemirror_mode": {
    "name": "ipython",
    "version": 3
   },
   "file_extension": ".py",
   "mimetype": "text/x-python",
   "name": "python",
   "nbconvert_exporter": "python",
   "pygments_lexer": "ipython3",
   "version": "3.11.11"
  }
 },
 "nbformat": 4,
 "nbformat_minor": 5
}
